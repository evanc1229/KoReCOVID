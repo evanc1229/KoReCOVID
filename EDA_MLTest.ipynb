{
 "cells": [
  {
   "cell_type": "markdown",
   "id": "e23fed68-9034-4944-8451-e750f44ec809",
   "metadata": {},
   "source": [
    "# EDA COVID-19 DATA"
   ]
  },
  {
   "cell_type": "code",
   "execution_count": 1,
   "id": "ab643d59-79d5-4f5d-89b7-be138f20eb18",
   "metadata": {},
   "outputs": [],
   "source": [
    "import numpy as np\n",
    "import pandas as pd\n",
    "import seaborn as sns\n",
    "import matplotlib.pyplot as plt"
   ]
  },
  {
   "cell_type": "code",
   "execution_count": 2,
   "id": "7a0b0348-423e-4783-9f30-5d8205fb8dc4",
   "metadata": {},
   "outputs": [
    {
     "name": "stderr",
     "output_type": "stream",
     "text": [
      "/opt/conda/lib/python3.9/site-packages/IPython/core/interactiveshell.py:3457: DtypeWarning: Columns (6,33,34) have mixed types.Specify dtype option on import or set low_memory=False.\n",
      "  exec(code_obj, self.user_global_ns, self.user_ns)\n"
     ]
    }
   ],
   "source": [
    "#Importing the data\n",
    "df = pd.read_csv('../../Di/data/Pol5.csv')"
   ]
  },
  {
   "cell_type": "markdown",
   "id": "aee9130a-f160-4857-bdf0-b5db330e3c37",
   "metadata": {},
   "source": [
    "## Data Cleaning"
   ]
  },
  {
   "cell_type": "code",
   "execution_count": 3,
   "id": "4418cb92-a732-4033-8490-452e1872ab87",
   "metadata": {},
   "outputs": [
    {
     "data": {
      "text/html": [
       "<div>\n",
       "<style scoped>\n",
       "    .dataframe tbody tr th:only-of-type {\n",
       "        vertical-align: middle;\n",
       "    }\n",
       "\n",
       "    .dataframe tbody tr th {\n",
       "        vertical-align: top;\n",
       "    }\n",
       "\n",
       "    .dataframe thead th {\n",
       "        text-align: right;\n",
       "    }\n",
       "</style>\n",
       "<table border=\"1\" class=\"dataframe\">\n",
       "  <thead>\n",
       "    <tr style=\"text-align: right;\">\n",
       "      <th></th>\n",
       "      <th>time</th>\n",
       "      <th>id</th>\n",
       "      <th>text</th>\n",
       "      <th>user</th>\n",
       "      <th>uid</th>\n",
       "      <th>hashtag</th>\n",
       "      <th>symbol</th>\n",
       "      <th>mention_username</th>\n",
       "      <th>mention_id</th>\n",
       "      <th>mention_realname</th>\n",
       "      <th>...</th>\n",
       "      <th>rtusername</th>\n",
       "      <th>quote_count</th>\n",
       "      <th>reply_count</th>\n",
       "      <th>retweet_count</th>\n",
       "      <th>favorite_count</th>\n",
       "      <th>lang</th>\n",
       "      <th>rtb</th>\n",
       "      <th>rtcheck</th>\n",
       "      <th>mentioncheck</th>\n",
       "      <th>replycheck</th>\n",
       "    </tr>\n",
       "  </thead>\n",
       "  <tbody>\n",
       "    <tr>\n",
       "      <th>0</th>\n",
       "      <td>2020-05-14 20:20:03+00:00</td>\n",
       "      <td>1261028523772391424</td>\n",
       "      <td>Too many families were already struggling to n...</td>\n",
       "      <td>MurrayCampaign</td>\n",
       "      <td>158470209</td>\n",
       "      <td>NaN</td>\n",
       "      <td>NaN</td>\n",
       "      <td>NaN</td>\n",
       "      <td>NaN</td>\n",
       "      <td>NaN</td>\n",
       "      <td>...</td>\n",
       "      <td>NaN</td>\n",
       "      <td>0</td>\n",
       "      <td>0</td>\n",
       "      <td>0</td>\n",
       "      <td>0</td>\n",
       "      <td>en</td>\n",
       "      <td>False</td>\n",
       "      <td>False</td>\n",
       "      <td>False</td>\n",
       "      <td>False</td>\n",
       "    </tr>\n",
       "    <tr>\n",
       "      <th>1</th>\n",
       "      <td>2020-05-14 20:20:03+00:00</td>\n",
       "      <td>1261028524795838466</td>\n",
       "      <td>@realDonaldTrump @trish_regan China sent the v...</td>\n",
       "      <td>MariKay77</td>\n",
       "      <td>727153519</td>\n",
       "      <td>NaN</td>\n",
       "      <td>NaN</td>\n",
       "      <td>realDonaldTrump trish_regan</td>\n",
       "      <td>25073877 138182116</td>\n",
       "      <td>Donald J. Trump Trish Regan</td>\n",
       "      <td>...</td>\n",
       "      <td>NaN</td>\n",
       "      <td>0</td>\n",
       "      <td>0</td>\n",
       "      <td>0</td>\n",
       "      <td>0</td>\n",
       "      <td>en</td>\n",
       "      <td>True</td>\n",
       "      <td>False</td>\n",
       "      <td>True</td>\n",
       "      <td>True</td>\n",
       "    </tr>\n",
       "    <tr>\n",
       "      <th>2</th>\n",
       "      <td>2020-05-14 20:20:04+00:00</td>\n",
       "      <td>1261028526020538375</td>\n",
       "      <td>@eileeniorio @LotusOak2 @POTUS You are very na...</td>\n",
       "      <td>GlendaMcRose</td>\n",
       "      <td>1370806812</td>\n",
       "      <td>NaN</td>\n",
       "      <td>NaN</td>\n",
       "      <td>eileeniorio LotusOak2 POTUS</td>\n",
       "      <td>2932344645 424664120 822215679726100480</td>\n",
       "      <td>EileenIorio LotusOak President Trump</td>\n",
       "      <td>...</td>\n",
       "      <td>NaN</td>\n",
       "      <td>0</td>\n",
       "      <td>0</td>\n",
       "      <td>0</td>\n",
       "      <td>0</td>\n",
       "      <td>en</td>\n",
       "      <td>True</td>\n",
       "      <td>False</td>\n",
       "      <td>True</td>\n",
       "      <td>False</td>\n",
       "    </tr>\n",
       "    <tr>\n",
       "      <th>3</th>\n",
       "      <td>2020-05-14 20:20:04+00:00</td>\n",
       "      <td>1261028529451479048</td>\n",
       "      <td>@lien2marsha @OttoPardey @RepFredKeller @White...</td>\n",
       "      <td>jazbec_mike</td>\n",
       "      <td>965060983646572544</td>\n",
       "      <td>NaN</td>\n",
       "      <td>NaN</td>\n",
       "      <td>lien2marsha OttoPardey RepFredKeller WhiteHous...</td>\n",
       "      <td>3882819740 1260226019287601153 113606076142240...</td>\n",
       "      <td>Marsha Lien Otto Pardey Congressman Fred Kelle...</td>\n",
       "      <td>...</td>\n",
       "      <td>NaN</td>\n",
       "      <td>0</td>\n",
       "      <td>0</td>\n",
       "      <td>0</td>\n",
       "      <td>0</td>\n",
       "      <td>en</td>\n",
       "      <td>True</td>\n",
       "      <td>False</td>\n",
       "      <td>True</td>\n",
       "      <td>False</td>\n",
       "    </tr>\n",
       "    <tr>\n",
       "      <th>4</th>\n",
       "      <td>2020-05-14 20:20:06+00:00</td>\n",
       "      <td>1261028537995276294</td>\n",
       "      <td>@ProfFionasm @ChrisMurphyCT last leg delivery ...</td>\n",
       "      <td>thatotherGH</td>\n",
       "      <td>190373454</td>\n",
       "      <td>NaN</td>\n",
       "      <td>NaN</td>\n",
       "      <td>ProfFionasm ChrisMurphyCT</td>\n",
       "      <td>913093166638731264 150078976</td>\n",
       "      <td>Fiona Scott Morton Chris Murphy</td>\n",
       "      <td>...</td>\n",
       "      <td>NaN</td>\n",
       "      <td>0</td>\n",
       "      <td>0</td>\n",
       "      <td>0</td>\n",
       "      <td>0</td>\n",
       "      <td>en</td>\n",
       "      <td>True</td>\n",
       "      <td>False</td>\n",
       "      <td>True</td>\n",
       "      <td>False</td>\n",
       "    </tr>\n",
       "  </tbody>\n",
       "</table>\n",
       "<p>5 rows × 51 columns</p>\n",
       "</div>"
      ],
      "text/plain": [
       "                        time                   id  \\\n",
       "0  2020-05-14 20:20:03+00:00  1261028523772391424   \n",
       "1  2020-05-14 20:20:03+00:00  1261028524795838466   \n",
       "2  2020-05-14 20:20:04+00:00  1261028526020538375   \n",
       "3  2020-05-14 20:20:04+00:00  1261028529451479048   \n",
       "4  2020-05-14 20:20:06+00:00  1261028537995276294   \n",
       "\n",
       "                                                text            user  \\\n",
       "0  Too many families were already struggling to n...  MurrayCampaign   \n",
       "1  @realDonaldTrump @trish_regan China sent the v...       MariKay77   \n",
       "2  @eileeniorio @LotusOak2 @POTUS You are very na...    GlendaMcRose   \n",
       "3  @lien2marsha @OttoPardey @RepFredKeller @White...     jazbec_mike   \n",
       "4  @ProfFionasm @ChrisMurphyCT last leg delivery ...     thatotherGH   \n",
       "\n",
       "                  uid hashtag symbol  \\\n",
       "0           158470209     NaN    NaN   \n",
       "1           727153519     NaN    NaN   \n",
       "2          1370806812     NaN    NaN   \n",
       "3  965060983646572544     NaN    NaN   \n",
       "4           190373454     NaN    NaN   \n",
       "\n",
       "                                    mention_username  \\\n",
       "0                                                NaN   \n",
       "1                        realDonaldTrump trish_regan   \n",
       "2                        eileeniorio LotusOak2 POTUS   \n",
       "3  lien2marsha OttoPardey RepFredKeller WhiteHous...   \n",
       "4                          ProfFionasm ChrisMurphyCT   \n",
       "\n",
       "                                          mention_id  \\\n",
       "0                                                NaN   \n",
       "1                                 25073877 138182116   \n",
       "2            2932344645 424664120 822215679726100480   \n",
       "3  3882819740 1260226019287601153 113606076142240...   \n",
       "4                       913093166638731264 150078976   \n",
       "\n",
       "                                    mention_realname  ... rtusername  \\\n",
       "0                                                NaN  ...        NaN   \n",
       "1                        Donald J. Trump Trish Regan  ...        NaN   \n",
       "2               EileenIorio LotusOak President Trump  ...        NaN   \n",
       "3  Marsha Lien Otto Pardey Congressman Fred Kelle...  ...        NaN   \n",
       "4                    Fiona Scott Morton Chris Murphy  ...        NaN   \n",
       "\n",
       "  quote_count reply_count  retweet_count  favorite_count lang    rtb rtcheck  \\\n",
       "0           0           0              0               0   en  False   False   \n",
       "1           0           0              0               0   en   True   False   \n",
       "2           0           0              0               0   en   True   False   \n",
       "3           0           0              0               0   en   True   False   \n",
       "4           0           0              0               0   en   True   False   \n",
       "\n",
       "   mentioncheck  replycheck  \n",
       "0         False       False  \n",
       "1          True        True  \n",
       "2          True       False  \n",
       "3          True       False  \n",
       "4          True       False  \n",
       "\n",
       "[5 rows x 51 columns]"
      ]
     },
     "execution_count": 3,
     "metadata": {},
     "output_type": "execute_result"
    }
   ],
   "source": [
    "df.head()"
   ]
  },
  {
   "cell_type": "code",
   "execution_count": 9,
   "id": "0d84bc47-7b4e-4b46-aebb-aa2a7375bb32",
   "metadata": {},
   "outputs": [
    {
     "name": "stdout",
     "output_type": "stream",
     "text": [
      "time                          0.000000\n",
      "id                            0.000000\n",
      "text                          0.000000\n",
      "user                          0.000000\n",
      "uid                           0.000000\n",
      "mention_username              0.723220\n",
      "mention_id                    0.723220\n",
      "mention_realname              0.723220\n",
      "url                          22.653821\n",
      "expanded_url                 22.653821\n",
      "source                        0.000000\n",
      "in_reply_to_id               13.771711\n",
      "in_reply_to_uid               7.563737\n",
      "in_reply_to_username          7.563737\n",
      "user_loc                     43.649626\n",
      "user_created_at               0.000000\n",
      "user_follower_count           0.000000\n",
      "user_favorite_count           0.000000\n",
      "user_friends_count            0.000000\n",
      "user_status_count             0.000000\n",
      "user_listed_count             0.000000\n",
      "user_description             26.039959\n",
      "user_protected                0.000000\n",
      "user_geo_enabled              0.000000\n",
      "user_contributors_enabled     0.000000\n",
      "user_is_translator            0.000000\n",
      "user_verified                 0.000000\n",
      "quote                         0.000000\n",
      "retweet                       0.000000\n",
      "quote_count                   0.000000\n",
      "reply_count                   0.000000\n",
      "retweet_count                 0.000000\n",
      "favorite_count                0.000000\n",
      "lang                          0.000000\n",
      "rtb                           0.000000\n",
      "rtcheck                       0.000000\n",
      "mentioncheck                  0.000000\n",
      "replycheck                    0.000000\n",
      "dtype: float64\n"
     ]
    }
   ],
   "source": [
    "#First I want to get a sense of the missing data\n",
    "null_vals = 100 * df.isnull().sum() / len(df) #Here I express the number of null values for each column as a percentage of the total rows\n",
    "print(null_vals)"
   ]
  },
  {
   "cell_type": "code",
   "execution_count": 10,
   "id": "1d558e22-2d18-4d95-9e10-2d71ba3a139b",
   "metadata": {},
   "outputs": [],
   "source": [
    "# I am going to go ahead and drop any column that is over 90% null as they are not going to add any value to the dataset\n",
    "df = df.drop(null_vals[null_vals >= 75].index, axis=1)"
   ]
  },
  {
   "cell_type": "code",
   "execution_count": 11,
   "id": "09b2e8d2-42b1-4502-a9a2-f59d0ba160a8",
   "metadata": {},
   "outputs": [
    {
     "name": "stdout",
     "output_type": "stream",
     "text": [
      "time                          0.000000\n",
      "id                            0.000000\n",
      "text                          0.000000\n",
      "user                          0.000000\n",
      "uid                           0.000000\n",
      "mention_username              0.723220\n",
      "mention_id                    0.723220\n",
      "mention_realname              0.723220\n",
      "url                          22.653821\n",
      "expanded_url                 22.653821\n",
      "source                        0.000000\n",
      "in_reply_to_id               13.771711\n",
      "in_reply_to_uid               7.563737\n",
      "in_reply_to_username          7.563737\n",
      "user_loc                     43.649626\n",
      "user_created_at               0.000000\n",
      "user_follower_count           0.000000\n",
      "user_favorite_count           0.000000\n",
      "user_friends_count            0.000000\n",
      "user_status_count             0.000000\n",
      "user_listed_count             0.000000\n",
      "user_description             26.039959\n",
      "user_protected                0.000000\n",
      "user_geo_enabled              0.000000\n",
      "user_contributors_enabled     0.000000\n",
      "user_is_translator            0.000000\n",
      "user_verified                 0.000000\n",
      "quote                         0.000000\n",
      "retweet                       0.000000\n",
      "quote_count                   0.000000\n",
      "reply_count                   0.000000\n",
      "retweet_count                 0.000000\n",
      "favorite_count                0.000000\n",
      "lang                          0.000000\n",
      "rtb                           0.000000\n",
      "rtcheck                       0.000000\n",
      "mentioncheck                  0.000000\n",
      "replycheck                    0.000000\n",
      "dtype: float64\n"
     ]
    }
   ],
   "source": [
    "#Okay let's look at this again\n",
    "null_vals = 100 * df.isnull().sum() / len(df) \n",
    "print(null_vals)"
   ]
  },
  {
   "cell_type": "code",
   "execution_count": 12,
   "id": "1ecd3df1-2967-47e5-8cf5-82062e8117b5",
   "metadata": {},
   "outputs": [
    {
     "data": {
      "text/plain": [
       "time    datetime64[ns, UTC]\n",
       "id                    int64\n",
       "text                 object\n",
       "user                 object\n",
       "uid                   int64\n",
       "dtype: object"
      ]
     },
     "execution_count": 12,
     "metadata": {},
     "output_type": "execute_result"
    }
   ],
   "source": [
    "#Next, I would like to make sure the dates are in date time format\n",
    "df.dtypes[:5]"
   ]
  },
  {
   "cell_type": "code",
   "execution_count": 13,
   "id": "c7b701d2-75c7-453f-8b7a-0e9e31a15058",
   "metadata": {},
   "outputs": [],
   "source": [
    "df['time'] = df['time'].apply(lambda timestamp : pd.to_datetime(timestamp))"
   ]
  },
  {
   "cell_type": "code",
   "execution_count": 14,
   "id": "2c18b57e-95e9-476b-9d53-94d8e9878862",
   "metadata": {},
   "outputs": [
    {
     "data": {
      "text/plain": [
       "array([False])"
      ]
     },
     "execution_count": 14,
     "metadata": {},
     "output_type": "execute_result"
    }
   ],
   "source": [
    "#Lets take a look at the retweet column\n",
    "df.retweet.unique()"
   ]
  },
  {
   "cell_type": "code",
   "execution_count": 15,
   "id": "18d687a7-f7d1-4b20-9ddf-8e13f40bd6f6",
   "metadata": {},
   "outputs": [],
   "source": [
    "#It looks like this category is useless as retweets have already been filtered out so dropping this\n",
    "df = df.drop('retweet',axis=1)"
   ]
  },
  {
   "cell_type": "code",
   "execution_count": 16,
   "id": "f4ce0b07-e434-4d1b-b78b-8821b270e073",
   "metadata": {},
   "outputs": [],
   "source": [
    "#for i in df.columns:\n",
    "    #if (i != 'text'):\n",
    "        #print(df[i].value_counts())\n",
    "        #print('––––––––––––––––––––')"
   ]
  },
  {
   "cell_type": "code",
   "execution_count": 17,
   "id": "b932f4a4-94a1-4bf0-abb4-775339468e47",
   "metadata": {},
   "outputs": [],
   "source": [
    "#Dropping all of the valueless information like columns that are all one value or all null\n",
    "df = df.drop(['rtcheck','favorite_count','retweet_count','reply_count',\n",
    "         'quote_count','quote','user_is_translator',\n",
    "         'user_contributors_enabled','user_protected'], axis=1)"
   ]
  },
  {
   "cell_type": "code",
   "execution_count": 18,
   "id": "173c9bdf-1552-40e2-adab-85ca6497605e",
   "metadata": {},
   "outputs": [
    {
     "name": "stderr",
     "output_type": "stream",
     "text": [
      "/tmp/ipykernel_13105/1906549374.py:3: FutureWarning: weekofyear and week have been deprecated, please use DatetimeIndex.isocalendar().week instead, which returns a Series.  To exactly reproduce the behavior of week and weekofyear and return an Index, you may call pd.Int64Index(idx.isocalendar().week)\n",
      "  df['week'] = df['time'].apply(lambda date: date.week)\n"
     ]
    }
   ],
   "source": [
    "#Extracting the weeks and months from the dates\n",
    "df['month'] = df['time'].apply(lambda date: date.month)\n",
    "df['week'] = df['time'].apply(lambda date: date.week)"
   ]
  },
  {
   "cell_type": "code",
   "execution_count": 19,
   "id": "a504c517-211f-4193-8a33-2d716a30585c",
   "metadata": {},
   "outputs": [
    {
     "data": {
      "text/plain": [
       "<AxesSubplot:title={'center':'Plot of number of tweets per month'}, xlabel='month', ylabel='Count'>"
      ]
     },
     "execution_count": 19,
     "metadata": {},
     "output_type": "execute_result"
    },
    {
     "data": {
      "image/png": "[encoded data removed]",
      "text/plain": [
       "<Figure size 864x576 with 1 Axes>"
      ]
     },
     "metadata": {
      "needs_background": "light"
     },
     "output_type": "display_data"
    }
   ],
   "source": [
    "#Lets get a better idea of how tweet volume varies over time\n",
    "plt.figure(figsize=(12,8))\n",
    "plt.title('Plot of number of tweets per month')\n",
    "sns.histplot(data=df, x='month')"
   ]
  },
  {
   "cell_type": "code",
   "execution_count": 20,
   "id": "fef6f291-c22b-4b6e-b33b-027a1bd73e6d",
   "metadata": {},
   "outputs": [
    {
     "data": {
      "text/plain": [
       "<AxesSubplot:title={'center':'Plot of number of tweets per week'}, xlabel='week', ylabel='Count'>"
      ]
     },
     "execution_count": 20,
     "metadata": {},
     "output_type": "execute_result"
    },
    {
     "data": {
      "image/png": "[encoded data removed]",
      "text/plain": [
       "<Figure size 864x576 with 1 Axes>"
      ]
     },
     "metadata": {
      "needs_background": "light"
     },
     "output_type": "display_data"
    }
   ],
   "source": [
    "#Lets get a better idea of how tweet volume varies over time\n",
    "plt.figure(figsize=(12,8))\n",
    "plt.title('Plot of number of tweets per week')\n",
    "sns.histplot(data=df, x='week')"
   ]
  },
  {
   "cell_type": "code",
   "execution_count": 21,
   "id": "179c034d-93f2-4f9f-89e5-f3b61c9929de",
   "metadata": {},
   "outputs": [
    {
     "data": {
      "text/html": [
       "<div>\n",
       "<style scoped>\n",
       "    .dataframe tbody tr th:only-of-type {\n",
       "        vertical-align: middle;\n",
       "    }\n",
       "\n",
       "    .dataframe tbody tr th {\n",
       "        vertical-align: top;\n",
       "    }\n",
       "\n",
       "    .dataframe thead th {\n",
       "        text-align: right;\n",
       "    }\n",
       "</style>\n",
       "<table border=\"1\" class=\"dataframe\">\n",
       "  <thead>\n",
       "    <tr style=\"text-align: right;\">\n",
       "      <th></th>\n",
       "      <th>time</th>\n",
       "      <th>id</th>\n",
       "      <th>text</th>\n",
       "      <th>user</th>\n",
       "      <th>uid</th>\n",
       "      <th>mention_username</th>\n",
       "      <th>mention_id</th>\n",
       "      <th>mention_realname</th>\n",
       "      <th>url</th>\n",
       "      <th>expanded_url</th>\n",
       "      <th>...</th>\n",
       "      <th>user_listed_count</th>\n",
       "      <th>user_description</th>\n",
       "      <th>user_geo_enabled</th>\n",
       "      <th>user_verified</th>\n",
       "      <th>lang</th>\n",
       "      <th>rtb</th>\n",
       "      <th>mentioncheck</th>\n",
       "      <th>replycheck</th>\n",
       "      <th>month</th>\n",
       "      <th>week</th>\n",
       "    </tr>\n",
       "  </thead>\n",
       "  <tbody>\n",
       "    <tr>\n",
       "      <th>0</th>\n",
       "      <td>2020-05-14 20:20:03+00:00</td>\n",
       "      <td>1261028523772391424</td>\n",
       "      <td>Too many families were already struggling to n...</td>\n",
       "      <td>MurrayCampaign</td>\n",
       "      <td>158470209</td>\n",
       "      <td>NaN</td>\n",
       "      <td>NaN</td>\n",
       "      <td>NaN</td>\n",
       "      <td>https://t.co/bC9V4gBcyo</td>\n",
       "      <td>https://twitter.com/i/web/status/1261028523772...</td>\n",
       "      <td>...</td>\n",
       "      <td>895</td>\n",
       "      <td>Senior U.S. Senator from the great state of Wa...</td>\n",
       "      <td>False</td>\n",
       "      <td>True</td>\n",
       "      <td>en</td>\n",
       "      <td>False</td>\n",
       "      <td>False</td>\n",
       "      <td>False</td>\n",
       "      <td>5</td>\n",
       "      <td>20</td>\n",
       "    </tr>\n",
       "    <tr>\n",
       "      <th>1</th>\n",
       "      <td>2020-05-14 20:20:03+00:00</td>\n",
       "      <td>1261028524795838466</td>\n",
       "      <td>@realDonaldTrump @trish_regan China sent the v...</td>\n",
       "      <td>MariKay77</td>\n",
       "      <td>727153519</td>\n",
       "      <td>realDonaldTrump trish_regan</td>\n",
       "      <td>25073877 138182116</td>\n",
       "      <td>Donald J. Trump Trish Regan</td>\n",
       "      <td>https://t.co/Ru0xA0e9Rn</td>\n",
       "      <td>https://twitter.com/i/web/status/1261028524795...</td>\n",
       "      <td>...</td>\n",
       "      <td>6</td>\n",
       "      <td>NaN</td>\n",
       "      <td>False</td>\n",
       "      <td>False</td>\n",
       "      <td>en</td>\n",
       "      <td>True</td>\n",
       "      <td>True</td>\n",
       "      <td>True</td>\n",
       "      <td>5</td>\n",
       "      <td>20</td>\n",
       "    </tr>\n",
       "    <tr>\n",
       "      <th>2</th>\n",
       "      <td>2020-05-14 20:20:04+00:00</td>\n",
       "      <td>1261028526020538375</td>\n",
       "      <td>@eileeniorio @LotusOak2 @POTUS You are very na...</td>\n",
       "      <td>GlendaMcRose</td>\n",
       "      <td>1370806812</td>\n",
       "      <td>eileeniorio LotusOak2 POTUS</td>\n",
       "      <td>2932344645 424664120 822215679726100480</td>\n",
       "      <td>EileenIorio LotusOak President Trump</td>\n",
       "      <td>https://t.co/CDlWvD59ro</td>\n",
       "      <td>https://twitter.com/i/web/status/1261028526020...</td>\n",
       "      <td>...</td>\n",
       "      <td>103</td>\n",
       "      <td>“Just because a man has died for it, does not ...</td>\n",
       "      <td>True</td>\n",
       "      <td>False</td>\n",
       "      <td>en</td>\n",
       "      <td>True</td>\n",
       "      <td>True</td>\n",
       "      <td>False</td>\n",
       "      <td>5</td>\n",
       "      <td>20</td>\n",
       "    </tr>\n",
       "    <tr>\n",
       "      <th>3</th>\n",
       "      <td>2020-05-14 20:20:04+00:00</td>\n",
       "      <td>1261028529451479048</td>\n",
       "      <td>@lien2marsha @OttoPardey @RepFredKeller @White...</td>\n",
       "      <td>jazbec_mike</td>\n",
       "      <td>965060983646572544</td>\n",
       "      <td>lien2marsha OttoPardey RepFredKeller WhiteHous...</td>\n",
       "      <td>3882819740 1260226019287601153 113606076142240...</td>\n",
       "      <td>Marsha Lien Otto Pardey Congressman Fred Kelle...</td>\n",
       "      <td>https://t.co/wPGVpx4jji</td>\n",
       "      <td>https://twitter.com/i/web/status/1261028529451...</td>\n",
       "      <td>...</td>\n",
       "      <td>0</td>\n",
       "      <td>NaN</td>\n",
       "      <td>False</td>\n",
       "      <td>False</td>\n",
       "      <td>en</td>\n",
       "      <td>True</td>\n",
       "      <td>True</td>\n",
       "      <td>False</td>\n",
       "      <td>5</td>\n",
       "      <td>20</td>\n",
       "    </tr>\n",
       "    <tr>\n",
       "      <th>4</th>\n",
       "      <td>2020-05-14 20:20:06+00:00</td>\n",
       "      <td>1261028537995276294</td>\n",
       "      <td>@ProfFionasm @ChrisMurphyCT last leg delivery ...</td>\n",
       "      <td>thatotherGH</td>\n",
       "      <td>190373454</td>\n",
       "      <td>ProfFionasm ChrisMurphyCT</td>\n",
       "      <td>913093166638731264 150078976</td>\n",
       "      <td>Fiona Scott Morton Chris Murphy</td>\n",
       "      <td>https://t.co/Dc3wyhnyeo</td>\n",
       "      <td>https://twitter.com/i/web/status/1261028537995...</td>\n",
       "      <td>...</td>\n",
       "      <td>0</td>\n",
       "      <td>NaN</td>\n",
       "      <td>False</td>\n",
       "      <td>False</td>\n",
       "      <td>en</td>\n",
       "      <td>True</td>\n",
       "      <td>True</td>\n",
       "      <td>False</td>\n",
       "      <td>5</td>\n",
       "      <td>20</td>\n",
       "    </tr>\n",
       "  </tbody>\n",
       "</table>\n",
       "<p>5 rows × 30 columns</p>\n",
       "</div>"
      ],
      "text/plain": [
       "                       time                   id  \\\n",
       "0 2020-05-14 20:20:03+00:00  1261028523772391424   \n",
       "1 2020-05-14 20:20:03+00:00  1261028524795838466   \n",
       "2 2020-05-14 20:20:04+00:00  1261028526020538375   \n",
       "3 2020-05-14 20:20:04+00:00  1261028529451479048   \n",
       "4 2020-05-14 20:20:06+00:00  1261028537995276294   \n",
       "\n",
       "                                                text            user  \\\n",
       "0  Too many families were already struggling to n...  MurrayCampaign   \n",
       "1  @realDonaldTrump @trish_regan China sent the v...       MariKay77   \n",
       "2  @eileeniorio @LotusOak2 @POTUS You are very na...    GlendaMcRose   \n",
       "3  @lien2marsha @OttoPardey @RepFredKeller @White...     jazbec_mike   \n",
       "4  @ProfFionasm @ChrisMurphyCT last leg delivery ...     thatotherGH   \n",
       "\n",
       "                  uid                                   mention_username  \\\n",
       "0           158470209                                                NaN   \n",
       "1           727153519                        realDonaldTrump trish_regan   \n",
       "2          1370806812                        eileeniorio LotusOak2 POTUS   \n",
       "3  965060983646572544  lien2marsha OttoPardey RepFredKeller WhiteHous...   \n",
       "4           190373454                          ProfFionasm ChrisMurphyCT   \n",
       "\n",
       "                                          mention_id  \\\n",
       "0                                                NaN   \n",
       "1                                 25073877 138182116   \n",
       "2            2932344645 424664120 822215679726100480   \n",
       "3  3882819740 1260226019287601153 113606076142240...   \n",
       "4                       913093166638731264 150078976   \n",
       "\n",
       "                                    mention_realname                      url  \\\n",
       "0                                                NaN  https://t.co/bC9V4gBcyo   \n",
       "1                        Donald J. Trump Trish Regan  https://t.co/Ru0xA0e9Rn   \n",
       "2               EileenIorio LotusOak President Trump  https://t.co/CDlWvD59ro   \n",
       "3  Marsha Lien Otto Pardey Congressman Fred Kelle...  https://t.co/wPGVpx4jji   \n",
       "4                    Fiona Scott Morton Chris Murphy  https://t.co/Dc3wyhnyeo   \n",
       "\n",
       "                                        expanded_url  ... user_listed_count  \\\n",
       "0  https://twitter.com/i/web/status/1261028523772...  ...               895   \n",
       "1  https://twitter.com/i/web/status/1261028524795...  ...                 6   \n",
       "2  https://twitter.com/i/web/status/1261028526020...  ...               103   \n",
       "3  https://twitter.com/i/web/status/1261028529451...  ...                 0   \n",
       "4  https://twitter.com/i/web/status/1261028537995...  ...                 0   \n",
       "\n",
       "                                    user_description  user_geo_enabled  \\\n",
       "0  Senior U.S. Senator from the great state of Wa...             False   \n",
       "1                                                NaN             False   \n",
       "2  “Just because a man has died for it, does not ...              True   \n",
       "3                                                NaN             False   \n",
       "4                                                NaN             False   \n",
       "\n",
       "  user_verified lang    rtb  mentioncheck  replycheck  month  week  \n",
       "0          True   en  False         False       False      5    20  \n",
       "1         False   en   True          True        True      5    20  \n",
       "2         False   en   True          True       False      5    20  \n",
       "3         False   en   True          True       False      5    20  \n",
       "4         False   en   True          True       False      5    20  \n",
       "\n",
       "[5 rows x 30 columns]"
      ]
     },
     "execution_count": 21,
     "metadata": {},
     "output_type": "execute_result"
    }
   ],
   "source": [
    "df.head()"
   ]
  },
  {
   "cell_type": "code",
   "execution_count": 22,
   "id": "091685ec-50b6-4a21-b4fd-d7c328bc67b4",
   "metadata": {},
   "outputs": [
    {
     "name": "stderr",
     "output_type": "stream",
     "text": [
      "2022-04-10 01:18:10.866862: W tensorflow/stream_executor/platform/default/dso_loader.cc:64] Could not load dynamic library 'libcudart.so.11.0'; dlerror: libcudart.so.11.0: cannot open shared object file: No such file or directory\n",
      "2022-04-10 01:18:10.866897: I tensorflow/stream_executor/cuda/cudart_stub.cc:29] Ignore above cudart dlerror if you do not have a GPU set up on your machine.\n"
     ]
    }
   ],
   "source": [
    "#Now I will create labled data for testing with liwc\n",
    "import liwc\n",
    "import spacy"
   ]
  },
  {
   "cell_type": "code",
   "execution_count": 23,
   "id": "93adcdfa-89fa-49b9-9adf-d9992fbe2122",
   "metadata": {},
   "outputs": [],
   "source": [
    "#Setting up our LIWC Analysis\n",
    "parse, category_names = liwc.load_token_parser('../LIWC2015_English.dic')"
   ]
  },
  {
   "cell_type": "code",
   "execution_count": 24,
   "id": "67abcf87-ee17-473b-bdca-f49738f93409",
   "metadata": {},
   "outputs": [],
   "source": [
    "nlp = spacy.load('en_core_web_sm')"
   ]
  },
  {
   "cell_type": "code",
   "execution_count": 25,
   "id": "a0ff52e5-b4a7-434f-9190-fa7674429e30",
   "metadata": {},
   "outputs": [],
   "source": [
    "df['lemmas'] = df['text'].apply(lambda words : [i.lemma_ for i in nlp(words)])"
   ]
  },
  {
   "cell_type": "code",
   "execution_count": 26,
   "id": "05b30797-246f-4c7c-b99f-09c62240d7a0",
   "metadata": {},
   "outputs": [],
   "source": [
    "#Counting the words of each catagory\n",
    "from collections import Counter\n",
    "df['labels'] = df['lemmas'].apply(lambda lems : dict(sorted(Counter(category for token in lems for category in parse(token)).items(),\n",
    "    reverse=True,key=lambda x : x[1])))"
   ]
  },
  {
   "cell_type": "code",
   "execution_count": null,
   "id": "c461595c-7239-49d0-9c39-6a46073b4bdf",
   "metadata": {},
   "outputs": [],
   "source": []
  }
 ],
 "metadata": {
  "kernelspec": {
   "display_name": "Python 3 (ipykernel)",
   "language": "python",
   "name": "python3"
  },
  "language_info": {
   "codemirror_mode": {
    "name": "ipython",
    "version": 3
   },
   "file_extension": ".py",
   "mimetype": "text/x-python",
   "name": "python",
   "nbconvert_exporter": "python",
   "pygments_lexer": "ipython3",
   "version": "3.9.7"
  }
 },
 "nbformat": 4,
 "nbformat_minor": 5
}
