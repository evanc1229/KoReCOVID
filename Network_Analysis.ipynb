{
 "cells": [
  {
   "cell_type": "code",
   "execution_count": 1,
   "id": "11756b71-b2c7-4caf-ab9d-6fe667c18646",
   "metadata": {},
   "outputs": [],
   "source": [
    "import pandas as pd\n",
    "import seaborn as sns\n",
    "import matplotlib.pyplot as plt\n",
    "import numpy as np\n",
    "import networkx as nx"
   ]
  },
  {
   "cell_type": "code",
   "execution_count": 4,
   "id": "919298fb-18e1-4e7f-b402-5f6efeacf3a2",
   "metadata": {},
   "outputs": [],
   "source": [
    "df = pd.read_csv('/notebooks/evanc/KoReCOVID/resources/Pol5_Clean.csv')"
   ]
  },
  {
   "cell_type": "code",
   "execution_count": 5,
   "id": "1511c6f0-6c79-46fb-8061-3c15c6ae32f2",
   "metadata": {},
   "outputs": [
    {
     "data": {
      "text/html": [
       "<div>\n",
       "<style scoped>\n",
       "    .dataframe tbody tr th:only-of-type {\n",
       "        vertical-align: middle;\n",
       "    }\n",
       "\n",
       "    .dataframe tbody tr th {\n",
       "        vertical-align: top;\n",
       "    }\n",
       "\n",
       "    .dataframe thead th {\n",
       "        text-align: right;\n",
       "    }\n",
       "</style>\n",
       "<table border=\"1\" class=\"dataframe\">\n",
       "  <thead>\n",
       "    <tr style=\"text-align: right;\">\n",
       "      <th></th>\n",
       "      <th>Unnamed: 0</th>\n",
       "      <th>time</th>\n",
       "      <th>id</th>\n",
       "      <th>text</th>\n",
       "      <th>user</th>\n",
       "      <th>uid</th>\n",
       "      <th>mention_username</th>\n",
       "      <th>mention_id</th>\n",
       "      <th>mention_realname</th>\n",
       "      <th>url</th>\n",
       "      <th>...</th>\n",
       "      <th>user_listed_count</th>\n",
       "      <th>user_description</th>\n",
       "      <th>user_geo_enabled</th>\n",
       "      <th>user_verified</th>\n",
       "      <th>lang</th>\n",
       "      <th>rtb</th>\n",
       "      <th>mentioncheck</th>\n",
       "      <th>replycheck</th>\n",
       "      <th>month</th>\n",
       "      <th>week</th>\n",
       "    </tr>\n",
       "  </thead>\n",
       "  <tbody>\n",
       "    <tr>\n",
       "      <th>0</th>\n",
       "      <td>0</td>\n",
       "      <td>2020-05-14 20:20:03+00:00</td>\n",
       "      <td>1261028523772391424</td>\n",
       "      <td>Too many families were already struggling to n...</td>\n",
       "      <td>MurrayCampaign</td>\n",
       "      <td>158470209</td>\n",
       "      <td>NaN</td>\n",
       "      <td>NaN</td>\n",
       "      <td>NaN</td>\n",
       "      <td>https://t.co/bC9V4gBcyo</td>\n",
       "      <td>...</td>\n",
       "      <td>895</td>\n",
       "      <td>Senior U.S. Senator from the great state of Wa...</td>\n",
       "      <td>False</td>\n",
       "      <td>True</td>\n",
       "      <td>en</td>\n",
       "      <td>False</td>\n",
       "      <td>False</td>\n",
       "      <td>False</td>\n",
       "      <td>5</td>\n",
       "      <td>20</td>\n",
       "    </tr>\n",
       "    <tr>\n",
       "      <th>1</th>\n",
       "      <td>1</td>\n",
       "      <td>2020-05-14 20:20:03+00:00</td>\n",
       "      <td>1261028524795838466</td>\n",
       "      <td>@realDonaldTrump @trish_regan China sent the v...</td>\n",
       "      <td>MariKay77</td>\n",
       "      <td>727153519</td>\n",
       "      <td>realDonaldTrump trish_regan</td>\n",
       "      <td>25073877 138182116</td>\n",
       "      <td>Donald J. Trump Trish Regan</td>\n",
       "      <td>https://t.co/Ru0xA0e9Rn</td>\n",
       "      <td>...</td>\n",
       "      <td>6</td>\n",
       "      <td>NaN</td>\n",
       "      <td>False</td>\n",
       "      <td>False</td>\n",
       "      <td>en</td>\n",
       "      <td>True</td>\n",
       "      <td>True</td>\n",
       "      <td>True</td>\n",
       "      <td>5</td>\n",
       "      <td>20</td>\n",
       "    </tr>\n",
       "    <tr>\n",
       "      <th>2</th>\n",
       "      <td>2</td>\n",
       "      <td>2020-05-14 20:20:04+00:00</td>\n",
       "      <td>1261028526020538375</td>\n",
       "      <td>@eileeniorio @LotusOak2 @POTUS You are very na...</td>\n",
       "      <td>GlendaMcRose</td>\n",
       "      <td>1370806812</td>\n",
       "      <td>eileeniorio LotusOak2 POTUS</td>\n",
       "      <td>2932344645 424664120 822215679726100480</td>\n",
       "      <td>EileenIorio LotusOak President Trump</td>\n",
       "      <td>https://t.co/CDlWvD59ro</td>\n",
       "      <td>...</td>\n",
       "      <td>103</td>\n",
       "      <td>“Just because a man has died for it, does not ...</td>\n",
       "      <td>True</td>\n",
       "      <td>False</td>\n",
       "      <td>en</td>\n",
       "      <td>True</td>\n",
       "      <td>True</td>\n",
       "      <td>False</td>\n",
       "      <td>5</td>\n",
       "      <td>20</td>\n",
       "    </tr>\n",
       "    <tr>\n",
       "      <th>3</th>\n",
       "      <td>3</td>\n",
       "      <td>2020-05-14 20:20:04+00:00</td>\n",
       "      <td>1261028529451479048</td>\n",
       "      <td>@lien2marsha @OttoPardey @RepFredKeller @White...</td>\n",
       "      <td>jazbec_mike</td>\n",
       "      <td>965060983646572544</td>\n",
       "      <td>lien2marsha OttoPardey RepFredKeller WhiteHous...</td>\n",
       "      <td>3882819740 1260226019287601153 113606076142240...</td>\n",
       "      <td>Marsha Lien Otto Pardey Congressman Fred Kelle...</td>\n",
       "      <td>https://t.co/wPGVpx4jji</td>\n",
       "      <td>...</td>\n",
       "      <td>0</td>\n",
       "      <td>NaN</td>\n",
       "      <td>False</td>\n",
       "      <td>False</td>\n",
       "      <td>en</td>\n",
       "      <td>True</td>\n",
       "      <td>True</td>\n",
       "      <td>False</td>\n",
       "      <td>5</td>\n",
       "      <td>20</td>\n",
       "    </tr>\n",
       "    <tr>\n",
       "      <th>4</th>\n",
       "      <td>4</td>\n",
       "      <td>2020-05-14 20:20:06+00:00</td>\n",
       "      <td>1261028537995276294</td>\n",
       "      <td>@ProfFionasm @ChrisMurphyCT last leg delivery ...</td>\n",
       "      <td>thatotherGH</td>\n",
       "      <td>190373454</td>\n",
       "      <td>ProfFionasm ChrisMurphyCT</td>\n",
       "      <td>913093166638731264 150078976</td>\n",
       "      <td>Fiona Scott Morton Chris Murphy</td>\n",
       "      <td>https://t.co/Dc3wyhnyeo</td>\n",
       "      <td>...</td>\n",
       "      <td>0</td>\n",
       "      <td>NaN</td>\n",
       "      <td>False</td>\n",
       "      <td>False</td>\n",
       "      <td>en</td>\n",
       "      <td>True</td>\n",
       "      <td>True</td>\n",
       "      <td>False</td>\n",
       "      <td>5</td>\n",
       "      <td>20</td>\n",
       "    </tr>\n",
       "  </tbody>\n",
       "</table>\n",
       "<p>5 rows × 31 columns</p>\n",
       "</div>"
      ],
      "text/plain": [
       "   Unnamed: 0                       time                   id  \\\n",
       "0           0  2020-05-14 20:20:03+00:00  1261028523772391424   \n",
       "1           1  2020-05-14 20:20:03+00:00  1261028524795838466   \n",
       "2           2  2020-05-14 20:20:04+00:00  1261028526020538375   \n",
       "3           3  2020-05-14 20:20:04+00:00  1261028529451479048   \n",
       "4           4  2020-05-14 20:20:06+00:00  1261028537995276294   \n",
       "\n",
       "                                                text            user  \\\n",
       "0  Too many families were already struggling to n...  MurrayCampaign   \n",
       "1  @realDonaldTrump @trish_regan China sent the v...       MariKay77   \n",
       "2  @eileeniorio @LotusOak2 @POTUS You are very na...    GlendaMcRose   \n",
       "3  @lien2marsha @OttoPardey @RepFredKeller @White...     jazbec_mike   \n",
       "4  @ProfFionasm @ChrisMurphyCT last leg delivery ...     thatotherGH   \n",
       "\n",
       "                  uid                                   mention_username  \\\n",
       "0           158470209                                                NaN   \n",
       "1           727153519                        realDonaldTrump trish_regan   \n",
       "2          1370806812                        eileeniorio LotusOak2 POTUS   \n",
       "3  965060983646572544  lien2marsha OttoPardey RepFredKeller WhiteHous...   \n",
       "4           190373454                          ProfFionasm ChrisMurphyCT   \n",
       "\n",
       "                                          mention_id  \\\n",
       "0                                                NaN   \n",
       "1                                 25073877 138182116   \n",
       "2            2932344645 424664120 822215679726100480   \n",
       "3  3882819740 1260226019287601153 113606076142240...   \n",
       "4                       913093166638731264 150078976   \n",
       "\n",
       "                                    mention_realname                      url  \\\n",
       "0                                                NaN  https://t.co/bC9V4gBcyo   \n",
       "1                        Donald J. Trump Trish Regan  https://t.co/Ru0xA0e9Rn   \n",
       "2               EileenIorio LotusOak President Trump  https://t.co/CDlWvD59ro   \n",
       "3  Marsha Lien Otto Pardey Congressman Fred Kelle...  https://t.co/wPGVpx4jji   \n",
       "4                    Fiona Scott Morton Chris Murphy  https://t.co/Dc3wyhnyeo   \n",
       "\n",
       "   ... user_listed_count                                   user_description  \\\n",
       "0  ...               895  Senior U.S. Senator from the great state of Wa...   \n",
       "1  ...                 6                                                NaN   \n",
       "2  ...               103  “Just because a man has died for it, does not ...   \n",
       "3  ...                 0                                                NaN   \n",
       "4  ...                 0                                                NaN   \n",
       "\n",
       "   user_geo_enabled  user_verified lang    rtb mentioncheck  replycheck  \\\n",
       "0             False           True   en  False        False       False   \n",
       "1             False          False   en   True         True        True   \n",
       "2              True          False   en   True         True       False   \n",
       "3             False          False   en   True         True       False   \n",
       "4             False          False   en   True         True       False   \n",
       "\n",
       "   month  week  \n",
       "0      5    20  \n",
       "1      5    20  \n",
       "2      5    20  \n",
       "3      5    20  \n",
       "4      5    20  \n",
       "\n",
       "[5 rows x 31 columns]"
      ]
     },
     "execution_count": 5,
     "metadata": {},
     "output_type": "execute_result"
    }
   ],
   "source": [
    "#Taking a look at the dataframe\n",
    "df.head()"
   ]
  },
  {
   "cell_type": "code",
   "execution_count": 6,
   "id": "193d20f3-9ae4-46ec-9e5f-d9b7263eb93f",
   "metadata": {},
   "outputs": [
    {
     "data": {
      "text/plain": [
       "Index(['Unnamed: 0', 'time', 'id', 'text', 'user', 'uid', 'mention_username',\n",
       "       'mention_id', 'mention_realname', 'url', 'expanded_url', 'source',\n",
       "       'in_reply_to_id', 'in_reply_to_uid', 'in_reply_to_username', 'user_loc',\n",
       "       'user_created_at', 'user_follower_count', 'user_favorite_count',\n",
       "       'user_friends_count', 'user_status_count', 'user_listed_count',\n",
       "       'user_description', 'user_geo_enabled', 'user_verified', 'lang', 'rtb',\n",
       "       'mentioncheck', 'replycheck', 'month', 'week'],\n",
       "      dtype='object')"
      ]
     },
     "execution_count": 6,
     "metadata": {},
     "output_type": "execute_result"
    }
   ],
   "source": [
    "df.columns"
   ]
  },
  {
   "cell_type": "code",
   "execution_count": 7,
   "id": "2cefc51f-6e4f-4ae5-bafc-2f2eafec9f8e",
   "metadata": {},
   "outputs": [
    {
     "data": {
      "text/plain": [
       "Unnamed: 0                   0\n",
       "time                         0\n",
       "id                           0\n",
       "text                         0\n",
       "user                         0\n",
       "uid                          0\n",
       "mention_username          2321\n",
       "mention_id                2321\n",
       "mention_realname          2321\n",
       "url                      72702\n",
       "expanded_url             72702\n",
       "source                       0\n",
       "in_reply_to_id           44197\n",
       "in_reply_to_uid          24274\n",
       "in_reply_to_username     24274\n",
       "user_loc                140083\n",
       "user_created_at              0\n",
       "user_follower_count          0\n",
       "user_favorite_count          0\n",
       "user_friends_count           0\n",
       "user_status_count            0\n",
       "user_listed_count            0\n",
       "user_description         83569\n",
       "user_geo_enabled             0\n",
       "user_verified                0\n",
       "lang                         0\n",
       "rtb                          0\n",
       "mentioncheck                 0\n",
       "replycheck                   0\n",
       "month                        0\n",
       "week                         0\n",
       "dtype: int64"
      ]
     },
     "execution_count": 7,
     "metadata": {},
     "output_type": "execute_result"
    }
   ],
   "source": [
    "df.isna().sum()"
   ]
  },
  {
   "cell_type": "markdown",
   "id": "b595260b-be6f-4aa5-90bd-b93ff7a79d74",
   "metadata": {},
   "source": [
    "Looking at the data I am going to make two networks.. one for replies and another for mentions"
   ]
  },
  {
   "cell_type": "code",
   "execution_count": 16,
   "id": "43a57852-cf9c-45af-80e0-8679fc2bfa0e",
   "metadata": {},
   "outputs": [],
   "source": [
    "df_mention = df[df['mention_id'].notna()]"
   ]
  },
  {
   "cell_type": "code",
   "execution_count": 20,
   "id": "a5a3b7cf-65d1-4fee-8d9a-ea1c7e3f8228",
   "metadata": {},
   "outputs": [],
   "source": [
    "mention_network = nx.Graph()"
   ]
  },
  {
   "cell_type": "code",
   "execution_count": 21,
   "id": "cad2e8dd-e334-4994-b4a6-0c2035067e7c",
   "metadata": {},
   "outputs": [],
   "source": [
    "mention_network.add_nodes_from([i for i in df_mention['uid']])"
   ]
  },
  {
   "cell_type": "code",
   "execution_count": 37,
   "id": "d02ac5df-b25a-4d9b-bb7b-78a43c892605",
   "metadata": {},
   "outputs": [
    {
     "ename": "SyntaxError",
     "evalue": "invalid syntax (1735914733.py, line 1)",
     "output_type": "error",
     "traceback": [
      "\u001b[0;36m  File \u001b[0;32m\"/tmp/ipykernel_24987/1735914733.py\"\u001b[0;36m, line \u001b[0;32m1\u001b[0m\n\u001b[0;31m    df['mention_id'] = df['mention_id'].apply(lambda x : if type(x) == str x.spit() )\u001b[0m\n\u001b[0m                                                         ^\u001b[0m\n\u001b[0;31mSyntaxError\u001b[0m\u001b[0;31m:\u001b[0m invalid syntax\n"
     ]
    }
   ],
   "source": [
    "df['mention_id'] = df['mention_id'].apply(lambda x : if type(x) == str ) )"
   ]
  },
  {
   "cell_type": "code",
   "execution_count": null,
   "id": "31b70b97-3df0-4a1b-a9a3-aac39425ba86",
   "metadata": {},
   "outputs": [],
   "source": [
    "mention_network.add_edges_from"
   ]
  },
  {
   "cell_type": "code",
   "execution_count": 35,
   "id": "1c87619d-f54c-4651-8a34-c2aa765dc6b8",
   "metadata": {},
   "outputs": [
    {
     "data": {
      "text/plain": [
       "True"
      ]
     },
     "execution_count": 35,
     "metadata": {},
     "output_type": "execute_result"
    }
   ],
   "source": [
    "type('hl') == str"
   ]
  },
  {
   "cell_type": "code",
   "execution_count": 39,
   "id": "9ed7a8af-21eb-48da-8a75-ca8259e67abb",
   "metadata": {},
   "outputs": [
    {
     "ename": "SyntaxError",
     "evalue": "invalid syntax (3585150318.py, line 1)",
     "output_type": "error",
     "traceback": [
      "\u001b[0;36m  File \u001b[0;32m\"/tmp/ipykernel_24987/3585150318.py\"\u001b[0;36m, line \u001b[0;32m1\u001b[0m\n\u001b[0;31m    (print True)if True\u001b[0m\n\u001b[0m           ^\u001b[0m\n\u001b[0;31mSyntaxError\u001b[0m\u001b[0;31m:\u001b[0m invalid syntax\n"
     ]
    }
   ],
   "source": [
    "(print True)if True"
   ]
  },
  {
   "cell_type": "code",
   "execution_count": null,
   "id": "f51baae2-0968-4080-a3c9-204f3375c21d",
   "metadata": {},
   "outputs": [],
   "source": []
  }
 ],
 "metadata": {
  "kernelspec": {
   "display_name": "Python 3 (ipykernel)",
   "language": "python",
   "name": "python3"
  },
  "language_info": {
   "codemirror_mode": {
    "name": "ipython",
    "version": 3
   },
   "file_extension": ".py",
   "mimetype": "text/x-python",
   "name": "python",
   "nbconvert_exporter": "python",
   "pygments_lexer": "ipython3",
   "version": "3.9.7"
  }
 },
 "nbformat": 4,
 "nbformat_minor": 5
}
