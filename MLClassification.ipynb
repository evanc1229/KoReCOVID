{
 "cells": [
  {
   "cell_type": "markdown",
   "id": "81ba94ba-addc-41bd-9010-3c227c679a1b",
   "metadata": {
    "tags": []
   },
   "source": [
    "# Pipline for generically classifying COVID-19 tweets"
   ]
  },
  {
   "cell_type": "code",
   "execution_count": 1,
   "id": "4b3360c8-89a2-4ef5-9f90-4ab02fcae75e",
   "metadata": {},
   "outputs": [
    {
     "name": "stderr",
     "output_type": "stream",
     "text": [
      "2022-03-22 16:43:35.952241: W tensorflow/stream_executor/platform/default/dso_loader.cc:64] Could not load dynamic library 'libcudart.so.11.0'; dlerror: libcudart.so.11.0: cannot open shared object file: No such file or directory\n",
      "2022-03-22 16:43:35.952372: I tensorflow/stream_executor/cuda/cudart_stub.cc:29] Ignore above cudart dlerror if you do not have a GPU set up on your machine.\n"
     ]
    }
   ],
   "source": [
    "# Importing Libraries\n",
    "import numpy as np\n",
    "import pandas as pd\n",
    "import seaborn as sb\n",
    "import matplotlib.pyplot as plt\n",
    "from transformers import pipeline\n",
    "import tensorflow as tf"
   ]
  },
  {
   "cell_type": "code",
   "execution_count": 2,
   "id": "350240be-70d1-4366-8cbc-5c212093ed21",
   "metadata": {},
   "outputs": [],
   "source": [
    "#List of Categories (can be changed)\n",
    "labels = ['positive',\n",
    "        'negative',\n",
    "        'neutral']\n",
    "\n",
    "#Some form of training data that will be used to finetune model\n",
    "df = pd.read_csv('FLGovTweetsLIWC.csv')"
   ]
  },
  {
   "cell_type": "markdown",
   "id": "f7bf3fb0-d739-4a59-847f-79fe91b6fd67",
   "metadata": {},
   "source": [
    "## Taking a look at our data and formatting it (if needed)"
   ]
  },
  {
   "cell_type": "code",
   "execution_count": 3,
   "id": "ce153165-983e-4b3d-9bb6-a988f42524c4",
   "metadata": {},
   "outputs": [
    {
     "data": {
      "text/html": [
       "<div>\n",
       "<style scoped>\n",
       "    .dataframe tbody tr th:only-of-type {\n",
       "        vertical-align: middle;\n",
       "    }\n",
       "\n",
       "    .dataframe tbody tr th {\n",
       "        vertical-align: top;\n",
       "    }\n",
       "\n",
       "    .dataframe thead th {\n",
       "        text-align: right;\n",
       "    }\n",
       "</style>\n",
       "<table border=\"1\" class=\"dataframe\">\n",
       "  <thead>\n",
       "    <tr style=\"text-align: right;\">\n",
       "      <th></th>\n",
       "      <th>Unnamed: 0</th>\n",
       "      <th>time</th>\n",
       "      <th>text</th>\n",
       "      <th>counts</th>\n",
       "      <th>percentages</th>\n",
       "    </tr>\n",
       "  </thead>\n",
       "  <tbody>\n",
       "    <tr>\n",
       "      <th>0</th>\n",
       "      <td>0</td>\n",
       "      <td>2020-05-14 20:49:43+00:00</td>\n",
       "      <td>emergency officials, first responders, hospita...</td>\n",
       "      <td>{'Social': 3, 'Affect': 1, 'Power': 3, 'Affili...</td>\n",
       "      <td>{'Social': 0.23076923076923078, 'Affect': 0.07...</td>\n",
       "    </tr>\n",
       "    <tr>\n",
       "      <th>1</th>\n",
       "      <td>1</td>\n",
       "      <td>2020-05-14 21:05:09+00:00</td>\n",
       "      <td>public health is everyone’s responsibility. ma...</td>\n",
       "      <td>{'Social': 4, 'Affect': 2, 'Power': 0, 'Affili...</td>\n",
       "      <td>{'Social': 0.4444444444444444, 'Affect': 0.222...</td>\n",
       "    </tr>\n",
       "    <tr>\n",
       "      <th>2</th>\n",
       "      <td>2</td>\n",
       "      <td>2020-05-14 21:08:57+00:00</td>\n",
       "      <td>taryn kryzda talks about covid-19, hurricane p...</td>\n",
       "      <td>{'Social': 4, 'Affect': 2, 'Power': 1, 'Affili...</td>\n",
       "      <td>{'Social': 0.4444444444444444, 'Affect': 0.222...</td>\n",
       "    </tr>\n",
       "    <tr>\n",
       "      <th>3</th>\n",
       "      <td>3</td>\n",
       "      <td>2020-05-14 22:00:44+00:00</td>\n",
       "      <td>it’s vital to practice good handwashing practi...</td>\n",
       "      <td>{'Social': 5, 'Affect': 3, 'Power': 0, 'Affili...</td>\n",
       "      <td>{'Social': 0.3125, 'Affect': 0.1875, 'Power': ...</td>\n",
       "    </tr>\n",
       "    <tr>\n",
       "      <th>4</th>\n",
       "      <td>4</td>\n",
       "      <td>2020-05-14 22:31:41+00:00</td>\n",
       "      <td>st, lucie county #covid19 update for may 14, 2...</td>\n",
       "      <td>{'Social': 0, 'Affect': 0, 'Power': 0, 'Affili...</td>\n",
       "      <td>{}</td>\n",
       "    </tr>\n",
       "  </tbody>\n",
       "</table>\n",
       "</div>"
      ],
      "text/plain": [
       "   Unnamed: 0                       time  \\\n",
       "0           0  2020-05-14 20:49:43+00:00   \n",
       "1           1  2020-05-14 21:05:09+00:00   \n",
       "2           2  2020-05-14 21:08:57+00:00   \n",
       "3           3  2020-05-14 22:00:44+00:00   \n",
       "4           4  2020-05-14 22:31:41+00:00   \n",
       "\n",
       "                                                text  \\\n",
       "0  emergency officials, first responders, hospita...   \n",
       "1  public health is everyone’s responsibility. ma...   \n",
       "2  taryn kryzda talks about covid-19, hurricane p...   \n",
       "3  it’s vital to practice good handwashing practi...   \n",
       "4  st, lucie county #covid19 update for may 14, 2...   \n",
       "\n",
       "                                              counts  \\\n",
       "0  {'Social': 3, 'Affect': 1, 'Power': 3, 'Affili...   \n",
       "1  {'Social': 4, 'Affect': 2, 'Power': 0, 'Affili...   \n",
       "2  {'Social': 4, 'Affect': 2, 'Power': 1, 'Affili...   \n",
       "3  {'Social': 5, 'Affect': 3, 'Power': 0, 'Affili...   \n",
       "4  {'Social': 0, 'Affect': 0, 'Power': 0, 'Affili...   \n",
       "\n",
       "                                         percentages  \n",
       "0  {'Social': 0.23076923076923078, 'Affect': 0.07...  \n",
       "1  {'Social': 0.4444444444444444, 'Affect': 0.222...  \n",
       "2  {'Social': 0.4444444444444444, 'Affect': 0.222...  \n",
       "3  {'Social': 0.3125, 'Affect': 0.1875, 'Power': ...  \n",
       "4                                                 {}  "
      ]
     },
     "execution_count": 3,
     "metadata": {},
     "output_type": "execute_result"
    }
   ],
   "source": [
    "df.head()\n",
    "#For the zero-shot classification all we need is the text for now..."
   ]
  },
  {
   "cell_type": "markdown",
   "id": "b6bd15c2-bcc9-4d96-8242-328dc13c8f4a",
   "metadata": {
    "tags": []
   },
   "source": [
    "## Our first pipeline will be for zeroshot classification"
   ]
  },
  {
   "cell_type": "code",
   "execution_count": 4,
   "id": "f7101454-58fe-40d5-b428-476fc5192b74",
   "metadata": {},
   "outputs": [
    {
     "name": "stderr",
     "output_type": "stream",
     "text": [
      "No model was supplied, defaulted to roberta-large-mnli (https://huggingface.co/roberta-large-mnli)\n",
      "2022-03-22 16:44:35.514719: W tensorflow/stream_executor/platform/default/dso_loader.cc:64] Could not load dynamic library 'libcuda.so.1'; dlerror: libcuda.so.1: cannot open shared object file: No such file or directory\n",
      "2022-03-22 16:44:35.514809: W tensorflow/stream_executor/cuda/cuda_driver.cc:269] failed call to cuInit: UNKNOWN ERROR (303)\n",
      "2022-03-22 16:44:35.514850: I tensorflow/stream_executor/cuda/cuda_diagnostics.cc:156] kernel driver does not appear to be running on this host (d48784423f1c): /proc/driver/nvidia/version does not exist\n",
      "2022-03-22 16:44:35.515227: I tensorflow/core/platform/cpu_feature_guard.cc:151] This TensorFlow binary is optimized with oneAPI Deep Neural Network Library (oneDNN) to use the following CPU instructions in performance-critical operations:  AVX2 AVX512F FMA\n",
      "To enable them in other operations, rebuild TensorFlow with the appropriate compiler flags.\n",
      "All model checkpoint layers were used when initializing TFRobertaForSequenceClassification.\n",
      "\n",
      "All the layers of TFRobertaForSequenceClassification were initialized from the model checkpoint at roberta-large-mnli.\n",
      "If your task is similar to the task the model of the checkpoint was trained on, you can already use TFRobertaForSequenceClassification for predictions without further training.\n"
     ]
    }
   ],
   "source": [
    "classifier = pipeline('zero-shot-classification')"
   ]
  },
  {
   "cell_type": "code",
   "execution_count": 5,
   "id": "87dc15cf-652f-4fbd-a501-b7f2acddcf76",
   "metadata": {},
   "outputs": [],
   "source": [
    "zero_shot_classified = [classifier(i, labels) for i in df['text'][:5]]"
   ]
  },
  {
   "cell_type": "code",
   "execution_count": 6,
   "id": "5afa82aa-d7e7-4e34-a1b6-a5189ad055a2",
   "metadata": {},
   "outputs": [
    {
     "data": {
      "text/plain": [
       "[{'sequence': 'emergency officials, first responders, hospitals, and public health officials have partnered to step up efforts to coordinate with nursing homes and long-term care facilities as covid-19 continues to claim the lives of older residents. details: https://t.co/ljgh125kwz https://t.co/zeh5i160t6',\n",
       "  'labels': ['negative', 'neutral', 'positive'],\n",
       "  'scores': [0.9177665114402771, 0.06806164979934692, 0.014171851798892021]},\n",
       " {'sequence': 'public health is everyone’s responsibility. make sure to: -wash your hands often with soap and water for at least 20 seconds 🧼 -clean and disinfect frequently touched objects and surfaces frequently🧽 -stay home when you are sick🏠 https://t.co/pbrjxtfgt8 https://t.co/3npapf1kme',\n",
       "  'labels': ['positive', 'neutral', 'negative'],\n",
       "  'scores': [0.36294662952423096, 0.36210837960243225, 0.2749450206756592]},\n",
       " {'sequence': 'taryn kryzda talks about covid-19, hurricane preparedness, \"our emergency management agency is ready and we want you to be ready too.\" watch the video here: https://t.co/g1uovjodis #martintogether #roadtoreadiness #knowyourrisks #buildakit #haveaplan #stayinformed #getinvovled https://t.co/2wxebhy0aw',\n",
       "  'labels': ['positive', 'neutral', 'negative'],\n",
       "  'scores': [0.4296005368232727, 0.29390233755111694, 0.27649712562561035]},\n",
       " {'sequence': 'it’s vital to practice good handwashing practices to prevent the spread to #covid19. protect yourself and your family by frequently washing your hands and avoid touching your face. for more information: https://t.co/14dbbqz8wy #healthypinellas https://t.co/70c8obbxrg',\n",
       "  'labels': ['negative', 'positive', 'neutral'],\n",
       "  'scores': [0.5171660780906677, 0.30797094106674194, 0.1748630404472351]},\n",
       " {'sequence': 'st, lucie county #covid19 update for may 14, 2020 - https://t.co/gan7rjyljk',\n",
       "  'labels': ['negative', 'neutral', 'positive'],\n",
       "  'scores': [0.418556272983551, 0.41529688239097595, 0.16614678502082825]}]"
      ]
     },
     "execution_count": 6,
     "metadata": {},
     "output_type": "execute_result"
    }
   ],
   "source": [
    "zero_shot_classified"
   ]
  },
  {
   "cell_type": "markdown",
   "id": "a244040e-bafa-44a0-be2b-df5fbaf97997",
   "metadata": {},
   "source": [
    "* An obvious downside to zero-shot is it's not as accurate and it takes forever!! We will have to do more testing with this... "
   ]
  },
  {
   "cell_type": "markdown",
   "id": "55edcb9f-cb4d-45d5-b5bc-e87c7c593804",
   "metadata": {},
   "source": [
    "## Basic Pipeline to fine-tune and use huggingface models"
   ]
  },
  {
   "cell_type": "code",
   "execution_count": 7,
   "id": "305f6eb9-727d-4063-8949-9f10dfa7eb7b",
   "metadata": {},
   "outputs": [],
   "source": [
    "#Importing the Data \n",
    "#training_data = pd.read_csv('file_name.csv')"
   ]
  },
  {
   "cell_type": "markdown",
   "id": "596ae6f7-ee1f-4799-9f58-5ed4ed135b30",
   "metadata": {},
   "source": [
    "Preprocessing the Data"
   ]
  },
  {
   "cell_type": "code",
   "execution_count": 11,
   "id": "94652fb6-8e1a-4949-8ac4-f66d038dcdda",
   "metadata": {},
   "outputs": [
    {
     "name": "stderr",
     "output_type": "stream",
     "text": [
      "Special tokens have been added in the vocabulary, make sure the associated word embeddings are fine-tuned or trained.\n",
      "Some layers from the model checkpoint at vinai/bertweet-covid19-base-uncased were not used when initializing TFRobertaModel: ['lm_head']\n",
      "- This IS expected if you are initializing TFRobertaModel from the checkpoint of a model trained on another task or with another architecture (e.g. initializing a BertForSequenceClassification model from a BertForPreTraining model).\n",
      "- This IS NOT expected if you are initializing TFRobertaModel from the checkpoint of a model that you expect to be exactly identical (initializing a BertForSequenceClassification model from a BertForSequenceClassification model).\n",
      "All the layers of TFRobertaModel were initialized from the model checkpoint at vinai/bertweet-covid19-base-uncased.\n",
      "If your task is similar to the task the model of the checkpoint was trained on, you can already use TFRobertaModel for predictions without further training.\n"
     ]
    }
   ],
   "source": [
    "#This code was adapted from the huggingface docs https://huggingface.co/docs/transformers/training#prepare-a-dataset\n",
    "from transformers import AutoTokenizer, TFAutoModel\n",
    "\n",
    "tokenizer = AutoTokenizer.from_pretrained(\"vinai/bertweet-covid19-base-uncased\", normalization=True)\n",
    "model = TFAutoModel.from_pretrained(\"vinai/bertweet-covid19-base-uncased\", num_labels=7)\n",
    "\n",
    "def tokenize_function(examples):\n",
    "    return tokenizer(examples[\"text\"], padding=\"max_length\", truncation=True)\n",
    "\n",
    "\n",
    "#tokenized_datasets = dataset.map(tokenize_function, batched=True)"
   ]
  },
  {
   "cell_type": "code",
   "execution_count": 12,
   "id": "f5f6b80e-10d4-47ca-abe3-6b043137a818",
   "metadata": {},
   "outputs": [],
   "source": [
    "from transformers import TrainingArguments\n",
    "\n",
    "training_args = TrainingArguments(output_dir=\"twtter_trainer\")"
   ]
  },
  {
   "cell_type": "code",
   "execution_count": 13,
   "id": "9cc3adc1-a018-4cd3-b451-6a3a1e33aefa",
   "metadata": {},
   "outputs": [
    {
     "data": {
      "application/vnd.jupyter.widget-view+json": {
       "model_id": "a984087329ac400e9d89e8a18518ff13",
       "version_major": 2,
       "version_minor": 0
      },
      "text/plain": [
       "Downloading:   0%|          | 0.00/1.41k [00:00<?, ?B/s]"
      ]
     },
     "metadata": {},
     "output_type": "display_data"
    }
   ],
   "source": [
    "from datasets import load_metric\n",
    "\n",
    "metric = load_metric(\"accuracy\")"
   ]
  },
  {
   "cell_type": "code",
   "execution_count": 14,
   "id": "487a542a-a128-417b-85a0-83d78a200457",
   "metadata": {},
   "outputs": [],
   "source": [
    "def compute_metrics(eval_pred):\n",
    "    logits, labels = eval_pred\n",
    "    predictions = np.argmax(logits, axis=-1)\n",
    "    return metric.compute(predictions=predictions, references=labels)"
   ]
  },
  {
   "cell_type": "code",
   "execution_count": 17,
   "id": "7f5a8344-62ef-4c58-9ecc-8c54f8ed4f85",
   "metadata": {},
   "outputs": [],
   "source": [
    "from transformers import TrainingArguments\n",
    "\n",
    "training_args = TrainingArguments(output_dir=\"test_trainer\", evaluation_strategy=\"epoch\")"
   ]
  },
  {
   "cell_type": "code",
   "execution_count": 16,
   "id": "3abd1119-586b-4b49-8023-9618b72e77c4",
   "metadata": {},
   "outputs": [
    {
     "ename": "NameError",
     "evalue": "name 'X_train' is not defined",
     "output_type": "error",
     "traceback": [
      "\u001b[0;31m---------------------------------------------------------------------------\u001b[0m",
      "\u001b[0;31mNameError\u001b[0m                                 Traceback (most recent call last)",
      "\u001b[0;32m/tmp/ipykernel_7792/2035751042.py\u001b[0m in \u001b[0;36m<module>\u001b[0;34m\u001b[0m\n\u001b[1;32m      4\u001b[0m     \u001b[0mmodel\u001b[0m\u001b[0;34m=\u001b[0m\u001b[0mmodel\u001b[0m\u001b[0;34m,\u001b[0m\u001b[0;34m\u001b[0m\u001b[0;34m\u001b[0m\u001b[0m\n\u001b[1;32m      5\u001b[0m     \u001b[0margs\u001b[0m\u001b[0;34m=\u001b[0m\u001b[0mtraining_args\u001b[0m\u001b[0;34m,\u001b[0m\u001b[0;34m\u001b[0m\u001b[0;34m\u001b[0m\u001b[0m\n\u001b[0;32m----> 6\u001b[0;31m     \u001b[0mtrain_dataset\u001b[0m\u001b[0;34m=\u001b[0m\u001b[0mX_train\u001b[0m\u001b[0;34m,\u001b[0m\u001b[0;34m\u001b[0m\u001b[0;34m\u001b[0m\u001b[0m\n\u001b[0m\u001b[1;32m      7\u001b[0m     \u001b[0meval_dataset\u001b[0m\u001b[0;34m=\u001b[0m\u001b[0mY_train\u001b[0m\u001b[0;34m,\u001b[0m\u001b[0;34m\u001b[0m\u001b[0;34m\u001b[0m\u001b[0m\n\u001b[1;32m      8\u001b[0m     \u001b[0mcompute_metrics\u001b[0m\u001b[0;34m=\u001b[0m\u001b[0mcompute_metrics\u001b[0m\u001b[0;34m,\u001b[0m\u001b[0;34m\u001b[0m\u001b[0;34m\u001b[0m\u001b[0m\n",
      "\u001b[0;31mNameError\u001b[0m: name 'X_train' is not defined"
     ]
    }
   ],
   "source": [
    "from transformers import Trainer\n",
    "\n",
    "trainer = Trainer(\n",
    "    model=model,\n",
    "    args=training_args,\n",
    "    train_dataset=X_train,\n",
    "    eval_dataset=Y_train,\n",
    "    compute_metrics=compute_metrics,\n",
    ")"
   ]
  },
  {
   "cell_type": "code",
   "execution_count": null,
   "id": "6d539ee5-23f5-44a5-bccb-f03a12a27bc6",
   "metadata": {},
   "outputs": [],
   "source": [
    "trainer.train()"
   ]
  }
 ],
 "metadata": {
  "kernelspec": {
   "display_name": "Python 3 (ipykernel)",
   "language": "python",
   "name": "python3"
  },
  "language_info": {
   "codemirror_mode": {
    "name": "ipython",
    "version": 3
   },
   "file_extension": ".py",
   "mimetype": "text/x-python",
   "name": "python",
   "nbconvert_exporter": "python",
   "pygments_lexer": "ipython3",
   "version": "3.9.7"
  }
 },
 "nbformat": 4,
 "nbformat_minor": 5
}
