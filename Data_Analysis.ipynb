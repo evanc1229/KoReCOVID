{
 "cells": [
  {
   "cell_type": "code",
   "execution_count": 2,
   "id": "856b6523-87c2-46c2-97b6-c0ae07f01402",
   "metadata": {},
   "outputs": [],
   "source": [
    "import pandas as pd\n",
    "import numpy as np\n",
    "import torch\n",
    "import matplotlib.pyplot as plt\n",
    "import transformers\n",
    "import torch\n",
    "import seaborn as sns"
   ]
  },
  {
   "cell_type": "code",
   "execution_count": 13,
   "id": "a24009a6-decf-4251-bc4b-03ee2f858ba2",
   "metadata": {},
   "outputs": [],
   "source": [
    "df = pd.read_csv('/notebooks/evanc/KoReCOVID/resources/LIWCData.csv')"
   ]
  },
  {
   "cell_type": "code",
   "execution_count": 14,
   "id": "7cf324db-31e4-4332-97b4-e68c7e3bd443",
   "metadata": {},
   "outputs": [
    {
     "data": {
      "text/html": [
       "<div>\n",
       "<style scoped>\n",
       "    .dataframe tbody tr th:only-of-type {\n",
       "        vertical-align: middle;\n",
       "    }\n",
       "\n",
       "    .dataframe tbody tr th {\n",
       "        vertical-align: top;\n",
       "    }\n",
       "\n",
       "    .dataframe thead th {\n",
       "        text-align: right;\n",
       "    }\n",
       "</style>\n",
       "<table border=\"1\" class=\"dataframe\">\n",
       "  <thead>\n",
       "    <tr style=\"text-align: right;\">\n",
       "      <th></th>\n",
       "      <th>Unnamed: 0</th>\n",
       "      <th>text</th>\n",
       "      <th>Dummy_Variables</th>\n",
       "    </tr>\n",
       "  </thead>\n",
       "  <tbody>\n",
       "    <tr>\n",
       "      <th>0</th>\n",
       "      <td>0</td>\n",
       "      <td>too many families were already struggling to n...</td>\n",
       "      <td>power</td>\n",
       "    </tr>\n",
       "    <tr>\n",
       "      <th>1</th>\n",
       "      <td>1</td>\n",
       "      <td>@realdonaldtrump @trish_regan china sent the v...</td>\n",
       "      <td>social</td>\n",
       "    </tr>\n",
       "    <tr>\n",
       "      <th>2</th>\n",
       "      <td>2</td>\n",
       "      <td>@eileeniorio @lotusoak2 @potus you are very na...</td>\n",
       "      <td>social</td>\n",
       "    </tr>\n",
       "    <tr>\n",
       "      <th>3</th>\n",
       "      <td>3</td>\n",
       "      <td>@lien2marsha @ottopardey @repfredkeller @white...</td>\n",
       "      <td>social</td>\n",
       "    </tr>\n",
       "    <tr>\n",
       "      <th>4</th>\n",
       "      <td>4</td>\n",
       "      <td>@proffionasm @chrismurphyct last leg delivery ...</td>\n",
       "      <td>social</td>\n",
       "    </tr>\n",
       "  </tbody>\n",
       "</table>\n",
       "</div>"
      ],
      "text/plain": [
       "   Unnamed: 0                                               text  \\\n",
       "0           0  too many families were already struggling to n...   \n",
       "1           1  @realdonaldtrump @trish_regan china sent the v...   \n",
       "2           2  @eileeniorio @lotusoak2 @potus you are very na...   \n",
       "3           3  @lien2marsha @ottopardey @repfredkeller @white...   \n",
       "4           4  @proffionasm @chrismurphyct last leg delivery ...   \n",
       "\n",
       "  Dummy_Variables  \n",
       "0           power  \n",
       "1          social  \n",
       "2          social  \n",
       "3          social  \n",
       "4          social  "
      ]
     },
     "execution_count": 14,
     "metadata": {},
     "output_type": "execute_result"
    }
   ],
   "source": [
    "df.head()"
   ]
  },
  {
   "cell_type": "code",
   "execution_count": 15,
   "id": "ffa1b965-76c2-4b4f-be69-ea578a09ec3e",
   "metadata": {},
   "outputs": [
    {
     "data": {
      "text/plain": [
       "(1383, 3)"
      ]
     },
     "execution_count": 15,
     "metadata": {},
     "output_type": "execute_result"
    }
   ],
   "source": [
    "df.shape"
   ]
  },
  {
   "cell_type": "code",
   "execution_count": 16,
   "id": "6090d304-d4d6-45c5-b71d-bc085ef5aac4",
   "metadata": {},
   "outputs": [],
   "source": [
    "df = df.drop('Unnamed: 0', axis=1)"
   ]
  },
  {
   "cell_type": "code",
   "execution_count": null,
   "id": "557b5445-198b-4fec-842f-df5f6d749c4f",
   "metadata": {},
   "outputs": [],
   "source": [
    "from transformers import BertweetTokenizer\n",
    "\n",
    "tokenizer = BertweetTokenizer('vinai/bertweet-covid19-base-uncased', normalization=True "
   ]
  },
  {
   "cell_type": "code",
   "execution_count": null,
   "id": "3efa4d3b-d9c2-41a8-9a94-75e4ad31a110",
   "metadata": {},
   "outputs": [],
   "source": []
  }
 ],
 "metadata": {
  "kernelspec": {
   "display_name": "Python 3 (ipykernel)",
   "language": "python",
   "name": "python3"
  },
  "language_info": {
   "codemirror_mode": {
    "name": "ipython",
    "version": 3
   },
   "file_extension": ".py",
   "mimetype": "text/x-python",
   "name": "python",
   "nbconvert_exporter": "python",
   "pygments_lexer": "ipython3",
   "version": "3.9.7"
  }
 },
 "nbformat": 4,
 "nbformat_minor": 5
}
