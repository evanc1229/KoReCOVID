{
 "cells": [
  {
   "cell_type": "markdown",
   "id": "b8c9ec72-38ee-44e5-9bd5-1797adfec3c6",
   "metadata": {},
   "source": [
    "# Emotional anaysis of tweets (Subset)"
   ]
  },
  {
   "cell_type": "code",
   "execution_count": 1,
   "id": "856b6523-87c2-46c2-97b6-c0ae07f01402",
   "metadata": {},
   "outputs": [],
   "source": [
    "import pandas as pd\n",
    "import numpy as np\n",
    "import torch\n",
    "import matplotlib.pyplot as plt\n",
    "import transformers\n",
    "import torch\n",
    "import seaborn as sns"
   ]
  },
  {
   "cell_type": "code",
   "execution_count": 2,
   "id": "a24009a6-decf-4251-bc4b-03ee2f858ba2",
   "metadata": {},
   "outputs": [],
   "source": [
    "df = pd.read_csv('/notebooks/evanc/KoReCOVID/resources/Pol5_Clean.csv').sample(5000)"
   ]
  },
  {
   "cell_type": "code",
   "execution_count": 3,
   "id": "7cf324db-31e4-4332-97b4-e68c7e3bd443",
   "metadata": {},
   "outputs": [
    {
     "data": {
      "text/html": [
       "<div>\n",
       "<style scoped>\n",
       "    .dataframe tbody tr th:only-of-type {\n",
       "        vertical-align: middle;\n",
       "    }\n",
       "\n",
       "    .dataframe tbody tr th {\n",
       "        vertical-align: top;\n",
       "    }\n",
       "\n",
       "    .dataframe thead th {\n",
       "        text-align: right;\n",
       "    }\n",
       "</style>\n",
       "<table border=\"1\" class=\"dataframe\">\n",
       "  <thead>\n",
       "    <tr style=\"text-align: right;\">\n",
       "      <th></th>\n",
       "      <th>Unnamed: 0</th>\n",
       "      <th>time</th>\n",
       "      <th>id</th>\n",
       "      <th>text</th>\n",
       "      <th>user</th>\n",
       "      <th>uid</th>\n",
       "      <th>mention_username</th>\n",
       "      <th>mention_id</th>\n",
       "      <th>mention_realname</th>\n",
       "      <th>url</th>\n",
       "      <th>...</th>\n",
       "      <th>user_listed_count</th>\n",
       "      <th>user_description</th>\n",
       "      <th>user_geo_enabled</th>\n",
       "      <th>user_verified</th>\n",
       "      <th>lang</th>\n",
       "      <th>rtb</th>\n",
       "      <th>mentioncheck</th>\n",
       "      <th>replycheck</th>\n",
       "      <th>month</th>\n",
       "      <th>week</th>\n",
       "    </tr>\n",
       "  </thead>\n",
       "  <tbody>\n",
       "    <tr>\n",
       "      <th>146590</th>\n",
       "      <td>146590</td>\n",
       "      <td>2020-05-21 23:35:37+00:00</td>\n",
       "      <td>1263614456829022209</td>\n",
       "      <td>@dcexaminer @JoeBiden @realDonaldTrump This he...</td>\n",
       "      <td>ArmedInfidel_US</td>\n",
       "      <td>1472543887</td>\n",
       "      <td>dcexaminer JoeBiden realDonaldTrump realDonald...</td>\n",
       "      <td>18956073 939091 25073877 25073877</td>\n",
       "      <td>Washington Examiner Joe Biden Donald J. Trump ...</td>\n",
       "      <td>https://t.co/WmOTDfqLDF</td>\n",
       "      <td>...</td>\n",
       "      <td>4</td>\n",
       "      <td>WARNING: If you are easily offended, you bette...</td>\n",
       "      <td>False</td>\n",
       "      <td>False</td>\n",
       "      <td>en</td>\n",
       "      <td>True</td>\n",
       "      <td>True</td>\n",
       "      <td>False</td>\n",
       "      <td>5</td>\n",
       "      <td>21</td>\n",
       "    </tr>\n",
       "    <tr>\n",
       "      <th>60869</th>\n",
       "      <td>60869</td>\n",
       "      <td>2020-05-17 17:57:50+00:00</td>\n",
       "      <td>1262079896785784834</td>\n",
       "      <td>@realDonaldTrump people are in a desperate sit...</td>\n",
       "      <td>MikeSireli</td>\n",
       "      <td>755950504627273728</td>\n",
       "      <td>realDonaldTrump</td>\n",
       "      <td>25073877</td>\n",
       "      <td>Donald J. Trump</td>\n",
       "      <td>https://t.co/OQmgBPrNQT</td>\n",
       "      <td>...</td>\n",
       "      <td>0</td>\n",
       "      <td>NaN</td>\n",
       "      <td>False</td>\n",
       "      <td>False</td>\n",
       "      <td>en</td>\n",
       "      <td>True</td>\n",
       "      <td>True</td>\n",
       "      <td>True</td>\n",
       "      <td>5</td>\n",
       "      <td>20</td>\n",
       "    </tr>\n",
       "    <tr>\n",
       "      <th>109100</th>\n",
       "      <td>109100</td>\n",
       "      <td>2020-05-20 15:40:54+00:00</td>\n",
       "      <td>1263132600480206849</td>\n",
       "      <td>@tedlieu @IAmJohnAles Ol Ted out here spitting...</td>\n",
       "      <td>Benjay_mann</td>\n",
       "      <td>911645740941942785</td>\n",
       "      <td>tedlieu IAmJohnAles</td>\n",
       "      <td>21059255 140586054</td>\n",
       "      <td>Ted Lieu John Ales*</td>\n",
       "      <td>https://t.co/OB8pEr7ZhB</td>\n",
       "      <td>...</td>\n",
       "      <td>0</td>\n",
       "      <td>Sports, video games, fishing and a family man....</td>\n",
       "      <td>False</td>\n",
       "      <td>False</td>\n",
       "      <td>en</td>\n",
       "      <td>True</td>\n",
       "      <td>True</td>\n",
       "      <td>True</td>\n",
       "      <td>5</td>\n",
       "      <td>21</td>\n",
       "    </tr>\n",
       "    <tr>\n",
       "      <th>309242</th>\n",
       "      <td>309242</td>\n",
       "      <td>2020-05-31 07:17:07+00:00</td>\n",
       "      <td>1266992084638105601</td>\n",
       "      <td>@realDonaldTrump You are a pathetic excuse for...</td>\n",
       "      <td>AppalachianSpi2</td>\n",
       "      <td>1263887973625536519</td>\n",
       "      <td>realDonaldTrump</td>\n",
       "      <td>25073877</td>\n",
       "      <td>Donald J. Trump</td>\n",
       "      <td>https://t.co/GtBBHG5ax4</td>\n",
       "      <td>...</td>\n",
       "      <td>0</td>\n",
       "      <td>NaN</td>\n",
       "      <td>False</td>\n",
       "      <td>False</td>\n",
       "      <td>en</td>\n",
       "      <td>True</td>\n",
       "      <td>True</td>\n",
       "      <td>True</td>\n",
       "      <td>5</td>\n",
       "      <td>22</td>\n",
       "    </tr>\n",
       "    <tr>\n",
       "      <th>245739</th>\n",
       "      <td>245739</td>\n",
       "      <td>2020-05-26 06:33:24+00:00</td>\n",
       "      <td>1265169143835299849</td>\n",
       "      <td>@SexCounseling @brithume @realDonaldTrump Peop...</td>\n",
       "      <td>rustyisleaving</td>\n",
       "      <td>3383186015</td>\n",
       "      <td>SexCounseling brithume realDonaldTrump</td>\n",
       "      <td>204444440 112047805 25073877</td>\n",
       "      <td>Dawn Michael, PhD💗 Brit Hume Donald J. Trump</td>\n",
       "      <td>NaN</td>\n",
       "      <td>...</td>\n",
       "      <td>24</td>\n",
       "      <td>NaN</td>\n",
       "      <td>True</td>\n",
       "      <td>False</td>\n",
       "      <td>en</td>\n",
       "      <td>True</td>\n",
       "      <td>True</td>\n",
       "      <td>False</td>\n",
       "      <td>5</td>\n",
       "      <td>22</td>\n",
       "    </tr>\n",
       "  </tbody>\n",
       "</table>\n",
       "<p>5 rows × 31 columns</p>\n",
       "</div>"
      ],
      "text/plain": [
       "        Unnamed: 0                       time                   id  \\\n",
       "146590      146590  2020-05-21 23:35:37+00:00  1263614456829022209   \n",
       "60869        60869  2020-05-17 17:57:50+00:00  1262079896785784834   \n",
       "109100      109100  2020-05-20 15:40:54+00:00  1263132600480206849   \n",
       "309242      309242  2020-05-31 07:17:07+00:00  1266992084638105601   \n",
       "245739      245739  2020-05-26 06:33:24+00:00  1265169143835299849   \n",
       "\n",
       "                                                     text             user  \\\n",
       "146590  @dcexaminer @JoeBiden @realDonaldTrump This he...  ArmedInfidel_US   \n",
       "60869   @realDonaldTrump people are in a desperate sit...       MikeSireli   \n",
       "109100  @tedlieu @IAmJohnAles Ol Ted out here spitting...      Benjay_mann   \n",
       "309242  @realDonaldTrump You are a pathetic excuse for...  AppalachianSpi2   \n",
       "245739  @SexCounseling @brithume @realDonaldTrump Peop...   rustyisleaving   \n",
       "\n",
       "                        uid  \\\n",
       "146590           1472543887   \n",
       "60869    755950504627273728   \n",
       "109100   911645740941942785   \n",
       "309242  1263887973625536519   \n",
       "245739           3383186015   \n",
       "\n",
       "                                         mention_username  \\\n",
       "146590  dcexaminer JoeBiden realDonaldTrump realDonald...   \n",
       "60869                                     realDonaldTrump   \n",
       "109100                                tedlieu IAmJohnAles   \n",
       "309242                                    realDonaldTrump   \n",
       "245739             SexCounseling brithume realDonaldTrump   \n",
       "\n",
       "                               mention_id  \\\n",
       "146590  18956073 939091 25073877 25073877   \n",
       "60869                            25073877   \n",
       "109100                 21059255 140586054   \n",
       "309242                           25073877   \n",
       "245739       204444440 112047805 25073877   \n",
       "\n",
       "                                         mention_realname  \\\n",
       "146590  Washington Examiner Joe Biden Donald J. Trump ...   \n",
       "60869                                     Donald J. Trump   \n",
       "109100                                Ted Lieu John Ales*   \n",
       "309242                                    Donald J. Trump   \n",
       "245739       Dawn Michael, PhD💗 Brit Hume Donald J. Trump   \n",
       "\n",
       "                            url  ... user_listed_count  \\\n",
       "146590  https://t.co/WmOTDfqLDF  ...                 4   \n",
       "60869   https://t.co/OQmgBPrNQT  ...                 0   \n",
       "109100  https://t.co/OB8pEr7ZhB  ...                 0   \n",
       "309242  https://t.co/GtBBHG5ax4  ...                 0   \n",
       "245739                      NaN  ...                24   \n",
       "\n",
       "                                         user_description  user_geo_enabled  \\\n",
       "146590  WARNING: If you are easily offended, you bette...             False   \n",
       "60869                                                 NaN             False   \n",
       "109100  Sports, video games, fishing and a family man....             False   \n",
       "309242                                                NaN             False   \n",
       "245739                                                NaN              True   \n",
       "\n",
       "        user_verified lang   rtb mentioncheck  replycheck  month  week  \n",
       "146590          False   en  True         True       False      5    21  \n",
       "60869           False   en  True         True        True      5    20  \n",
       "109100          False   en  True         True        True      5    21  \n",
       "309242          False   en  True         True        True      5    22  \n",
       "245739          False   en  True         True       False      5    22  \n",
       "\n",
       "[5 rows x 31 columns]"
      ]
     },
     "execution_count": 3,
     "metadata": {},
     "output_type": "execute_result"
    }
   ],
   "source": [
    "df.head()"
   ]
  },
  {
   "cell_type": "code",
   "execution_count": 4,
   "id": "ffa1b965-76c2-4b4f-be69-ea578a09ec3e",
   "metadata": {},
   "outputs": [
    {
     "data": {
      "text/plain": [
       "(5000, 31)"
      ]
     },
     "execution_count": 4,
     "metadata": {},
     "output_type": "execute_result"
    }
   ],
   "source": [
    "df.shape"
   ]
  },
  {
   "cell_type": "code",
   "execution_count": 5,
   "id": "6090d304-d4d6-45c5-b71d-bc085ef5aac4",
   "metadata": {},
   "outputs": [],
   "source": [
    "df = df.drop('Unnamed: 0', axis=1)"
   ]
  },
  {
   "cell_type": "code",
   "execution_count": 6,
   "id": "557b5445-198b-4fec-842f-df5f6d749c4f",
   "metadata": {},
   "outputs": [
    {
     "name": "stderr",
     "output_type": "stream",
     "text": [
      "2022-04-16 20:31:26.501853: W tensorflow/stream_executor/platform/default/dso_loader.cc:64] Could not load dynamic library 'libcudart.so.11.0'; dlerror: libcudart.so.11.0: cannot open shared object file: No such file or directory\n",
      "2022-04-16 20:31:26.501917: I tensorflow/stream_executor/cuda/cudart_stub.cc:29] Ignore above cudart dlerror if you do not have a GPU set up on your machine.\n"
     ]
    }
   ],
   "source": [
    "from transformers import pipeline"
   ]
  },
  {
   "cell_type": "code",
   "execution_count": 7,
   "id": "3efa4d3b-d9c2-41a8-9a94-75e4ad31a110",
   "metadata": {},
   "outputs": [],
   "source": [
    "# First we will classify based on specific emotions\n",
    "classifier = pipeline('text-classification', model='bhadresh-savani/distilbert-base-uncased-emotion', return_all_scores=True)"
   ]
  },
  {
   "cell_type": "code",
   "execution_count": 8,
   "id": "d2eec1c8-9c80-4244-8670-0f67c69b1384",
   "metadata": {},
   "outputs": [],
   "source": [
    "df['Emotions'] = df['text'].apply(lambda tweet: classifier(tweet))"
   ]
  },
  {
   "cell_type": "code",
   "execution_count": 10,
   "id": "9023920b-88cd-4a74-b4ad-555605746dd3",
   "metadata": {},
   "outputs": [],
   "source": [
    "#Now we are going to find sentiments with bertweet\n",
    "SentClassify = pipeline('text-classification', model='finiteautomata/bertweet-base-sentiment-analysis', return_all_scores=True)"
   ]
  },
  {
   "cell_type": "code",
   "execution_count": 12,
   "id": "376c3af8-19c4-4ee4-8aa3-b8eb7b0307d7",
   "metadata": {},
   "outputs": [],
   "source": [
    "#This may be less accurate as this is truncated to the old twitter length\n",
    "df['Bert_Scents'] = df['text'].apply(lambda tweet: SentClassify(tweet[:127]))"
   ]
  },
  {
   "cell_type": "code",
   "execution_count": 13,
   "id": "39274eda-ec0b-4497-adcc-4ba4c55b9e54",
   "metadata": {},
   "outputs": [],
   "source": [
    "#Next we will use VADER\n",
    "import nltk"
   ]
  },
  {
   "cell_type": "code",
   "execution_count": 14,
   "id": "10d52695-e60a-4835-8ba3-be445a638e21",
   "metadata": {},
   "outputs": [
    {
     "name": "stderr",
     "output_type": "stream",
     "text": [
      "[nltk_data] Downloading package vader_lexicon to\n",
      "[nltk_data]     /home/jovyan/nltk_data...\n",
      "[nltk_data]   Package vader_lexicon is already up-to-date!\n"
     ]
    },
    {
     "data": {
      "text/plain": [
       "True"
      ]
     },
     "execution_count": 14,
     "metadata": {},
     "output_type": "execute_result"
    }
   ],
   "source": [
    "nltk.download('vader_lexicon')"
   ]
  },
  {
   "cell_type": "code",
   "execution_count": 15,
   "id": "95343811-1a45-4654-b9b3-cd0005bc6e28",
   "metadata": {},
   "outputs": [],
   "source": [
    "from nltk.sentiment.vader import SentimentIntensityAnalyzer\n",
    "\n",
    "sid = SentimentIntensityAnalyzer()"
   ]
  },
  {
   "cell_type": "code",
   "execution_count": 17,
   "id": "19d4b339-0137-49ae-973c-e7cc377593bf",
   "metadata": {},
   "outputs": [],
   "source": [
    "df['VADER_Scents'] = df['text'].apply(lambda tweet: sid.polarity_scores(tweet))"
   ]
  },
  {
   "cell_type": "code",
   "execution_count": 18,
   "id": "9e043dcb-6954-40d7-8a90-08450039aa48",
   "metadata": {},
   "outputs": [],
   "source": [
    "df.to_csv('/notebooks/evanc/KoReCOVID/resources/Pol5_Clean_Sample_Scores.csv')"
   ]
  },
  {
   "cell_type": "code",
   "execution_count": 34,
   "id": "ad6ca4de-95fd-4d80-96c5-e5145c9bb0d9",
   "metadata": {},
   "outputs": [],
   "source": [
    "df = df.reset_index()"
   ]
  },
  {
   "cell_type": "code",
   "execution_count": 35,
   "id": "f254a776-81c9-4cce-84d3-e7a1cdc46371",
   "metadata": {},
   "outputs": [],
   "source": [
    "df_sentiments = df[['id','Emotions','Bert_Scents','VADER_Scents']]"
   ]
  },
  {
   "cell_type": "code",
   "execution_count": 36,
   "id": "1d9663cc-3b35-4e12-85c1-449326f36c22",
   "metadata": {},
   "outputs": [
    {
     "data": {
      "text/html": [
       "<div>\n",
       "<style scoped>\n",
       "    .dataframe tbody tr th:only-of-type {\n",
       "        vertical-align: middle;\n",
       "    }\n",
       "\n",
       "    .dataframe tbody tr th {\n",
       "        vertical-align: top;\n",
       "    }\n",
       "\n",
       "    .dataframe thead th {\n",
       "        text-align: right;\n",
       "    }\n",
       "</style>\n",
       "<table border=\"1\" class=\"dataframe\">\n",
       "  <thead>\n",
       "    <tr style=\"text-align: right;\">\n",
       "      <th></th>\n",
       "      <th>id</th>\n",
       "      <th>Emotions</th>\n",
       "      <th>Bert_Scents</th>\n",
       "      <th>VADER_Scents</th>\n",
       "    </tr>\n",
       "  </thead>\n",
       "  <tbody>\n",
       "    <tr>\n",
       "      <th>0</th>\n",
       "      <td>1263614456829022209</td>\n",
       "      <td>[[{'label': 'sadness', 'score': 0.029198400676...</td>\n",
       "      <td>[[{'label': 'NEG', 'score': 0.0016769989160820...</td>\n",
       "      <td>{'neg': 0.0, 'neu': 0.85, 'pos': 0.15, 'compou...</td>\n",
       "    </tr>\n",
       "    <tr>\n",
       "      <th>1</th>\n",
       "      <td>1262079896785784834</td>\n",
       "      <td>[[{'label': 'sadness', 'score': 0.117977239191...</td>\n",
       "      <td>[[{'label': 'NEG', 'score': 0.9805493950843811...</td>\n",
       "      <td>{'neg': 0.085, 'neu': 0.915, 'pos': 0.0, 'comp...</td>\n",
       "    </tr>\n",
       "    <tr>\n",
       "      <th>2</th>\n",
       "      <td>1263132600480206849</td>\n",
       "      <td>[[{'label': 'sadness', 'score': 0.000932891038...</td>\n",
       "      <td>[[{'label': 'NEG', 'score': 0.9853773713111877...</td>\n",
       "      <td>{'neg': 0.276, 'neu': 0.59, 'pos': 0.134, 'com...</td>\n",
       "    </tr>\n",
       "    <tr>\n",
       "      <th>3</th>\n",
       "      <td>1266992084638105601</td>\n",
       "      <td>[[{'label': 'sadness', 'score': 0.998848080635...</td>\n",
       "      <td>[[{'label': 'NEG', 'score': 0.9828436374664307...</td>\n",
       "      <td>{'neg': 0.216, 'neu': 0.647, 'pos': 0.137, 'co...</td>\n",
       "    </tr>\n",
       "    <tr>\n",
       "      <th>4</th>\n",
       "      <td>1265169143835299849</td>\n",
       "      <td>[[{'label': 'sadness', 'score': 0.193735733628...</td>\n",
       "      <td>[[{'label': 'NEG', 'score': 0.9717398881912231...</td>\n",
       "      <td>{'neg': 0.3, 'neu': 0.7, 'pos': 0.0, 'compound...</td>\n",
       "    </tr>\n",
       "    <tr>\n",
       "      <th>...</th>\n",
       "      <td>...</td>\n",
       "      <td>...</td>\n",
       "      <td>...</td>\n",
       "      <td>...</td>\n",
       "    </tr>\n",
       "    <tr>\n",
       "      <th>4995</th>\n",
       "      <td>1262974259930038274</td>\n",
       "      <td>[[{'label': 'sadness', 'score': 0.676169037818...</td>\n",
       "      <td>[[{'label': 'NEG', 'score': 0.0044236690737307...</td>\n",
       "      <td>{'neg': 0.215, 'neu': 0.754, 'pos': 0.031, 'co...</td>\n",
       "    </tr>\n",
       "    <tr>\n",
       "      <th>4996</th>\n",
       "      <td>1261282692752044033</td>\n",
       "      <td>[[{'label': 'sadness', 'score': 0.028182098641...</td>\n",
       "      <td>[[{'label': 'NEG', 'score': 0.8639341592788696...</td>\n",
       "      <td>{'neg': 0.202, 'neu': 0.798, 'pos': 0.0, 'comp...</td>\n",
       "    </tr>\n",
       "    <tr>\n",
       "      <th>4997</th>\n",
       "      <td>1262855000411254785</td>\n",
       "      <td>[[{'label': 'sadness', 'score': 0.019029801711...</td>\n",
       "      <td>[[{'label': 'NEG', 'score': 0.7460896372795105...</td>\n",
       "      <td>{'neg': 0.18, 'neu': 0.695, 'pos': 0.125, 'com...</td>\n",
       "    </tr>\n",
       "    <tr>\n",
       "      <th>4998</th>\n",
       "      <td>1263725963034136576</td>\n",
       "      <td>[[{'label': 'sadness', 'score': 0.998223602771...</td>\n",
       "      <td>[[{'label': 'NEG', 'score': 0.9808047413825989...</td>\n",
       "      <td>{'neg': 0.297, 'neu': 0.568, 'pos': 0.135, 'co...</td>\n",
       "    </tr>\n",
       "    <tr>\n",
       "      <th>4999</th>\n",
       "      <td>1265699120850894849</td>\n",
       "      <td>[[{'label': 'sadness', 'score': 0.009279814548...</td>\n",
       "      <td>[[{'label': 'NEG', 'score': 0.1897806674242019...</td>\n",
       "      <td>{'neg': 0.0, 'neu': 1.0, 'pos': 0.0, 'compound...</td>\n",
       "    </tr>\n",
       "  </tbody>\n",
       "</table>\n",
       "<p>5000 rows × 4 columns</p>\n",
       "</div>"
      ],
      "text/plain": [
       "                       id                                           Emotions  \\\n",
       "0     1263614456829022209  [[{'label': 'sadness', 'score': 0.029198400676...   \n",
       "1     1262079896785784834  [[{'label': 'sadness', 'score': 0.117977239191...   \n",
       "2     1263132600480206849  [[{'label': 'sadness', 'score': 0.000932891038...   \n",
       "3     1266992084638105601  [[{'label': 'sadness', 'score': 0.998848080635...   \n",
       "4     1265169143835299849  [[{'label': 'sadness', 'score': 0.193735733628...   \n",
       "...                   ...                                                ...   \n",
       "4995  1262974259930038274  [[{'label': 'sadness', 'score': 0.676169037818...   \n",
       "4996  1261282692752044033  [[{'label': 'sadness', 'score': 0.028182098641...   \n",
       "4997  1262855000411254785  [[{'label': 'sadness', 'score': 0.019029801711...   \n",
       "4998  1263725963034136576  [[{'label': 'sadness', 'score': 0.998223602771...   \n",
       "4999  1265699120850894849  [[{'label': 'sadness', 'score': 0.009279814548...   \n",
       "\n",
       "                                            Bert_Scents  \\\n",
       "0     [[{'label': 'NEG', 'score': 0.0016769989160820...   \n",
       "1     [[{'label': 'NEG', 'score': 0.9805493950843811...   \n",
       "2     [[{'label': 'NEG', 'score': 0.9853773713111877...   \n",
       "3     [[{'label': 'NEG', 'score': 0.9828436374664307...   \n",
       "4     [[{'label': 'NEG', 'score': 0.9717398881912231...   \n",
       "...                                                 ...   \n",
       "4995  [[{'label': 'NEG', 'score': 0.0044236690737307...   \n",
       "4996  [[{'label': 'NEG', 'score': 0.8639341592788696...   \n",
       "4997  [[{'label': 'NEG', 'score': 0.7460896372795105...   \n",
       "4998  [[{'label': 'NEG', 'score': 0.9808047413825989...   \n",
       "4999  [[{'label': 'NEG', 'score': 0.1897806674242019...   \n",
       "\n",
       "                                           VADER_Scents  \n",
       "0     {'neg': 0.0, 'neu': 0.85, 'pos': 0.15, 'compou...  \n",
       "1     {'neg': 0.085, 'neu': 0.915, 'pos': 0.0, 'comp...  \n",
       "2     {'neg': 0.276, 'neu': 0.59, 'pos': 0.134, 'com...  \n",
       "3     {'neg': 0.216, 'neu': 0.647, 'pos': 0.137, 'co...  \n",
       "4     {'neg': 0.3, 'neu': 0.7, 'pos': 0.0, 'compound...  \n",
       "...                                                 ...  \n",
       "4995  {'neg': 0.215, 'neu': 0.754, 'pos': 0.031, 'co...  \n",
       "4996  {'neg': 0.202, 'neu': 0.798, 'pos': 0.0, 'comp...  \n",
       "4997  {'neg': 0.18, 'neu': 0.695, 'pos': 0.125, 'com...  \n",
       "4998  {'neg': 0.297, 'neu': 0.568, 'pos': 0.135, 'co...  \n",
       "4999  {'neg': 0.0, 'neu': 1.0, 'pos': 0.0, 'compound...  \n",
       "\n",
       "[5000 rows x 4 columns]"
      ]
     },
     "execution_count": 36,
     "metadata": {},
     "output_type": "execute_result"
    }
   ],
   "source": [
    "#Now that have sentiments for each tweet I am going to try to standardize this data and merge it back into the main dataframe\n",
    "#This is so that I can do visualizations with relative ease\n",
    "df_sentiments"
   ]
  },
  {
   "cell_type": "code",
   "execution_count": 37,
   "id": "6ae5ab72-526a-4094-8782-ec1189e5221c",
   "metadata": {},
   "outputs": [
    {
     "data": {
      "text/plain": [
       "[[{'label': 'sadness', 'score': 0.029198400676250458},\n",
       "  {'label': 'joy', 'score': 0.8588876724243164},\n",
       "  {'label': 'love', 'score': 0.0026735954452306032},\n",
       "  {'label': 'anger', 'score': 0.07180817425251007},\n",
       "  {'label': 'fear', 'score': 0.03617622330784798},\n",
       "  {'label': 'surprise', 'score': 0.0012558656744658947}]]"
      ]
     },
     "execution_count": 37,
     "metadata": {},
     "output_type": "execute_result"
    }
   ],
   "source": [
    "#First we are going to deal with the emotions since I'm not a huge fan of it's current format\n",
    "df_sentiments['Emotions'][0] #Here I take a look at the data structure and we are going to change it to a simple dicitonary"
   ]
  },
  {
   "cell_type": "code",
   "execution_count": null,
   "id": "b4b1c3ce-5b96-445d-afa6-b02a8724feb8",
   "metadata": {},
   "outputs": [],
   "source": [
    "# I am going to make this data look like this {'emotion':(score)}}"
   ]
  },
  {
   "cell_type": "code",
   "execution_count": 40,
   "id": "cc5abd7e-4cf0-4d9c-82b2-c90eaf096cf6",
   "metadata": {},
   "outputs": [
    {
     "data": {
      "text/plain": [
       "'sadness'"
      ]
     },
     "execution_count": 40,
     "metadata": {},
     "output_type": "execute_result"
    }
   ],
   "source": [
    "df_sentiments['Emotions'][0][0][0]['label']"
   ]
  },
  {
   "cell_type": "code",
   "execution_count": 48,
   "id": "ff986573-b484-4a9b-8809-51fbb0b30f28",
   "metadata": {},
   "outputs": [
    {
     "name": "stderr",
     "output_type": "stream",
     "text": [
      "/tmp/ipykernel_24864/817669527.py:1: SettingWithCopyWarning: \n",
      "A value is trying to be set on a copy of a slice from a DataFrame.\n",
      "Try using .loc[row_indexer,col_indexer] = value instead\n",
      "\n",
      "See the caveats in the documentation: https://pandas.pydata.org/pandas-docs/stable/user_guide/indexing.html#returning-a-view-versus-a-copy\n",
      "  df_sentiments['Emotions'] = df_sentiments['Emotions'].apply(lambda scores: {i['label'] :i['score'] for i in scores[0]})\n"
     ]
    }
   ],
   "source": [
    "df_sentiments['Emotions'] = df_sentiments['Emotions'].apply(lambda scores: {i['label'] :i['score'] for i in scores[0]})"
   ]
  },
  {
   "cell_type": "code",
   "execution_count": 53,
   "id": "b31f4a77-169b-4001-b886-b204217b1dd5",
   "metadata": {},
   "outputs": [
    {
     "data": {
      "text/plain": [
       "[[{'label': 'NEG', 'score': 0.0016769989160820842},\n",
       "  {'label': 'NEU', 'score': 0.2576282024383545},\n",
       "  {'label': 'POS', 'score': 0.7406948208808899}]]"
      ]
     },
     "execution_count": 53,
     "metadata": {},
     "output_type": "execute_result"
    }
   ],
   "source": [
    "#Now that I have the emotions in the right format I will start on the bert sentiment scores\n",
    "df.Bert_Scents[0]"
   ]
  },
  {
   "cell_type": "code",
   "execution_count": 57,
   "id": "cbc3a03b-f44d-41e0-92b4-cd1a767cd04e",
   "metadata": {},
   "outputs": [
    {
     "name": "stderr",
     "output_type": "stream",
     "text": [
      "/tmp/ipykernel_24864/2729609626.py:1: SettingWithCopyWarning: \n",
      "A value is trying to be set on a copy of a slice from a DataFrame.\n",
      "Try using .loc[row_indexer,col_indexer] = value instead\n",
      "\n",
      "See the caveats in the documentation: https://pandas.pydata.org/pandas-docs/stable/user_guide/indexing.html#returning-a-view-versus-a-copy\n",
      "  df_sentiments['Bert_Scents'] = df_sentiments['Bert_Scents'].apply(lambda scores: {i['label'] :i['score'] for i in scores[0]})\n"
     ]
    }
   ],
   "source": [
    "df_sentiments['Bert_Scents'] = df_sentiments['Bert_Scents'].apply(lambda scores: {i['label'] :i['score'] for i in scores[0]})"
   ]
  },
  {
   "cell_type": "code",
   "execution_count": 65,
   "id": "a3d1637b-e1f2-431e-a6e0-3b657df08ba5",
   "metadata": {},
   "outputs": [
    {
     "name": "stderr",
     "output_type": "stream",
     "text": [
      "/tmp/ipykernel_24864/4024542694.py:1: SettingWithCopyWarning: \n",
      "A value is trying to be set on a copy of a slice from a DataFrame.\n",
      "Try using .loc[row_indexer,col_indexer] = value instead\n",
      "\n",
      "See the caveats in the documentation: https://pandas.pydata.org/pandas-docs/stable/user_guide/indexing.html#returning-a-view-versus-a-copy\n",
      "  df_sentiments['Bert_Scents'] = df_sentiments['Bert_Scents'].apply(lambda sents: {k.lower():v for k,v in sents.items()})\n"
     ]
    }
   ],
   "source": [
    "df_sentiments['Bert_Scents'] = df_sentiments['Bert_Scents'].apply(lambda sents: {k.lower():v for k,v in sents.items()})"
   ]
  },
  {
   "cell_type": "code",
   "execution_count": 66,
   "id": "edf51d00-5091-4839-929f-6364e39da0da",
   "metadata": {},
   "outputs": [
    {
     "data": {
      "text/html": [
       "<div>\n",
       "<style scoped>\n",
       "    .dataframe tbody tr th:only-of-type {\n",
       "        vertical-align: middle;\n",
       "    }\n",
       "\n",
       "    .dataframe tbody tr th {\n",
       "        vertical-align: top;\n",
       "    }\n",
       "\n",
       "    .dataframe thead th {\n",
       "        text-align: right;\n",
       "    }\n",
       "</style>\n",
       "<table border=\"1\" class=\"dataframe\">\n",
       "  <thead>\n",
       "    <tr style=\"text-align: right;\">\n",
       "      <th></th>\n",
       "      <th>id</th>\n",
       "      <th>Emotions</th>\n",
       "      <th>Bert_Scents</th>\n",
       "      <th>VADER_Scents</th>\n",
       "    </tr>\n",
       "  </thead>\n",
       "  <tbody>\n",
       "    <tr>\n",
       "      <th>0</th>\n",
       "      <td>1263614456829022209</td>\n",
       "      <td>{'sadness': 0.029198400676250458, 'joy': 0.858...</td>\n",
       "      <td>{'neg': 0.0016769989160820842, 'neu': 0.257628...</td>\n",
       "      <td>{'neg': 0.0, 'neu': 0.85, 'pos': 0.15, 'compou...</td>\n",
       "    </tr>\n",
       "    <tr>\n",
       "      <th>1</th>\n",
       "      <td>1262079896785784834</td>\n",
       "      <td>{'sadness': 0.11797723919153214, 'joy': 0.0096...</td>\n",
       "      <td>{'neg': 0.9805493950843811, 'neu': 0.015814296...</td>\n",
       "      <td>{'neg': 0.085, 'neu': 0.915, 'pos': 0.0, 'comp...</td>\n",
       "    </tr>\n",
       "    <tr>\n",
       "      <th>2</th>\n",
       "      <td>1263132600480206849</td>\n",
       "      <td>{'sadness': 0.0009328910382464528, 'joy': 0.00...</td>\n",
       "      <td>{'neg': 0.9853773713111877, 'neu': 0.009474319...</td>\n",
       "      <td>{'neg': 0.276, 'neu': 0.59, 'pos': 0.134, 'com...</td>\n",
       "    </tr>\n",
       "    <tr>\n",
       "      <th>3</th>\n",
       "      <td>1266992084638105601</td>\n",
       "      <td>{'sadness': 0.9988480806350708, 'joy': 0.00025...</td>\n",
       "      <td>{'neg': 0.9828436374664307, 'neu': 0.013597691...</td>\n",
       "      <td>{'neg': 0.216, 'neu': 0.647, 'pos': 0.137, 'co...</td>\n",
       "    </tr>\n",
       "    <tr>\n",
       "      <th>4</th>\n",
       "      <td>1265169143835299849</td>\n",
       "      <td>{'sadness': 0.193735733628273, 'joy': 0.002407...</td>\n",
       "      <td>{'neg': 0.9717398881912231, 'neu': 0.025310093...</td>\n",
       "      <td>{'neg': 0.3, 'neu': 0.7, 'pos': 0.0, 'compound...</td>\n",
       "    </tr>\n",
       "  </tbody>\n",
       "</table>\n",
       "</div>"
      ],
      "text/plain": [
       "                    id                                           Emotions  \\\n",
       "0  1263614456829022209  {'sadness': 0.029198400676250458, 'joy': 0.858...   \n",
       "1  1262079896785784834  {'sadness': 0.11797723919153214, 'joy': 0.0096...   \n",
       "2  1263132600480206849  {'sadness': 0.0009328910382464528, 'joy': 0.00...   \n",
       "3  1266992084638105601  {'sadness': 0.9988480806350708, 'joy': 0.00025...   \n",
       "4  1265169143835299849  {'sadness': 0.193735733628273, 'joy': 0.002407...   \n",
       "\n",
       "                                         Bert_Scents  \\\n",
       "0  {'neg': 0.0016769989160820842, 'neu': 0.257628...   \n",
       "1  {'neg': 0.9805493950843811, 'neu': 0.015814296...   \n",
       "2  {'neg': 0.9853773713111877, 'neu': 0.009474319...   \n",
       "3  {'neg': 0.9828436374664307, 'neu': 0.013597691...   \n",
       "4  {'neg': 0.9717398881912231, 'neu': 0.025310093...   \n",
       "\n",
       "                                        VADER_Scents  \n",
       "0  {'neg': 0.0, 'neu': 0.85, 'pos': 0.15, 'compou...  \n",
       "1  {'neg': 0.085, 'neu': 0.915, 'pos': 0.0, 'comp...  \n",
       "2  {'neg': 0.276, 'neu': 0.59, 'pos': 0.134, 'com...  \n",
       "3  {'neg': 0.216, 'neu': 0.647, 'pos': 0.137, 'co...  \n",
       "4  {'neg': 0.3, 'neu': 0.7, 'pos': 0.0, 'compound...  "
      ]
     },
     "execution_count": 66,
     "metadata": {},
     "output_type": "execute_result"
    }
   ],
   "source": [
    "#Now let's check the formatting of everything\n",
    "df_sentiments.head()"
   ]
  },
  {
   "cell_type": "code",
   "execution_count": 67,
   "id": "54bcb40b-021f-48db-97b2-b5ba94572dc9",
   "metadata": {},
   "outputs": [],
   "source": [
    "#Now that everything is reletivly standard I am going to extract a string from each row that best represtents each way of\n",
    "#detecting emotion"
   ]
  },
  {
   "cell_type": "code",
   "execution_count": 71,
   "id": "f6709fd0-00d5-4be4-8edf-ce4d190e83f1",
   "metadata": {},
   "outputs": [
    {
     "name": "stderr",
     "output_type": "stream",
     "text": [
      "/tmp/ipykernel_24864/1906636997.py:1: SettingWithCopyWarning: \n",
      "A value is trying to be set on a copy of a slice from a DataFrame.\n",
      "Try using .loc[row_indexer,col_indexer] = value instead\n",
      "\n",
      "See the caveats in the documentation: https://pandas.pydata.org/pandas-docs/stable/user_guide/indexing.html#returning-a-view-versus-a-copy\n",
      "  df_sentiments['Highest_Emotion'] = df_sentiments['Emotions'].apply(lambda emotions: max(emotions, key=emotions.get))\n",
      "/tmp/ipykernel_24864/1906636997.py:2: SettingWithCopyWarning: \n",
      "A value is trying to be set on a copy of a slice from a DataFrame.\n",
      "Try using .loc[row_indexer,col_indexer] = value instead\n",
      "\n",
      "See the caveats in the documentation: https://pandas.pydata.org/pandas-docs/stable/user_guide/indexing.html#returning-a-view-versus-a-copy\n",
      "  df_sentiments['Bert_Scents'] = df_sentiments['Bert_Scents'].apply(lambda scents: max(scents, key=scents.get))\n"
     ]
    }
   ],
   "source": [
    "df_sentiments['Highest_Emotion'] = df_sentiments['Emotions'].apply(lambda emotions: max(emotions, key=emotions.get))\n",
    "df_sentiments['Bert_Scents'] = df_sentiments['Bert_Scents'].apply(lambda scents: max(scents, key=scents.get))"
   ]
  },
  {
   "cell_type": "code",
   "execution_count": 72,
   "id": "051488c5-5522-412e-ae96-b7edb070dcc1",
   "metadata": {},
   "outputs": [
    {
     "data": {
      "text/html": [
       "<div>\n",
       "<style scoped>\n",
       "    .dataframe tbody tr th:only-of-type {\n",
       "        vertical-align: middle;\n",
       "    }\n",
       "\n",
       "    .dataframe tbody tr th {\n",
       "        vertical-align: top;\n",
       "    }\n",
       "\n",
       "    .dataframe thead th {\n",
       "        text-align: right;\n",
       "    }\n",
       "</style>\n",
       "<table border=\"1\" class=\"dataframe\">\n",
       "  <thead>\n",
       "    <tr style=\"text-align: right;\">\n",
       "      <th></th>\n",
       "      <th>id</th>\n",
       "      <th>Emotions</th>\n",
       "      <th>Bert_Scents</th>\n",
       "      <th>VADER_Scents</th>\n",
       "      <th>Highest_Emotion</th>\n",
       "    </tr>\n",
       "  </thead>\n",
       "  <tbody>\n",
       "    <tr>\n",
       "      <th>0</th>\n",
       "      <td>1263614456829022209</td>\n",
       "      <td>{'sadness': 0.029198400676250458, 'joy': 0.858...</td>\n",
       "      <td>pos</td>\n",
       "      <td>{'neg': 0.0, 'neu': 0.85, 'pos': 0.15, 'compou...</td>\n",
       "      <td>joy</td>\n",
       "    </tr>\n",
       "    <tr>\n",
       "      <th>1</th>\n",
       "      <td>1262079896785784834</td>\n",
       "      <td>{'sadness': 0.11797723919153214, 'joy': 0.0096...</td>\n",
       "      <td>neg</td>\n",
       "      <td>{'neg': 0.085, 'neu': 0.915, 'pos': 0.0, 'comp...</td>\n",
       "      <td>fear</td>\n",
       "    </tr>\n",
       "    <tr>\n",
       "      <th>2</th>\n",
       "      <td>1263132600480206849</td>\n",
       "      <td>{'sadness': 0.0009328910382464528, 'joy': 0.00...</td>\n",
       "      <td>neg</td>\n",
       "      <td>{'neg': 0.276, 'neu': 0.59, 'pos': 0.134, 'com...</td>\n",
       "      <td>anger</td>\n",
       "    </tr>\n",
       "    <tr>\n",
       "      <th>3</th>\n",
       "      <td>1266992084638105601</td>\n",
       "      <td>{'sadness': 0.9988480806350708, 'joy': 0.00025...</td>\n",
       "      <td>neg</td>\n",
       "      <td>{'neg': 0.216, 'neu': 0.647, 'pos': 0.137, 'co...</td>\n",
       "      <td>sadness</td>\n",
       "    </tr>\n",
       "    <tr>\n",
       "      <th>4</th>\n",
       "      <td>1265169143835299849</td>\n",
       "      <td>{'sadness': 0.193735733628273, 'joy': 0.002407...</td>\n",
       "      <td>neg</td>\n",
       "      <td>{'neg': 0.3, 'neu': 0.7, 'pos': 0.0, 'compound...</td>\n",
       "      <td>fear</td>\n",
       "    </tr>\n",
       "  </tbody>\n",
       "</table>\n",
       "</div>"
      ],
      "text/plain": [
       "                    id                                           Emotions  \\\n",
       "0  1263614456829022209  {'sadness': 0.029198400676250458, 'joy': 0.858...   \n",
       "1  1262079896785784834  {'sadness': 0.11797723919153214, 'joy': 0.0096...   \n",
       "2  1263132600480206849  {'sadness': 0.0009328910382464528, 'joy': 0.00...   \n",
       "3  1266992084638105601  {'sadness': 0.9988480806350708, 'joy': 0.00025...   \n",
       "4  1265169143835299849  {'sadness': 0.193735733628273, 'joy': 0.002407...   \n",
       "\n",
       "  Bert_Scents                                       VADER_Scents  \\\n",
       "0         pos  {'neg': 0.0, 'neu': 0.85, 'pos': 0.15, 'compou...   \n",
       "1         neg  {'neg': 0.085, 'neu': 0.915, 'pos': 0.0, 'comp...   \n",
       "2         neg  {'neg': 0.276, 'neu': 0.59, 'pos': 0.134, 'com...   \n",
       "3         neg  {'neg': 0.216, 'neu': 0.647, 'pos': 0.137, 'co...   \n",
       "4         neg  {'neg': 0.3, 'neu': 0.7, 'pos': 0.0, 'compound...   \n",
       "\n",
       "  Highest_Emotion  \n",
       "0             joy  \n",
       "1            fear  \n",
       "2           anger  \n",
       "3         sadness  \n",
       "4            fear  "
      ]
     },
     "execution_count": 72,
     "metadata": {},
     "output_type": "execute_result"
    }
   ],
   "source": [
    "df_sentiments.head()"
   ]
  },
  {
   "cell_type": "code",
   "execution_count": 73,
   "id": "e0c81868-8e11-4d33-94ed-6481254c1dcd",
   "metadata": {},
   "outputs": [],
   "source": [
    "def Classify_Sentiment(score):\n",
    "    if score >= 0.6:\n",
    "        return 'pos'\n",
    "    elif score <= 0.4: \n",
    "        return 'neg'\n",
    "    else:\n",
    "        return 'neu'"
   ]
  },
  {
   "cell_type": "code",
   "execution_count": 80,
   "id": "5f913adf-fc2c-40fb-9ef7-a0c0111d1128",
   "metadata": {},
   "outputs": [
    {
     "name": "stderr",
     "output_type": "stream",
     "text": [
      "/tmp/ipykernel_24864/309123767.py:1: SettingWithCopyWarning: \n",
      "A value is trying to be set on a copy of a slice from a DataFrame.\n",
      "Try using .loc[row_indexer,col_indexer] = value instead\n",
      "\n",
      "See the caveats in the documentation: https://pandas.pydata.org/pandas-docs/stable/user_guide/indexing.html#returning-a-view-versus-a-copy\n",
      "  df_sentiments['VADER_Sents_Cat'] = df_sentiments['VADER_Scents'].apply(lambda x: Classify_Sentiment(x['compound']))\n"
     ]
    }
   ],
   "source": [
    "df_sentiments['VADER_Sents_Cat'] = df_sentiments['VADER_Scents'].apply(lambda x: Classify_Sentiment(x['compound']))"
   ]
  },
  {
   "cell_type": "code",
   "execution_count": 81,
   "id": "134cf15d-c473-408c-830d-2b3bec4c37d4",
   "metadata": {},
   "outputs": [
    {
     "data": {
      "text/html": [
       "<div>\n",
       "<style scoped>\n",
       "    .dataframe tbody tr th:only-of-type {\n",
       "        vertical-align: middle;\n",
       "    }\n",
       "\n",
       "    .dataframe tbody tr th {\n",
       "        vertical-align: top;\n",
       "    }\n",
       "\n",
       "    .dataframe thead th {\n",
       "        text-align: right;\n",
       "    }\n",
       "</style>\n",
       "<table border=\"1\" class=\"dataframe\">\n",
       "  <thead>\n",
       "    <tr style=\"text-align: right;\">\n",
       "      <th></th>\n",
       "      <th>id</th>\n",
       "      <th>Emotions</th>\n",
       "      <th>Bert_Scents</th>\n",
       "      <th>VADER_Scents</th>\n",
       "      <th>Highest_Emotion</th>\n",
       "      <th>VADER_Sents_Cat</th>\n",
       "    </tr>\n",
       "  </thead>\n",
       "  <tbody>\n",
       "    <tr>\n",
       "      <th>0</th>\n",
       "      <td>1263614456829022209</td>\n",
       "      <td>{'sadness': 0.029198400676250458, 'joy': 0.858...</td>\n",
       "      <td>pos</td>\n",
       "      <td>{'neg': 0.0, 'neu': 0.85, 'pos': 0.15, 'compou...</td>\n",
       "      <td>joy</td>\n",
       "      <td>neu</td>\n",
       "    </tr>\n",
       "    <tr>\n",
       "      <th>1</th>\n",
       "      <td>1262079896785784834</td>\n",
       "      <td>{'sadness': 0.11797723919153214, 'joy': 0.0096...</td>\n",
       "      <td>neg</td>\n",
       "      <td>{'neg': 0.085, 'neu': 0.915, 'pos': 0.0, 'comp...</td>\n",
       "      <td>fear</td>\n",
       "      <td>neg</td>\n",
       "    </tr>\n",
       "    <tr>\n",
       "      <th>2</th>\n",
       "      <td>1263132600480206849</td>\n",
       "      <td>{'sadness': 0.0009328910382464528, 'joy': 0.00...</td>\n",
       "      <td>neg</td>\n",
       "      <td>{'neg': 0.276, 'neu': 0.59, 'pos': 0.134, 'com...</td>\n",
       "      <td>anger</td>\n",
       "      <td>neg</td>\n",
       "    </tr>\n",
       "    <tr>\n",
       "      <th>3</th>\n",
       "      <td>1266992084638105601</td>\n",
       "      <td>{'sadness': 0.9988480806350708, 'joy': 0.00025...</td>\n",
       "      <td>neg</td>\n",
       "      <td>{'neg': 0.216, 'neu': 0.647, 'pos': 0.137, 'co...</td>\n",
       "      <td>sadness</td>\n",
       "      <td>neg</td>\n",
       "    </tr>\n",
       "    <tr>\n",
       "      <th>4</th>\n",
       "      <td>1265169143835299849</td>\n",
       "      <td>{'sadness': 0.193735733628273, 'joy': 0.002407...</td>\n",
       "      <td>neg</td>\n",
       "      <td>{'neg': 0.3, 'neu': 0.7, 'pos': 0.0, 'compound...</td>\n",
       "      <td>fear</td>\n",
       "      <td>neg</td>\n",
       "    </tr>\n",
       "  </tbody>\n",
       "</table>\n",
       "</div>"
      ],
      "text/plain": [
       "                    id                                           Emotions  \\\n",
       "0  1263614456829022209  {'sadness': 0.029198400676250458, 'joy': 0.858...   \n",
       "1  1262079896785784834  {'sadness': 0.11797723919153214, 'joy': 0.0096...   \n",
       "2  1263132600480206849  {'sadness': 0.0009328910382464528, 'joy': 0.00...   \n",
       "3  1266992084638105601  {'sadness': 0.9988480806350708, 'joy': 0.00025...   \n",
       "4  1265169143835299849  {'sadness': 0.193735733628273, 'joy': 0.002407...   \n",
       "\n",
       "  Bert_Scents                                       VADER_Scents  \\\n",
       "0         pos  {'neg': 0.0, 'neu': 0.85, 'pos': 0.15, 'compou...   \n",
       "1         neg  {'neg': 0.085, 'neu': 0.915, 'pos': 0.0, 'comp...   \n",
       "2         neg  {'neg': 0.276, 'neu': 0.59, 'pos': 0.134, 'com...   \n",
       "3         neg  {'neg': 0.216, 'neu': 0.647, 'pos': 0.137, 'co...   \n",
       "4         neg  {'neg': 0.3, 'neu': 0.7, 'pos': 0.0, 'compound...   \n",
       "\n",
       "  Highest_Emotion VADER_Sents_Cat  \n",
       "0             joy             neu  \n",
       "1            fear             neg  \n",
       "2           anger             neg  \n",
       "3         sadness             neg  \n",
       "4            fear             neg  "
      ]
     },
     "execution_count": 81,
     "metadata": {},
     "output_type": "execute_result"
    }
   ],
   "source": [
    "df_sentiments.head()"
   ]
  },
  {
   "cell_type": "code",
   "execution_count": 105,
   "id": "4c0f3eb6-0cd1-4fa6-99f9-69483c05c5f0",
   "metadata": {},
   "outputs": [
    {
     "data": {
      "text/plain": [
       "<AxesSubplot:title={'center':'Bar Plot of Catagorical Emotions for Each Tweet'}, xlabel='Highest_Emotion', ylabel='count'>"
      ]
     },
     "execution_count": 105,
     "metadata": {},
     "output_type": "execute_result"
    },
    {
     "data": {
      "image/png": "[encoded data removed]",
      "text/plain": [
       "<Figure size 864x576 with 1 Axes>"
      ]
     },
     "metadata": {
      "needs_background": "light"
     },
     "output_type": "display_data"
    }
   ],
   "source": [
    "# Now that I have categorical variables for each of these metics I will make some bar charts\n",
    "# 1) Emotions\n",
    "plt.figure(figsize=(12,8))\n",
    "plt.title('Bar Plot of Catagorical Emotions for Each Tweet')\n",
    "sns.countplot(data=df_sentiments, x='Highest_Emotion')"
   ]
  },
  {
   "cell_type": "code",
   "execution_count": 102,
   "id": "c43ea5eb-bc1c-4a30-b945-ac064337f8fd",
   "metadata": {},
   "outputs": [
    {
     "data": {
      "text/plain": [
       "<AxesSubplot:title={'center':'Bar Plot of Catagorical Bert Sentiments for Each Tweet'}, xlabel='Bert_Scents', ylabel='count'>"
      ]
     },
     "execution_count": 102,
     "metadata": {},
     "output_type": "execute_result"
    },
    {
     "data": {
      "image/png": "[encoded data removed]",
      "text/plain": [
       "<Figure size 864x576 with 1 Axes>"
      ]
     },
     "metadata": {
      "needs_background": "light"
     },
     "output_type": "display_data"
    }
   ],
   "source": [
    "# 2) Bert Sentiments\n",
    "plt.figure(figsize=(12,8))\n",
    "plt.title('Bar Plot of Catagorical Bert Sentiments for Each Tweet')\n",
    "sns.countplot(data=df_sentiments, x='Bert_Scents')"
   ]
  },
  {
   "cell_type": "code",
   "execution_count": 107,
   "id": "cfd31e7f-ef8e-4785-ba1b-48737da6a79b",
   "metadata": {},
   "outputs": [
    {
     "data": {
      "text/plain": [
       "<AxesSubplot:title={'center':'Bar Plot of Catagorical VADER Sentiments for Each Tweet'}, xlabel='VADER_Sents_Cat', ylabel='count'>"
      ]
     },
     "execution_count": 107,
     "metadata": {},
     "output_type": "execute_result"
    },
    {
     "data": {
      "image/png": "[encoded data removed]",
      "text/plain": [
       "<Figure size 864x576 with 1 Axes>"
      ]
     },
     "metadata": {
      "needs_background": "light"
     },
     "output_type": "display_data"
    }
   ],
   "source": [
    "# 2) VADER Sentiments\n",
    "plt.figure(figsize=(12,8))\n",
    "plt.title('Bar Plot of Catagorical VADER Sentiments for Each Tweet')\n",
    "sns.countplot(data=df_sentiments, x='VADER_Sents_Cat')"
   ]
  },
  {
   "cell_type": "code",
   "execution_count": 115,
   "id": "c7bee401-524b-4fd9-b087-c590be104398",
   "metadata": {},
   "outputs": [],
   "source": [
    "df = df.merge(df_sentiments, on='id')"
   ]
  },
  {
   "cell_type": "code",
   "execution_count": 117,
   "id": "da25b970-c388-4488-bdcb-e948a92a2145",
   "metadata": {},
   "outputs": [],
   "source": [
    "df.to_csv('/notebooks/evanc/KoReCOVID/resources/SampleWithEmotionsPol5.csv')"
   ]
  },
  {
   "cell_type": "code",
   "execution_count": null,
   "id": "1fcd3061-1674-49a5-aae9-4023f0a48910",
   "metadata": {},
   "outputs": [],
   "source": []
  }
 ],
 "metadata": {
  "kernelspec": {
   "display_name": "Python 3 (ipykernel)",
   "language": "python",
   "name": "python3"
  },
  "language_info": {
   "codemirror_mode": {
    "name": "ipython",
    "version": 3
   },
   "file_extension": ".py",
   "mimetype": "text/x-python",
   "name": "python",
   "nbconvert_exporter": "python",
   "pygments_lexer": "ipython3",
   "version": "3.9.7"
  }
 },
 "nbformat": 4,
 "nbformat_minor": 5
}
