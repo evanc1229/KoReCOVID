{
 "cells": [
  {
   "cell_type": "markdown",
   "id": "b8c9ec72-38ee-44e5-9bd5-1797adfec3c6",
   "metadata": {},
   "source": [
    "# Emotional anaysis of tweets (Subset)"
   ]
  },
  {
   "cell_type": "code",
   "execution_count": 2,
   "id": "856b6523-87c2-46c2-97b6-c0ae07f01402",
   "metadata": {
    "tags": []
   },
   "outputs": [],
   "source": [
    "import pandas as pd\n",
    "import numpy as np\n",
    "import torch\n",
    "import matplotlib.pyplot as plt\n",
    "import transformers\n",
    "import torch\n",
    "import seaborn as sns"
   ]
  },
  {
   "cell_type": "code",
   "execution_count": 3,
   "id": "a24009a6-decf-4251-bc4b-03ee2f858ba2",
   "metadata": {},
   "outputs": [],
   "source": [
    "#df = pd.read_csv('/notebooks/evanc/KoReCOVID/resources/Pol5_Clean.csv').sample(5000)\n",
    "#Changed this so that this analysis can be reran on pre-labeled text so models don't have to run multipul times\n",
    "df = pd.read_csv('/notebooks/evanc/KoReCOVID/resources/Pol5_Clean_Sample_Scores.csv')"
   ]
  },
  {
   "cell_type": "code",
   "execution_count": 4,
   "id": "7cf324db-31e4-4332-97b4-e68c7e3bd443",
   "metadata": {},
   "outputs": [
    {
     "data": {
      "text/html": [
       "<div>\n",
       "<style scoped>\n",
       "    .dataframe tbody tr th:only-of-type {\n",
       "        vertical-align: middle;\n",
       "    }\n",
       "\n",
       "    .dataframe tbody tr th {\n",
       "        vertical-align: top;\n",
       "    }\n",
       "\n",
       "    .dataframe thead th {\n",
       "        text-align: right;\n",
       "    }\n",
       "</style>\n",
       "<table border=\"1\" class=\"dataframe\">\n",
       "  <thead>\n",
       "    <tr style=\"text-align: right;\">\n",
       "      <th></th>\n",
       "      <th>Unnamed: 0</th>\n",
       "      <th>time</th>\n",
       "      <th>id</th>\n",
       "      <th>text</th>\n",
       "      <th>user</th>\n",
       "      <th>uid</th>\n",
       "      <th>mention_username</th>\n",
       "      <th>mention_id</th>\n",
       "      <th>mention_realname</th>\n",
       "      <th>url</th>\n",
       "      <th>...</th>\n",
       "      <th>user_verified</th>\n",
       "      <th>lang</th>\n",
       "      <th>rtb</th>\n",
       "      <th>mentioncheck</th>\n",
       "      <th>replycheck</th>\n",
       "      <th>month</th>\n",
       "      <th>week</th>\n",
       "      <th>Emotions</th>\n",
       "      <th>Bert_Scents</th>\n",
       "      <th>VADER_Scents</th>\n",
       "    </tr>\n",
       "  </thead>\n",
       "  <tbody>\n",
       "    <tr>\n",
       "      <th>0</th>\n",
       "      <td>138500</td>\n",
       "      <td>2020-05-21 18:51:56+00:00</td>\n",
       "      <td>1263543063789604865</td>\n",
       "      <td>@GovernorVA That's bad news for the county. As...</td>\n",
       "      <td>BurlBud</td>\n",
       "      <td>983180176434573312</td>\n",
       "      <td>GovernorVA</td>\n",
       "      <td>104198706</td>\n",
       "      <td>Ralph Northam</td>\n",
       "      <td>https://t.co/oqlQEOjts5</td>\n",
       "      <td>...</td>\n",
       "      <td>False</td>\n",
       "      <td>en</td>\n",
       "      <td>True</td>\n",
       "      <td>True</td>\n",
       "      <td>True</td>\n",
       "      <td>5</td>\n",
       "      <td>21</td>\n",
       "      <td>[[{'label': 'sadness', 'score': 0.009249932132...</td>\n",
       "      <td>[[{'label': 'NEG', 'score': 0.9852299094200134...</td>\n",
       "      <td>{'neg': 0.332, 'neu': 0.668, 'pos': 0.0, 'comp...</td>\n",
       "    </tr>\n",
       "    <tr>\n",
       "      <th>1</th>\n",
       "      <td>216243</td>\n",
       "      <td>2020-05-24 20:42:57+00:00</td>\n",
       "      <td>1264658166622666754</td>\n",
       "      <td>@realDonaldTrump You are a moron. Deaths have ...</td>\n",
       "      <td>Snicky01</td>\n",
       "      <td>33177764</td>\n",
       "      <td>realDonaldTrump</td>\n",
       "      <td>25073877</td>\n",
       "      <td>Donald J. Trump</td>\n",
       "      <td>https://t.co/Ye32Jbb6ZB</td>\n",
       "      <td>...</td>\n",
       "      <td>False</td>\n",
       "      <td>en</td>\n",
       "      <td>True</td>\n",
       "      <td>True</td>\n",
       "      <td>True</td>\n",
       "      <td>5</td>\n",
       "      <td>21</td>\n",
       "      <td>[[{'label': 'sadness', 'score': 0.133566543459...</td>\n",
       "      <td>[[{'label': 'NEG', 'score': 0.9851841926574707...</td>\n",
       "      <td>{'neg': 0.093, 'neu': 0.754, 'pos': 0.153, 'co...</td>\n",
       "    </tr>\n",
       "    <tr>\n",
       "      <th>2</th>\n",
       "      <td>238039</td>\n",
       "      <td>2020-05-25 20:31:31+00:00</td>\n",
       "      <td>1265017675740180480</td>\n",
       "      <td>@realDonaldTrump Let me fix that for you, Mr. ...</td>\n",
       "      <td>KevinG05202433</td>\n",
       "      <td>1173609415594799110</td>\n",
       "      <td>realDonaldTrump</td>\n",
       "      <td>25073877</td>\n",
       "      <td>Donald J. Trump</td>\n",
       "      <td>https://t.co/isx9zPPDVV</td>\n",
       "      <td>...</td>\n",
       "      <td>False</td>\n",
       "      <td>en</td>\n",
       "      <td>True</td>\n",
       "      <td>True</td>\n",
       "      <td>True</td>\n",
       "      <td>5</td>\n",
       "      <td>22</td>\n",
       "      <td>[[{'label': 'sadness', 'score': 0.214517220854...</td>\n",
       "      <td>[[{'label': 'NEG', 'score': 0.9690086245536804...</td>\n",
       "      <td>{'neg': 0.231, 'neu': 0.769, 'pos': 0.0, 'comp...</td>\n",
       "    </tr>\n",
       "    <tr>\n",
       "      <th>3</th>\n",
       "      <td>215360</td>\n",
       "      <td>2020-05-24 19:20:21+00:00</td>\n",
       "      <td>1264637378603487235</td>\n",
       "      <td>@SylvesterTurner The @HoustonFire can but they...</td>\n",
       "      <td>LTLFreightRates</td>\n",
       "      <td>233632357</td>\n",
       "      <td>SylvesterTurner HoustonFire houmayor</td>\n",
       "      <td>115105973 88957094 1099080229111369728</td>\n",
       "      <td>Sylvester Turner Houston Fire Dept Houston May...</td>\n",
       "      <td>NaN</td>\n",
       "      <td>...</td>\n",
       "      <td>False</td>\n",
       "      <td>en</td>\n",
       "      <td>True</td>\n",
       "      <td>True</td>\n",
       "      <td>True</td>\n",
       "      <td>5</td>\n",
       "      <td>21</td>\n",
       "      <td>[[{'label': 'sadness', 'score': 0.010946567170...</td>\n",
       "      <td>[[{'label': 'NEG', 'score': 0.5163222551345825...</td>\n",
       "      <td>{'neg': 0.0, 'neu': 1.0, 'pos': 0.0, 'compound...</td>\n",
       "    </tr>\n",
       "    <tr>\n",
       "      <th>4</th>\n",
       "      <td>81867</td>\n",
       "      <td>2020-05-18 23:11:34+00:00</td>\n",
       "      <td>1262521237273808896</td>\n",
       "      <td>@Ilhan #Hydroxychloroquine is already availabl...</td>\n",
       "      <td>EarlyJohn3</td>\n",
       "      <td>1043980174587514880</td>\n",
       "      <td>Ilhan</td>\n",
       "      <td>1082334352711790593</td>\n",
       "      <td>Rep. Ilhan Omar</td>\n",
       "      <td>https://t.co/HMVe7PTjOF</td>\n",
       "      <td>...</td>\n",
       "      <td>False</td>\n",
       "      <td>en</td>\n",
       "      <td>True</td>\n",
       "      <td>True</td>\n",
       "      <td>True</td>\n",
       "      <td>5</td>\n",
       "      <td>21</td>\n",
       "      <td>[[{'label': 'sadness', 'score': 0.109045490622...</td>\n",
       "      <td>[[{'label': 'NEG', 'score': 0.0053077568300068...</td>\n",
       "      <td>{'neg': 0.0, 'neu': 1.0, 'pos': 0.0, 'compound...</td>\n",
       "    </tr>\n",
       "  </tbody>\n",
       "</table>\n",
       "<p>5 rows × 34 columns</p>\n",
       "</div>"
      ],
      "text/plain": [
       "   Unnamed: 0                       time                   id  \\\n",
       "0      138500  2020-05-21 18:51:56+00:00  1263543063789604865   \n",
       "1      216243  2020-05-24 20:42:57+00:00  1264658166622666754   \n",
       "2      238039  2020-05-25 20:31:31+00:00  1265017675740180480   \n",
       "3      215360  2020-05-24 19:20:21+00:00  1264637378603487235   \n",
       "4       81867  2020-05-18 23:11:34+00:00  1262521237273808896   \n",
       "\n",
       "                                                text             user  \\\n",
       "0  @GovernorVA That's bad news for the county. As...          BurlBud   \n",
       "1  @realDonaldTrump You are a moron. Deaths have ...         Snicky01   \n",
       "2  @realDonaldTrump Let me fix that for you, Mr. ...   KevinG05202433   \n",
       "3  @SylvesterTurner The @HoustonFire can but they...  LTLFreightRates   \n",
       "4  @Ilhan #Hydroxychloroquine is already availabl...       EarlyJohn3   \n",
       "\n",
       "                   uid                      mention_username  \\\n",
       "0   983180176434573312                            GovernorVA   \n",
       "1             33177764                       realDonaldTrump   \n",
       "2  1173609415594799110                       realDonaldTrump   \n",
       "3            233632357  SylvesterTurner HoustonFire houmayor   \n",
       "4  1043980174587514880                                 Ilhan   \n",
       "\n",
       "                               mention_id  \\\n",
       "0                               104198706   \n",
       "1                                25073877   \n",
       "2                                25073877   \n",
       "3  115105973 88957094 1099080229111369728   \n",
       "4                     1082334352711790593   \n",
       "\n",
       "                                    mention_realname                      url  \\\n",
       "0                                      Ralph Northam  https://t.co/oqlQEOjts5   \n",
       "1                                    Donald J. Trump  https://t.co/Ye32Jbb6ZB   \n",
       "2                                    Donald J. Trump  https://t.co/isx9zPPDVV   \n",
       "3  Sylvester Turner Houston Fire Dept Houston May...                      NaN   \n",
       "4                                    Rep. Ilhan Omar  https://t.co/HMVe7PTjOF   \n",
       "\n",
       "   ... user_verified lang   rtb  mentioncheck replycheck month week  \\\n",
       "0  ...         False   en  True          True       True     5   21   \n",
       "1  ...         False   en  True          True       True     5   21   \n",
       "2  ...         False   en  True          True       True     5   22   \n",
       "3  ...         False   en  True          True       True     5   21   \n",
       "4  ...         False   en  True          True       True     5   21   \n",
       "\n",
       "                                            Emotions  \\\n",
       "0  [[{'label': 'sadness', 'score': 0.009249932132...   \n",
       "1  [[{'label': 'sadness', 'score': 0.133566543459...   \n",
       "2  [[{'label': 'sadness', 'score': 0.214517220854...   \n",
       "3  [[{'label': 'sadness', 'score': 0.010946567170...   \n",
       "4  [[{'label': 'sadness', 'score': 0.109045490622...   \n",
       "\n",
       "                                         Bert_Scents  \\\n",
       "0  [[{'label': 'NEG', 'score': 0.9852299094200134...   \n",
       "1  [[{'label': 'NEG', 'score': 0.9851841926574707...   \n",
       "2  [[{'label': 'NEG', 'score': 0.9690086245536804...   \n",
       "3  [[{'label': 'NEG', 'score': 0.5163222551345825...   \n",
       "4  [[{'label': 'NEG', 'score': 0.0053077568300068...   \n",
       "\n",
       "                                        VADER_Scents  \n",
       "0  {'neg': 0.332, 'neu': 0.668, 'pos': 0.0, 'comp...  \n",
       "1  {'neg': 0.093, 'neu': 0.754, 'pos': 0.153, 'co...  \n",
       "2  {'neg': 0.231, 'neu': 0.769, 'pos': 0.0, 'comp...  \n",
       "3  {'neg': 0.0, 'neu': 1.0, 'pos': 0.0, 'compound...  \n",
       "4  {'neg': 0.0, 'neu': 1.0, 'pos': 0.0, 'compound...  \n",
       "\n",
       "[5 rows x 34 columns]"
      ]
     },
     "execution_count": 4,
     "metadata": {},
     "output_type": "execute_result"
    }
   ],
   "source": [
    "df.head()"
   ]
  },
  {
   "cell_type": "code",
   "execution_count": 5,
   "id": "ffa1b965-76c2-4b4f-be69-ea578a09ec3e",
   "metadata": {},
   "outputs": [
    {
     "data": {
      "text/plain": [
       "(5000, 34)"
      ]
     },
     "execution_count": 5,
     "metadata": {},
     "output_type": "execute_result"
    }
   ],
   "source": [
    "df.shape"
   ]
  },
  {
   "cell_type": "code",
   "execution_count": 6,
   "id": "6090d304-d4d6-45c5-b71d-bc085ef5aac4",
   "metadata": {},
   "outputs": [],
   "source": [
    "df = df.drop('Unnamed: 0', axis=1)"
   ]
  },
  {
   "cell_type": "code",
   "execution_count": 7,
   "id": "19131217-2b17-42eb-8159-a56fe7cc882c",
   "metadata": {},
   "outputs": [],
   "source": [
    "#!!!!!!SKIP IF DO NOT WANT TO RE-RUN ANALYSIS!!!!!!\n",
    "#from transformers import pipeline\n",
    "\n",
    "# First we will classify based on specific emotions\n",
    "#classifier = pipeline('text-classification', model='bhadresh-savani/distilbert-base-uncased-emotion', return_all_scores=True)\n",
    "\n",
    "#df['Emotions'] = df['text'].apply(lambda tweet: classifier(tweet))"
   ]
  },
  {
   "cell_type": "code",
   "execution_count": 8,
   "id": "d37fcd60-a46a-4967-8219-4363ee88ced7",
   "metadata": {},
   "outputs": [],
   "source": [
    "#!!!!!!SKIP IF DO NOT WANT TO RE-RUN ANALYSIS!!!!!!\n",
    "#Now we are going to find sentiments with bertweet\n",
    "#SentClassify = pipeline('text-classification', model='finiteautomata/bertweet-base-sentiment-analysis', return_all_scores=True)\n",
    "\n",
    "#This may be less accurate as this is truncated to the old twitter length\n",
    "#df['Bert_Scents'] = df['text'].apply(lambda tweet: SentClassify(tweet[:127]))"
   ]
  },
  {
   "cell_type": "code",
   "execution_count": 9,
   "id": "95343811-1a45-4654-b9b3-cd0005bc6e28",
   "metadata": {},
   "outputs": [],
   "source": [
    "from vaderSentiment.vaderSentiment import SentimentIntensityAnalyzer\n",
    "sid = SentimentIntensityAnalyzer()"
   ]
  },
  {
   "cell_type": "code",
   "execution_count": 10,
   "id": "19d4b339-0137-49ae-973c-e7cc377593bf",
   "metadata": {},
   "outputs": [],
   "source": [
    "df['VADER_Scents'] = df['text'].apply(lambda tweet: sid.polarity_scores(tweet))"
   ]
  },
  {
   "cell_type": "code",
   "execution_count": null,
   "id": "9e043dcb-6954-40d7-8a90-08450039aa48",
   "metadata": {},
   "outputs": [],
   "source": [
    "#df.to_csv('/notebooks/evanc/KoReCOVID/resources/Pol5_Clean_Sample_Scores.csv')"
   ]
  },
  {
   "cell_type": "code",
   "execution_count": 11,
   "id": "ad6ca4de-95fd-4d80-96c5-e5145c9bb0d9",
   "metadata": {},
   "outputs": [],
   "source": [
    "df = df.reset_index()"
   ]
  },
  {
   "cell_type": "code",
   "execution_count": 12,
   "id": "f254a776-81c9-4cce-84d3-e7a1cdc46371",
   "metadata": {},
   "outputs": [],
   "source": [
    "df_sentiments = df[['id','Emotions','Bert_Scents','VADER_Scents']]"
   ]
  },
  {
   "cell_type": "code",
   "execution_count": 13,
   "id": "1d9663cc-3b35-4e12-85c1-449326f36c22",
   "metadata": {},
   "outputs": [
    {
     "data": {
      "text/html": [
       "<div>\n",
       "<style scoped>\n",
       "    .dataframe tbody tr th:only-of-type {\n",
       "        vertical-align: middle;\n",
       "    }\n",
       "\n",
       "    .dataframe tbody tr th {\n",
       "        vertical-align: top;\n",
       "    }\n",
       "\n",
       "    .dataframe thead th {\n",
       "        text-align: right;\n",
       "    }\n",
       "</style>\n",
       "<table border=\"1\" class=\"dataframe\">\n",
       "  <thead>\n",
       "    <tr style=\"text-align: right;\">\n",
       "      <th></th>\n",
       "      <th>id</th>\n",
       "      <th>Emotions</th>\n",
       "      <th>Bert_Scents</th>\n",
       "      <th>VADER_Scents</th>\n",
       "    </tr>\n",
       "  </thead>\n",
       "  <tbody>\n",
       "    <tr>\n",
       "      <th>0</th>\n",
       "      <td>1263543063789604865</td>\n",
       "      <td>[[{'label': 'sadness', 'score': 0.009249932132...</td>\n",
       "      <td>[[{'label': 'NEG', 'score': 0.9852299094200134...</td>\n",
       "      <td>{'neg': 0.332, 'neu': 0.668, 'pos': 0.0, 'comp...</td>\n",
       "    </tr>\n",
       "    <tr>\n",
       "      <th>1</th>\n",
       "      <td>1264658166622666754</td>\n",
       "      <td>[[{'label': 'sadness', 'score': 0.133566543459...</td>\n",
       "      <td>[[{'label': 'NEG', 'score': 0.9851841926574707...</td>\n",
       "      <td>{'neg': 0.09, 'neu': 0.761, 'pos': 0.149, 'com...</td>\n",
       "    </tr>\n",
       "    <tr>\n",
       "      <th>2</th>\n",
       "      <td>1265017675740180480</td>\n",
       "      <td>[[{'label': 'sadness', 'score': 0.214517220854...</td>\n",
       "      <td>[[{'label': 'NEG', 'score': 0.9690086245536804...</td>\n",
       "      <td>{'neg': 0.231, 'neu': 0.769, 'pos': 0.0, 'comp...</td>\n",
       "    </tr>\n",
       "    <tr>\n",
       "      <th>3</th>\n",
       "      <td>1264637378603487235</td>\n",
       "      <td>[[{'label': 'sadness', 'score': 0.010946567170...</td>\n",
       "      <td>[[{'label': 'NEG', 'score': 0.5163222551345825...</td>\n",
       "      <td>{'neg': 0.0, 'neu': 1.0, 'pos': 0.0, 'compound...</td>\n",
       "    </tr>\n",
       "    <tr>\n",
       "      <th>4</th>\n",
       "      <td>1262521237273808896</td>\n",
       "      <td>[[{'label': 'sadness', 'score': 0.109045490622...</td>\n",
       "      <td>[[{'label': 'NEG', 'score': 0.0053077568300068...</td>\n",
       "      <td>{'neg': 0.0, 'neu': 1.0, 'pos': 0.0, 'compound...</td>\n",
       "    </tr>\n",
       "    <tr>\n",
       "      <th>...</th>\n",
       "      <td>...</td>\n",
       "      <td>...</td>\n",
       "      <td>...</td>\n",
       "      <td>...</td>\n",
       "    </tr>\n",
       "    <tr>\n",
       "      <th>4995</th>\n",
       "      <td>1264522060585414657</td>\n",
       "      <td>[[{'label': 'sadness', 'score': 0.000783213414...</td>\n",
       "      <td>[[{'label': 'NEG', 'score': 0.9687660336494446...</td>\n",
       "      <td>{'neg': 0.0, 'neu': 1.0, 'pos': 0.0, 'compound...</td>\n",
       "    </tr>\n",
       "    <tr>\n",
       "      <th>4996</th>\n",
       "      <td>1263121943294668801</td>\n",
       "      <td>[[{'label': 'sadness', 'score': 0.006558735389...</td>\n",
       "      <td>[[{'label': 'NEG', 'score': 0.9164227843284607...</td>\n",
       "      <td>{'neg': 0.0, 'neu': 0.871, 'pos': 0.129, 'comp...</td>\n",
       "    </tr>\n",
       "    <tr>\n",
       "      <th>4997</th>\n",
       "      <td>1261257300133777410</td>\n",
       "      <td>[[{'label': 'sadness', 'score': 0.179566055536...</td>\n",
       "      <td>[[{'label': 'NEG', 'score': 0.9781259894371033...</td>\n",
       "      <td>{'neg': 0.167, 'neu': 0.833, 'pos': 0.0, 'comp...</td>\n",
       "    </tr>\n",
       "    <tr>\n",
       "      <th>4998</th>\n",
       "      <td>1264702588198453249</td>\n",
       "      <td>[[{'label': 'sadness', 'score': 0.041994303464...</td>\n",
       "      <td>[[{'label': 'NEG', 'score': 0.7488328218460083...</td>\n",
       "      <td>{'neg': 0.087, 'neu': 0.913, 'pos': 0.0, 'comp...</td>\n",
       "    </tr>\n",
       "    <tr>\n",
       "      <th>4999</th>\n",
       "      <td>1265269313675591684</td>\n",
       "      <td>[[{'label': 'sadness', 'score': 0.993682980537...</td>\n",
       "      <td>[[{'label': 'NEG', 'score': 0.983984649181366}...</td>\n",
       "      <td>{'neg': 0.249, 'neu': 0.751, 'pos': 0.0, 'comp...</td>\n",
       "    </tr>\n",
       "  </tbody>\n",
       "</table>\n",
       "<p>5000 rows × 4 columns</p>\n",
       "</div>"
      ],
      "text/plain": [
       "                       id                                           Emotions  \\\n",
       "0     1263543063789604865  [[{'label': 'sadness', 'score': 0.009249932132...   \n",
       "1     1264658166622666754  [[{'label': 'sadness', 'score': 0.133566543459...   \n",
       "2     1265017675740180480  [[{'label': 'sadness', 'score': 0.214517220854...   \n",
       "3     1264637378603487235  [[{'label': 'sadness', 'score': 0.010946567170...   \n",
       "4     1262521237273808896  [[{'label': 'sadness', 'score': 0.109045490622...   \n",
       "...                   ...                                                ...   \n",
       "4995  1264522060585414657  [[{'label': 'sadness', 'score': 0.000783213414...   \n",
       "4996  1263121943294668801  [[{'label': 'sadness', 'score': 0.006558735389...   \n",
       "4997  1261257300133777410  [[{'label': 'sadness', 'score': 0.179566055536...   \n",
       "4998  1264702588198453249  [[{'label': 'sadness', 'score': 0.041994303464...   \n",
       "4999  1265269313675591684  [[{'label': 'sadness', 'score': 0.993682980537...   \n",
       "\n",
       "                                            Bert_Scents  \\\n",
       "0     [[{'label': 'NEG', 'score': 0.9852299094200134...   \n",
       "1     [[{'label': 'NEG', 'score': 0.9851841926574707...   \n",
       "2     [[{'label': 'NEG', 'score': 0.9690086245536804...   \n",
       "3     [[{'label': 'NEG', 'score': 0.5163222551345825...   \n",
       "4     [[{'label': 'NEG', 'score': 0.0053077568300068...   \n",
       "...                                                 ...   \n",
       "4995  [[{'label': 'NEG', 'score': 0.9687660336494446...   \n",
       "4996  [[{'label': 'NEG', 'score': 0.9164227843284607...   \n",
       "4997  [[{'label': 'NEG', 'score': 0.9781259894371033...   \n",
       "4998  [[{'label': 'NEG', 'score': 0.7488328218460083...   \n",
       "4999  [[{'label': 'NEG', 'score': 0.983984649181366}...   \n",
       "\n",
       "                                           VADER_Scents  \n",
       "0     {'neg': 0.332, 'neu': 0.668, 'pos': 0.0, 'comp...  \n",
       "1     {'neg': 0.09, 'neu': 0.761, 'pos': 0.149, 'com...  \n",
       "2     {'neg': 0.231, 'neu': 0.769, 'pos': 0.0, 'comp...  \n",
       "3     {'neg': 0.0, 'neu': 1.0, 'pos': 0.0, 'compound...  \n",
       "4     {'neg': 0.0, 'neu': 1.0, 'pos': 0.0, 'compound...  \n",
       "...                                                 ...  \n",
       "4995  {'neg': 0.0, 'neu': 1.0, 'pos': 0.0, 'compound...  \n",
       "4996  {'neg': 0.0, 'neu': 0.871, 'pos': 0.129, 'comp...  \n",
       "4997  {'neg': 0.167, 'neu': 0.833, 'pos': 0.0, 'comp...  \n",
       "4998  {'neg': 0.087, 'neu': 0.913, 'pos': 0.0, 'comp...  \n",
       "4999  {'neg': 0.249, 'neu': 0.751, 'pos': 0.0, 'comp...  \n",
       "\n",
       "[5000 rows x 4 columns]"
      ]
     },
     "execution_count": 13,
     "metadata": {},
     "output_type": "execute_result"
    }
   ],
   "source": [
    "#Now that have sentiments for each tweet I am going to try to standardize this data and merge it back into the main dataframe\n",
    "#This is so that I can do visualizations with relative ease\n",
    "df_sentiments"
   ]
  },
  {
   "cell_type": "code",
   "execution_count": 14,
   "id": "6ae5ab72-526a-4094-8782-ec1189e5221c",
   "metadata": {},
   "outputs": [
    {
     "data": {
      "text/plain": [
       "\"[[{'label': 'sadness', 'score': 0.009249932132661343}, {'label': 'joy', 'score': 0.018400995060801506}, {'label': 'love', 'score': 0.0010329013457521796}, {'label': 'anger', 'score': 0.8107765316963196}, {'label': 'fear', 'score': 0.15956367552280426}, {'label': 'surprise', 'score': 0.0009758492233231664}]]\""
      ]
     },
     "execution_count": 14,
     "metadata": {},
     "output_type": "execute_result"
    }
   ],
   "source": [
    "#First we are going to deal with the emotions since I'm not a huge fan of it's current format\n",
    "df_sentiments['Emotions'][0] #Here I take a look at the data structure and we are going to change it to a simple dicitonary"
   ]
  },
  {
   "cell_type": "code",
   "execution_count": 15,
   "id": "b4b1c3ce-5b96-445d-afa6-b02a8724feb8",
   "metadata": {},
   "outputs": [],
   "source": [
    "#  am going to make this data look like this {'emotion':(score)}}"
   ]
  },
  {
   "cell_type": "code",
   "execution_count": 16,
   "id": "ff986573-b484-4a9b-8809-51fbb0b30f28",
   "metadata": {},
   "outputs": [
    {
     "ename": "TypeError",
     "evalue": "string indices must be integers",
     "output_type": "error",
     "traceback": [
      "\u001b[0;31m---------------------------------------------------------------------------\u001b[0m",
      "\u001b[0;31mTypeError\u001b[0m                                 Traceback (most recent call last)",
      "\u001b[0;32m/tmp/ipykernel_28953/817669527.py\u001b[0m in \u001b[0;36m<module>\u001b[0;34m\u001b[0m\n\u001b[0;32m----> 1\u001b[0;31m \u001b[0mdf_sentiments\u001b[0m\u001b[0;34m[\u001b[0m\u001b[0;34m'Emotions'\u001b[0m\u001b[0;34m]\u001b[0m \u001b[0;34m=\u001b[0m \u001b[0mdf_sentiments\u001b[0m\u001b[0;34m[\u001b[0m\u001b[0;34m'Emotions'\u001b[0m\u001b[0;34m]\u001b[0m\u001b[0;34m.\u001b[0m\u001b[0mapply\u001b[0m\u001b[0;34m(\u001b[0m\u001b[0;32mlambda\u001b[0m \u001b[0mscores\u001b[0m\u001b[0;34m:\u001b[0m \u001b[0;34m{\u001b[0m\u001b[0mi\u001b[0m\u001b[0;34m[\u001b[0m\u001b[0;34m'label'\u001b[0m\u001b[0;34m]\u001b[0m \u001b[0;34m:\u001b[0m\u001b[0mi\u001b[0m\u001b[0;34m[\u001b[0m\u001b[0;34m'score'\u001b[0m\u001b[0;34m]\u001b[0m \u001b[0;32mfor\u001b[0m \u001b[0mi\u001b[0m \u001b[0;32min\u001b[0m \u001b[0mscores\u001b[0m\u001b[0;34m[\u001b[0m\u001b[0;36m0\u001b[0m\u001b[0;34m]\u001b[0m\u001b[0;34m}\u001b[0m\u001b[0;34m)\u001b[0m\u001b[0;34m\u001b[0m\u001b[0;34m\u001b[0m\u001b[0m\n\u001b[0m",
      "\u001b[0;32m/opt/conda/lib/python3.9/site-packages/pandas/core/series.py\u001b[0m in \u001b[0;36mapply\u001b[0;34m(self, func, convert_dtype, args, **kwargs)\u001b[0m\n\u001b[1;32m   4355\u001b[0m         \u001b[0mdtype\u001b[0m\u001b[0;34m:\u001b[0m \u001b[0mfloat64\u001b[0m\u001b[0;34m\u001b[0m\u001b[0;34m\u001b[0m\u001b[0m\n\u001b[1;32m   4356\u001b[0m         \"\"\"\n\u001b[0;32m-> 4357\u001b[0;31m         \u001b[0;32mreturn\u001b[0m \u001b[0mSeriesApply\u001b[0m\u001b[0;34m(\u001b[0m\u001b[0mself\u001b[0m\u001b[0;34m,\u001b[0m \u001b[0mfunc\u001b[0m\u001b[0;34m,\u001b[0m \u001b[0mconvert_dtype\u001b[0m\u001b[0;34m,\u001b[0m \u001b[0margs\u001b[0m\u001b[0;34m,\u001b[0m \u001b[0mkwargs\u001b[0m\u001b[0;34m)\u001b[0m\u001b[0;34m.\u001b[0m\u001b[0mapply\u001b[0m\u001b[0;34m(\u001b[0m\u001b[0;34m)\u001b[0m\u001b[0;34m\u001b[0m\u001b[0;34m\u001b[0m\u001b[0m\n\u001b[0m\u001b[1;32m   4358\u001b[0m \u001b[0;34m\u001b[0m\u001b[0m\n\u001b[1;32m   4359\u001b[0m     def _reduce(\n",
      "\u001b[0;32m/opt/conda/lib/python3.9/site-packages/pandas/core/apply.py\u001b[0m in \u001b[0;36mapply\u001b[0;34m(self)\u001b[0m\n\u001b[1;32m   1041\u001b[0m             \u001b[0;32mreturn\u001b[0m \u001b[0mself\u001b[0m\u001b[0;34m.\u001b[0m\u001b[0mapply_str\u001b[0m\u001b[0;34m(\u001b[0m\u001b[0;34m)\u001b[0m\u001b[0;34m\u001b[0m\u001b[0;34m\u001b[0m\u001b[0m\n\u001b[1;32m   1042\u001b[0m \u001b[0;34m\u001b[0m\u001b[0m\n\u001b[0;32m-> 1043\u001b[0;31m         \u001b[0;32mreturn\u001b[0m \u001b[0mself\u001b[0m\u001b[0;34m.\u001b[0m\u001b[0mapply_standard\u001b[0m\u001b[0;34m(\u001b[0m\u001b[0;34m)\u001b[0m\u001b[0;34m\u001b[0m\u001b[0;34m\u001b[0m\u001b[0m\n\u001b[0m\u001b[1;32m   1044\u001b[0m \u001b[0;34m\u001b[0m\u001b[0m\n\u001b[1;32m   1045\u001b[0m     \u001b[0;32mdef\u001b[0m \u001b[0magg\u001b[0m\u001b[0;34m(\u001b[0m\u001b[0mself\u001b[0m\u001b[0;34m)\u001b[0m\u001b[0;34m:\u001b[0m\u001b[0;34m\u001b[0m\u001b[0;34m\u001b[0m\u001b[0m\n",
      "\u001b[0;32m/opt/conda/lib/python3.9/site-packages/pandas/core/apply.py\u001b[0m in \u001b[0;36mapply_standard\u001b[0;34m(self)\u001b[0m\n\u001b[1;32m   1096\u001b[0m                 \u001b[0;31m# List[Union[Callable[..., Any], str]]]]]\"; expected\u001b[0m\u001b[0;34m\u001b[0m\u001b[0;34m\u001b[0m\u001b[0m\n\u001b[1;32m   1097\u001b[0m                 \u001b[0;31m# \"Callable[[Any], Any]\"\u001b[0m\u001b[0;34m\u001b[0m\u001b[0;34m\u001b[0m\u001b[0m\n\u001b[0;32m-> 1098\u001b[0;31m                 mapped = lib.map_infer(\n\u001b[0m\u001b[1;32m   1099\u001b[0m                     \u001b[0mvalues\u001b[0m\u001b[0;34m,\u001b[0m\u001b[0;34m\u001b[0m\u001b[0;34m\u001b[0m\u001b[0m\n\u001b[1;32m   1100\u001b[0m                     \u001b[0mf\u001b[0m\u001b[0;34m,\u001b[0m  \u001b[0;31m# type: ignore[arg-type]\u001b[0m\u001b[0;34m\u001b[0m\u001b[0;34m\u001b[0m\u001b[0m\n",
      "\u001b[0;32m/opt/conda/lib/python3.9/site-packages/pandas/_libs/lib.pyx\u001b[0m in \u001b[0;36mpandas._libs.lib.map_infer\u001b[0;34m()\u001b[0m\n",
      "\u001b[0;32m/tmp/ipykernel_28953/817669527.py\u001b[0m in \u001b[0;36m<lambda>\u001b[0;34m(scores)\u001b[0m\n\u001b[0;32m----> 1\u001b[0;31m \u001b[0mdf_sentiments\u001b[0m\u001b[0;34m[\u001b[0m\u001b[0;34m'Emotions'\u001b[0m\u001b[0;34m]\u001b[0m \u001b[0;34m=\u001b[0m \u001b[0mdf_sentiments\u001b[0m\u001b[0;34m[\u001b[0m\u001b[0;34m'Emotions'\u001b[0m\u001b[0;34m]\u001b[0m\u001b[0;34m.\u001b[0m\u001b[0mapply\u001b[0m\u001b[0;34m(\u001b[0m\u001b[0;32mlambda\u001b[0m \u001b[0mscores\u001b[0m\u001b[0;34m:\u001b[0m \u001b[0;34m{\u001b[0m\u001b[0mi\u001b[0m\u001b[0;34m[\u001b[0m\u001b[0;34m'label'\u001b[0m\u001b[0;34m]\u001b[0m \u001b[0;34m:\u001b[0m\u001b[0mi\u001b[0m\u001b[0;34m[\u001b[0m\u001b[0;34m'score'\u001b[0m\u001b[0;34m]\u001b[0m \u001b[0;32mfor\u001b[0m \u001b[0mi\u001b[0m \u001b[0;32min\u001b[0m \u001b[0mscores\u001b[0m\u001b[0;34m[\u001b[0m\u001b[0;36m0\u001b[0m\u001b[0;34m]\u001b[0m\u001b[0;34m}\u001b[0m\u001b[0;34m)\u001b[0m\u001b[0;34m\u001b[0m\u001b[0;34m\u001b[0m\u001b[0m\n\u001b[0m",
      "\u001b[0;32m/tmp/ipykernel_28953/817669527.py\u001b[0m in \u001b[0;36m<dictcomp>\u001b[0;34m(.0)\u001b[0m\n\u001b[0;32m----> 1\u001b[0;31m \u001b[0mdf_sentiments\u001b[0m\u001b[0;34m[\u001b[0m\u001b[0;34m'Emotions'\u001b[0m\u001b[0;34m]\u001b[0m \u001b[0;34m=\u001b[0m \u001b[0mdf_sentiments\u001b[0m\u001b[0;34m[\u001b[0m\u001b[0;34m'Emotions'\u001b[0m\u001b[0;34m]\u001b[0m\u001b[0;34m.\u001b[0m\u001b[0mapply\u001b[0m\u001b[0;34m(\u001b[0m\u001b[0;32mlambda\u001b[0m \u001b[0mscores\u001b[0m\u001b[0;34m:\u001b[0m \u001b[0;34m{\u001b[0m\u001b[0mi\u001b[0m\u001b[0;34m[\u001b[0m\u001b[0;34m'label'\u001b[0m\u001b[0;34m]\u001b[0m \u001b[0;34m:\u001b[0m\u001b[0mi\u001b[0m\u001b[0;34m[\u001b[0m\u001b[0;34m'score'\u001b[0m\u001b[0;34m]\u001b[0m \u001b[0;32mfor\u001b[0m \u001b[0mi\u001b[0m \u001b[0;32min\u001b[0m \u001b[0mscores\u001b[0m\u001b[0;34m[\u001b[0m\u001b[0;36m0\u001b[0m\u001b[0;34m]\u001b[0m\u001b[0;34m}\u001b[0m\u001b[0;34m)\u001b[0m\u001b[0;34m\u001b[0m\u001b[0;34m\u001b[0m\u001b[0m\n\u001b[0m",
      "\u001b[0;31mTypeError\u001b[0m: string indices must be integers"
     ]
    }
   ],
   "source": [
    " #!!!!!!SKIP IF DO NOT WANT TO RE-RUN ANALYSIS!!!!!!\n",
    "#df_sentiments['Emotions'] = df_sentiments['Emotions'].apply(lambda scores: {i['label'] :i['score'] for i in scores[0]})"
   ]
  },
  {
   "cell_type": "code",
   "execution_count": 17,
   "id": "b31f4a77-169b-4001-b886-b204217b1dd5",
   "metadata": {},
   "outputs": [
    {
     "data": {
      "text/plain": [
       "\"[[{'label': 'NEG', 'score': 0.9852299094200134}, {'label': 'NEU', 'score': 0.0099571468308568}, {'label': 'POS', 'score': 0.004812953062355518}]]\""
      ]
     },
     "execution_count": 17,
     "metadata": {},
     "output_type": "execute_result"
    }
   ],
   "source": [
    "#Now that I have the emotions in the right format I will start on the bert sentiment scores\n",
    "df.Bert_Scents[0]"
   ]
  },
  {
   "cell_type": "code",
   "execution_count": 18,
   "id": "cbc3a03b-f44d-41e0-92b4-cd1a767cd04e",
   "metadata": {},
   "outputs": [
    {
     "ename": "TypeError",
     "evalue": "string indices must be integers",
     "output_type": "error",
     "traceback": [
      "\u001b[0;31m---------------------------------------------------------------------------\u001b[0m",
      "\u001b[0;31mTypeError\u001b[0m                                 Traceback (most recent call last)",
      "\u001b[0;32m/tmp/ipykernel_28953/2729609626.py\u001b[0m in \u001b[0;36m<module>\u001b[0;34m\u001b[0m\n\u001b[0;32m----> 1\u001b[0;31m \u001b[0mdf_sentiments\u001b[0m\u001b[0;34m[\u001b[0m\u001b[0;34m'Bert_Scents'\u001b[0m\u001b[0;34m]\u001b[0m \u001b[0;34m=\u001b[0m \u001b[0mdf_sentiments\u001b[0m\u001b[0;34m[\u001b[0m\u001b[0;34m'Bert_Scents'\u001b[0m\u001b[0;34m]\u001b[0m\u001b[0;34m.\u001b[0m\u001b[0mapply\u001b[0m\u001b[0;34m(\u001b[0m\u001b[0;32mlambda\u001b[0m \u001b[0mscores\u001b[0m\u001b[0;34m:\u001b[0m \u001b[0;34m{\u001b[0m\u001b[0mi\u001b[0m\u001b[0;34m[\u001b[0m\u001b[0;34m'label'\u001b[0m\u001b[0;34m]\u001b[0m \u001b[0;34m:\u001b[0m\u001b[0mi\u001b[0m\u001b[0;34m[\u001b[0m\u001b[0;34m'score'\u001b[0m\u001b[0;34m]\u001b[0m \u001b[0;32mfor\u001b[0m \u001b[0mi\u001b[0m \u001b[0;32min\u001b[0m \u001b[0mscores\u001b[0m\u001b[0;34m[\u001b[0m\u001b[0;36m0\u001b[0m\u001b[0;34m]\u001b[0m\u001b[0;34m}\u001b[0m\u001b[0;34m)\u001b[0m\u001b[0;34m\u001b[0m\u001b[0;34m\u001b[0m\u001b[0m\n\u001b[0m",
      "\u001b[0;32m/opt/conda/lib/python3.9/site-packages/pandas/core/series.py\u001b[0m in \u001b[0;36mapply\u001b[0;34m(self, func, convert_dtype, args, **kwargs)\u001b[0m\n\u001b[1;32m   4355\u001b[0m         \u001b[0mdtype\u001b[0m\u001b[0;34m:\u001b[0m \u001b[0mfloat64\u001b[0m\u001b[0;34m\u001b[0m\u001b[0;34m\u001b[0m\u001b[0m\n\u001b[1;32m   4356\u001b[0m         \"\"\"\n\u001b[0;32m-> 4357\u001b[0;31m         \u001b[0;32mreturn\u001b[0m \u001b[0mSeriesApply\u001b[0m\u001b[0;34m(\u001b[0m\u001b[0mself\u001b[0m\u001b[0;34m,\u001b[0m \u001b[0mfunc\u001b[0m\u001b[0;34m,\u001b[0m \u001b[0mconvert_dtype\u001b[0m\u001b[0;34m,\u001b[0m \u001b[0margs\u001b[0m\u001b[0;34m,\u001b[0m \u001b[0mkwargs\u001b[0m\u001b[0;34m)\u001b[0m\u001b[0;34m.\u001b[0m\u001b[0mapply\u001b[0m\u001b[0;34m(\u001b[0m\u001b[0;34m)\u001b[0m\u001b[0;34m\u001b[0m\u001b[0;34m\u001b[0m\u001b[0m\n\u001b[0m\u001b[1;32m   4358\u001b[0m \u001b[0;34m\u001b[0m\u001b[0m\n\u001b[1;32m   4359\u001b[0m     def _reduce(\n",
      "\u001b[0;32m/opt/conda/lib/python3.9/site-packages/pandas/core/apply.py\u001b[0m in \u001b[0;36mapply\u001b[0;34m(self)\u001b[0m\n\u001b[1;32m   1041\u001b[0m             \u001b[0;32mreturn\u001b[0m \u001b[0mself\u001b[0m\u001b[0;34m.\u001b[0m\u001b[0mapply_str\u001b[0m\u001b[0;34m(\u001b[0m\u001b[0;34m)\u001b[0m\u001b[0;34m\u001b[0m\u001b[0;34m\u001b[0m\u001b[0m\n\u001b[1;32m   1042\u001b[0m \u001b[0;34m\u001b[0m\u001b[0m\n\u001b[0;32m-> 1043\u001b[0;31m         \u001b[0;32mreturn\u001b[0m \u001b[0mself\u001b[0m\u001b[0;34m.\u001b[0m\u001b[0mapply_standard\u001b[0m\u001b[0;34m(\u001b[0m\u001b[0;34m)\u001b[0m\u001b[0;34m\u001b[0m\u001b[0;34m\u001b[0m\u001b[0m\n\u001b[0m\u001b[1;32m   1044\u001b[0m \u001b[0;34m\u001b[0m\u001b[0m\n\u001b[1;32m   1045\u001b[0m     \u001b[0;32mdef\u001b[0m \u001b[0magg\u001b[0m\u001b[0;34m(\u001b[0m\u001b[0mself\u001b[0m\u001b[0;34m)\u001b[0m\u001b[0;34m:\u001b[0m\u001b[0;34m\u001b[0m\u001b[0;34m\u001b[0m\u001b[0m\n",
      "\u001b[0;32m/opt/conda/lib/python3.9/site-packages/pandas/core/apply.py\u001b[0m in \u001b[0;36mapply_standard\u001b[0;34m(self)\u001b[0m\n\u001b[1;32m   1096\u001b[0m                 \u001b[0;31m# List[Union[Callable[..., Any], str]]]]]\"; expected\u001b[0m\u001b[0;34m\u001b[0m\u001b[0;34m\u001b[0m\u001b[0m\n\u001b[1;32m   1097\u001b[0m                 \u001b[0;31m# \"Callable[[Any], Any]\"\u001b[0m\u001b[0;34m\u001b[0m\u001b[0;34m\u001b[0m\u001b[0m\n\u001b[0;32m-> 1098\u001b[0;31m                 mapped = lib.map_infer(\n\u001b[0m\u001b[1;32m   1099\u001b[0m                     \u001b[0mvalues\u001b[0m\u001b[0;34m,\u001b[0m\u001b[0;34m\u001b[0m\u001b[0;34m\u001b[0m\u001b[0m\n\u001b[1;32m   1100\u001b[0m                     \u001b[0mf\u001b[0m\u001b[0;34m,\u001b[0m  \u001b[0;31m# type: ignore[arg-type]\u001b[0m\u001b[0;34m\u001b[0m\u001b[0;34m\u001b[0m\u001b[0m\n",
      "\u001b[0;32m/opt/conda/lib/python3.9/site-packages/pandas/_libs/lib.pyx\u001b[0m in \u001b[0;36mpandas._libs.lib.map_infer\u001b[0;34m()\u001b[0m\n",
      "\u001b[0;32m/tmp/ipykernel_28953/2729609626.py\u001b[0m in \u001b[0;36m<lambda>\u001b[0;34m(scores)\u001b[0m\n\u001b[0;32m----> 1\u001b[0;31m \u001b[0mdf_sentiments\u001b[0m\u001b[0;34m[\u001b[0m\u001b[0;34m'Bert_Scents'\u001b[0m\u001b[0;34m]\u001b[0m \u001b[0;34m=\u001b[0m \u001b[0mdf_sentiments\u001b[0m\u001b[0;34m[\u001b[0m\u001b[0;34m'Bert_Scents'\u001b[0m\u001b[0;34m]\u001b[0m\u001b[0;34m.\u001b[0m\u001b[0mapply\u001b[0m\u001b[0;34m(\u001b[0m\u001b[0;32mlambda\u001b[0m \u001b[0mscores\u001b[0m\u001b[0;34m:\u001b[0m \u001b[0;34m{\u001b[0m\u001b[0mi\u001b[0m\u001b[0;34m[\u001b[0m\u001b[0;34m'label'\u001b[0m\u001b[0;34m]\u001b[0m \u001b[0;34m:\u001b[0m\u001b[0mi\u001b[0m\u001b[0;34m[\u001b[0m\u001b[0;34m'score'\u001b[0m\u001b[0;34m]\u001b[0m \u001b[0;32mfor\u001b[0m \u001b[0mi\u001b[0m \u001b[0;32min\u001b[0m \u001b[0mscores\u001b[0m\u001b[0;34m[\u001b[0m\u001b[0;36m0\u001b[0m\u001b[0;34m]\u001b[0m\u001b[0;34m}\u001b[0m\u001b[0;34m)\u001b[0m\u001b[0;34m\u001b[0m\u001b[0;34m\u001b[0m\u001b[0m\n\u001b[0m",
      "\u001b[0;32m/tmp/ipykernel_28953/2729609626.py\u001b[0m in \u001b[0;36m<dictcomp>\u001b[0;34m(.0)\u001b[0m\n\u001b[0;32m----> 1\u001b[0;31m \u001b[0mdf_sentiments\u001b[0m\u001b[0;34m[\u001b[0m\u001b[0;34m'Bert_Scents'\u001b[0m\u001b[0;34m]\u001b[0m \u001b[0;34m=\u001b[0m \u001b[0mdf_sentiments\u001b[0m\u001b[0;34m[\u001b[0m\u001b[0;34m'Bert_Scents'\u001b[0m\u001b[0;34m]\u001b[0m\u001b[0;34m.\u001b[0m\u001b[0mapply\u001b[0m\u001b[0;34m(\u001b[0m\u001b[0;32mlambda\u001b[0m \u001b[0mscores\u001b[0m\u001b[0;34m:\u001b[0m \u001b[0;34m{\u001b[0m\u001b[0mi\u001b[0m\u001b[0;34m[\u001b[0m\u001b[0;34m'label'\u001b[0m\u001b[0;34m]\u001b[0m \u001b[0;34m:\u001b[0m\u001b[0mi\u001b[0m\u001b[0;34m[\u001b[0m\u001b[0;34m'score'\u001b[0m\u001b[0;34m]\u001b[0m \u001b[0;32mfor\u001b[0m \u001b[0mi\u001b[0m \u001b[0;32min\u001b[0m \u001b[0mscores\u001b[0m\u001b[0;34m[\u001b[0m\u001b[0;36m0\u001b[0m\u001b[0;34m]\u001b[0m\u001b[0;34m}\u001b[0m\u001b[0;34m)\u001b[0m\u001b[0;34m\u001b[0m\u001b[0;34m\u001b[0m\u001b[0m\n\u001b[0m",
      "\u001b[0;31mTypeError\u001b[0m: string indices must be integers"
     ]
    }
   ],
   "source": [
    "#!!!!!!SKIP IF DO NOT WANT TO RE-RUN ANALYSIS!!!!!!\n",
    "#df_sentiments['Bert_Scents'] = df_sentiments['Bert_Scents'].apply(lambda scores: {i['label'] :i['score'] for i in scores[0]})"
   ]
  },
  {
   "cell_type": "code",
   "execution_count": 19,
   "id": "a3d1637b-e1f2-431e-a6e0-3b657df08ba5",
   "metadata": {},
   "outputs": [
    {
     "ename": "AttributeError",
     "evalue": "'str' object has no attribute 'items'",
     "output_type": "error",
     "traceback": [
      "\u001b[0;31m---------------------------------------------------------------------------\u001b[0m",
      "\u001b[0;31mAttributeError\u001b[0m                            Traceback (most recent call last)",
      "\u001b[0;32m/tmp/ipykernel_28953/4024542694.py\u001b[0m in \u001b[0;36m<module>\u001b[0;34m\u001b[0m\n\u001b[0;32m----> 1\u001b[0;31m \u001b[0mdf_sentiments\u001b[0m\u001b[0;34m[\u001b[0m\u001b[0;34m'Bert_Scents'\u001b[0m\u001b[0;34m]\u001b[0m \u001b[0;34m=\u001b[0m \u001b[0mdf_sentiments\u001b[0m\u001b[0;34m[\u001b[0m\u001b[0;34m'Bert_Scents'\u001b[0m\u001b[0;34m]\u001b[0m\u001b[0;34m.\u001b[0m\u001b[0mapply\u001b[0m\u001b[0;34m(\u001b[0m\u001b[0;32mlambda\u001b[0m \u001b[0msents\u001b[0m\u001b[0;34m:\u001b[0m \u001b[0;34m{\u001b[0m\u001b[0mk\u001b[0m\u001b[0;34m.\u001b[0m\u001b[0mlower\u001b[0m\u001b[0;34m(\u001b[0m\u001b[0;34m)\u001b[0m\u001b[0;34m:\u001b[0m\u001b[0mv\u001b[0m \u001b[0;32mfor\u001b[0m \u001b[0mk\u001b[0m\u001b[0;34m,\u001b[0m\u001b[0mv\u001b[0m \u001b[0;32min\u001b[0m \u001b[0msents\u001b[0m\u001b[0;34m.\u001b[0m\u001b[0mitems\u001b[0m\u001b[0;34m(\u001b[0m\u001b[0;34m)\u001b[0m\u001b[0;34m}\u001b[0m\u001b[0;34m)\u001b[0m\u001b[0;34m\u001b[0m\u001b[0;34m\u001b[0m\u001b[0m\n\u001b[0m",
      "\u001b[0;32m/opt/conda/lib/python3.9/site-packages/pandas/core/series.py\u001b[0m in \u001b[0;36mapply\u001b[0;34m(self, func, convert_dtype, args, **kwargs)\u001b[0m\n\u001b[1;32m   4355\u001b[0m         \u001b[0mdtype\u001b[0m\u001b[0;34m:\u001b[0m \u001b[0mfloat64\u001b[0m\u001b[0;34m\u001b[0m\u001b[0;34m\u001b[0m\u001b[0m\n\u001b[1;32m   4356\u001b[0m         \"\"\"\n\u001b[0;32m-> 4357\u001b[0;31m         \u001b[0;32mreturn\u001b[0m \u001b[0mSeriesApply\u001b[0m\u001b[0;34m(\u001b[0m\u001b[0mself\u001b[0m\u001b[0;34m,\u001b[0m \u001b[0mfunc\u001b[0m\u001b[0;34m,\u001b[0m \u001b[0mconvert_dtype\u001b[0m\u001b[0;34m,\u001b[0m \u001b[0margs\u001b[0m\u001b[0;34m,\u001b[0m \u001b[0mkwargs\u001b[0m\u001b[0;34m)\u001b[0m\u001b[0;34m.\u001b[0m\u001b[0mapply\u001b[0m\u001b[0;34m(\u001b[0m\u001b[0;34m)\u001b[0m\u001b[0;34m\u001b[0m\u001b[0;34m\u001b[0m\u001b[0m\n\u001b[0m\u001b[1;32m   4358\u001b[0m \u001b[0;34m\u001b[0m\u001b[0m\n\u001b[1;32m   4359\u001b[0m     def _reduce(\n",
      "\u001b[0;32m/opt/conda/lib/python3.9/site-packages/pandas/core/apply.py\u001b[0m in \u001b[0;36mapply\u001b[0;34m(self)\u001b[0m\n\u001b[1;32m   1041\u001b[0m             \u001b[0;32mreturn\u001b[0m \u001b[0mself\u001b[0m\u001b[0;34m.\u001b[0m\u001b[0mapply_str\u001b[0m\u001b[0;34m(\u001b[0m\u001b[0;34m)\u001b[0m\u001b[0;34m\u001b[0m\u001b[0;34m\u001b[0m\u001b[0m\n\u001b[1;32m   1042\u001b[0m \u001b[0;34m\u001b[0m\u001b[0m\n\u001b[0;32m-> 1043\u001b[0;31m         \u001b[0;32mreturn\u001b[0m \u001b[0mself\u001b[0m\u001b[0;34m.\u001b[0m\u001b[0mapply_standard\u001b[0m\u001b[0;34m(\u001b[0m\u001b[0;34m)\u001b[0m\u001b[0;34m\u001b[0m\u001b[0;34m\u001b[0m\u001b[0m\n\u001b[0m\u001b[1;32m   1044\u001b[0m \u001b[0;34m\u001b[0m\u001b[0m\n\u001b[1;32m   1045\u001b[0m     \u001b[0;32mdef\u001b[0m \u001b[0magg\u001b[0m\u001b[0;34m(\u001b[0m\u001b[0mself\u001b[0m\u001b[0;34m)\u001b[0m\u001b[0;34m:\u001b[0m\u001b[0;34m\u001b[0m\u001b[0;34m\u001b[0m\u001b[0m\n",
      "\u001b[0;32m/opt/conda/lib/python3.9/site-packages/pandas/core/apply.py\u001b[0m in \u001b[0;36mapply_standard\u001b[0;34m(self)\u001b[0m\n\u001b[1;32m   1096\u001b[0m                 \u001b[0;31m# List[Union[Callable[..., Any], str]]]]]\"; expected\u001b[0m\u001b[0;34m\u001b[0m\u001b[0;34m\u001b[0m\u001b[0m\n\u001b[1;32m   1097\u001b[0m                 \u001b[0;31m# \"Callable[[Any], Any]\"\u001b[0m\u001b[0;34m\u001b[0m\u001b[0;34m\u001b[0m\u001b[0m\n\u001b[0;32m-> 1098\u001b[0;31m                 mapped = lib.map_infer(\n\u001b[0m\u001b[1;32m   1099\u001b[0m                     \u001b[0mvalues\u001b[0m\u001b[0;34m,\u001b[0m\u001b[0;34m\u001b[0m\u001b[0;34m\u001b[0m\u001b[0m\n\u001b[1;32m   1100\u001b[0m                     \u001b[0mf\u001b[0m\u001b[0;34m,\u001b[0m  \u001b[0;31m# type: ignore[arg-type]\u001b[0m\u001b[0;34m\u001b[0m\u001b[0;34m\u001b[0m\u001b[0m\n",
      "\u001b[0;32m/opt/conda/lib/python3.9/site-packages/pandas/_libs/lib.pyx\u001b[0m in \u001b[0;36mpandas._libs.lib.map_infer\u001b[0;34m()\u001b[0m\n",
      "\u001b[0;32m/tmp/ipykernel_28953/4024542694.py\u001b[0m in \u001b[0;36m<lambda>\u001b[0;34m(sents)\u001b[0m\n\u001b[0;32m----> 1\u001b[0;31m \u001b[0mdf_sentiments\u001b[0m\u001b[0;34m[\u001b[0m\u001b[0;34m'Bert_Scents'\u001b[0m\u001b[0;34m]\u001b[0m \u001b[0;34m=\u001b[0m \u001b[0mdf_sentiments\u001b[0m\u001b[0;34m[\u001b[0m\u001b[0;34m'Bert_Scents'\u001b[0m\u001b[0;34m]\u001b[0m\u001b[0;34m.\u001b[0m\u001b[0mapply\u001b[0m\u001b[0;34m(\u001b[0m\u001b[0;32mlambda\u001b[0m \u001b[0msents\u001b[0m\u001b[0;34m:\u001b[0m \u001b[0;34m{\u001b[0m\u001b[0mk\u001b[0m\u001b[0;34m.\u001b[0m\u001b[0mlower\u001b[0m\u001b[0;34m(\u001b[0m\u001b[0;34m)\u001b[0m\u001b[0;34m:\u001b[0m\u001b[0mv\u001b[0m \u001b[0;32mfor\u001b[0m \u001b[0mk\u001b[0m\u001b[0;34m,\u001b[0m\u001b[0mv\u001b[0m \u001b[0;32min\u001b[0m \u001b[0msents\u001b[0m\u001b[0;34m.\u001b[0m\u001b[0mitems\u001b[0m\u001b[0;34m(\u001b[0m\u001b[0;34m)\u001b[0m\u001b[0;34m}\u001b[0m\u001b[0;34m)\u001b[0m\u001b[0;34m\u001b[0m\u001b[0;34m\u001b[0m\u001b[0m\n\u001b[0m",
      "\u001b[0;31mAttributeError\u001b[0m: 'str' object has no attribute 'items'"
     ]
    }
   ],
   "source": [
    "#!!!!!!SKIP IF DO NOT WANT TO RE-RUN ANALYSIS!!!!!!\n",
    "#df_sentiments['Bert_Scents'] = df_sentiments['Bert_Scents'].apply(lambda sents: {k.lower():v for k,v in sents.items()})"
   ]
  },
  {
   "cell_type": "code",
   "execution_count": 20,
   "id": "edf51d00-5091-4839-929f-6364e39da0da",
   "metadata": {},
   "outputs": [
    {
     "data": {
      "text/html": [
       "<div>\n",
       "<style scoped>\n",
       "    .dataframe tbody tr th:only-of-type {\n",
       "        vertical-align: middle;\n",
       "    }\n",
       "\n",
       "    .dataframe tbody tr th {\n",
       "        vertical-align: top;\n",
       "    }\n",
       "\n",
       "    .dataframe thead th {\n",
       "        text-align: right;\n",
       "    }\n",
       "</style>\n",
       "<table border=\"1\" class=\"dataframe\">\n",
       "  <thead>\n",
       "    <tr style=\"text-align: right;\">\n",
       "      <th></th>\n",
       "      <th>id</th>\n",
       "      <th>Emotions</th>\n",
       "      <th>Bert_Scents</th>\n",
       "      <th>VADER_Scents</th>\n",
       "    </tr>\n",
       "  </thead>\n",
       "  <tbody>\n",
       "    <tr>\n",
       "      <th>0</th>\n",
       "      <td>1263543063789604865</td>\n",
       "      <td>[[{'label': 'sadness', 'score': 0.009249932132...</td>\n",
       "      <td>[[{'label': 'NEG', 'score': 0.9852299094200134...</td>\n",
       "      <td>{'neg': 0.332, 'neu': 0.668, 'pos': 0.0, 'comp...</td>\n",
       "    </tr>\n",
       "    <tr>\n",
       "      <th>1</th>\n",
       "      <td>1264658166622666754</td>\n",
       "      <td>[[{'label': 'sadness', 'score': 0.133566543459...</td>\n",
       "      <td>[[{'label': 'NEG', 'score': 0.9851841926574707...</td>\n",
       "      <td>{'neg': 0.09, 'neu': 0.761, 'pos': 0.149, 'com...</td>\n",
       "    </tr>\n",
       "    <tr>\n",
       "      <th>2</th>\n",
       "      <td>1265017675740180480</td>\n",
       "      <td>[[{'label': 'sadness', 'score': 0.214517220854...</td>\n",
       "      <td>[[{'label': 'NEG', 'score': 0.9690086245536804...</td>\n",
       "      <td>{'neg': 0.231, 'neu': 0.769, 'pos': 0.0, 'comp...</td>\n",
       "    </tr>\n",
       "    <tr>\n",
       "      <th>3</th>\n",
       "      <td>1264637378603487235</td>\n",
       "      <td>[[{'label': 'sadness', 'score': 0.010946567170...</td>\n",
       "      <td>[[{'label': 'NEG', 'score': 0.5163222551345825...</td>\n",
       "      <td>{'neg': 0.0, 'neu': 1.0, 'pos': 0.0, 'compound...</td>\n",
       "    </tr>\n",
       "    <tr>\n",
       "      <th>4</th>\n",
       "      <td>1262521237273808896</td>\n",
       "      <td>[[{'label': 'sadness', 'score': 0.109045490622...</td>\n",
       "      <td>[[{'label': 'NEG', 'score': 0.0053077568300068...</td>\n",
       "      <td>{'neg': 0.0, 'neu': 1.0, 'pos': 0.0, 'compound...</td>\n",
       "    </tr>\n",
       "  </tbody>\n",
       "</table>\n",
       "</div>"
      ],
      "text/plain": [
       "                    id                                           Emotions  \\\n",
       "0  1263543063789604865  [[{'label': 'sadness', 'score': 0.009249932132...   \n",
       "1  1264658166622666754  [[{'label': 'sadness', 'score': 0.133566543459...   \n",
       "2  1265017675740180480  [[{'label': 'sadness', 'score': 0.214517220854...   \n",
       "3  1264637378603487235  [[{'label': 'sadness', 'score': 0.010946567170...   \n",
       "4  1262521237273808896  [[{'label': 'sadness', 'score': 0.109045490622...   \n",
       "\n",
       "                                         Bert_Scents  \\\n",
       "0  [[{'label': 'NEG', 'score': 0.9852299094200134...   \n",
       "1  [[{'label': 'NEG', 'score': 0.9851841926574707...   \n",
       "2  [[{'label': 'NEG', 'score': 0.9690086245536804...   \n",
       "3  [[{'label': 'NEG', 'score': 0.5163222551345825...   \n",
       "4  [[{'label': 'NEG', 'score': 0.0053077568300068...   \n",
       "\n",
       "                                        VADER_Scents  \n",
       "0  {'neg': 0.332, 'neu': 0.668, 'pos': 0.0, 'comp...  \n",
       "1  {'neg': 0.09, 'neu': 0.761, 'pos': 0.149, 'com...  \n",
       "2  {'neg': 0.231, 'neu': 0.769, 'pos': 0.0, 'comp...  \n",
       "3  {'neg': 0.0, 'neu': 1.0, 'pos': 0.0, 'compound...  \n",
       "4  {'neg': 0.0, 'neu': 1.0, 'pos': 0.0, 'compound...  "
      ]
     },
     "execution_count": 20,
     "metadata": {},
     "output_type": "execute_result"
    }
   ],
   "source": [
    "#Now let's check the formatting of everything\n",
    "df_sentiments.head()"
   ]
  },
  {
   "cell_type": "code",
   "execution_count": 21,
   "id": "54bcb40b-021f-48db-97b2-b5ba94572dc9",
   "metadata": {},
   "outputs": [],
   "source": [
    "#Now that everything is reletivly standard I am going to extract a string from each row that best represtents each way of\n",
    "#detecting emotion"
   ]
  },
  {
   "cell_type": "code",
   "execution_count": 22,
   "id": "f6709fd0-00d5-4be4-8edf-ce4d190e83f1",
   "metadata": {},
   "outputs": [
    {
     "ename": "AttributeError",
     "evalue": "'str' object has no attribute 'get'",
     "output_type": "error",
     "traceback": [
      "\u001b[0;31m---------------------------------------------------------------------------\u001b[0m",
      "\u001b[0;31mAttributeError\u001b[0m                            Traceback (most recent call last)",
      "\u001b[0;32m/tmp/ipykernel_28953/1906636997.py\u001b[0m in \u001b[0;36m<module>\u001b[0;34m\u001b[0m\n\u001b[0;32m----> 1\u001b[0;31m \u001b[0mdf_sentiments\u001b[0m\u001b[0;34m[\u001b[0m\u001b[0;34m'Highest_Emotion'\u001b[0m\u001b[0;34m]\u001b[0m \u001b[0;34m=\u001b[0m \u001b[0mdf_sentiments\u001b[0m\u001b[0;34m[\u001b[0m\u001b[0;34m'Emotions'\u001b[0m\u001b[0;34m]\u001b[0m\u001b[0;34m.\u001b[0m\u001b[0mapply\u001b[0m\u001b[0;34m(\u001b[0m\u001b[0;32mlambda\u001b[0m \u001b[0memotions\u001b[0m\u001b[0;34m:\u001b[0m \u001b[0mmax\u001b[0m\u001b[0;34m(\u001b[0m\u001b[0memotions\u001b[0m\u001b[0;34m,\u001b[0m \u001b[0mkey\u001b[0m\u001b[0;34m=\u001b[0m\u001b[0memotions\u001b[0m\u001b[0;34m.\u001b[0m\u001b[0mget\u001b[0m\u001b[0;34m)\u001b[0m\u001b[0;34m)\u001b[0m\u001b[0;34m\u001b[0m\u001b[0;34m\u001b[0m\u001b[0m\n\u001b[0m\u001b[1;32m      2\u001b[0m \u001b[0mdf_sentiments\u001b[0m\u001b[0;34m[\u001b[0m\u001b[0;34m'Bert_Scents'\u001b[0m\u001b[0;34m]\u001b[0m \u001b[0;34m=\u001b[0m \u001b[0mdf_sentiments\u001b[0m\u001b[0;34m[\u001b[0m\u001b[0;34m'Bert_Scents'\u001b[0m\u001b[0;34m]\u001b[0m\u001b[0;34m.\u001b[0m\u001b[0mapply\u001b[0m\u001b[0;34m(\u001b[0m\u001b[0;32mlambda\u001b[0m \u001b[0mscents\u001b[0m\u001b[0;34m:\u001b[0m \u001b[0mmax\u001b[0m\u001b[0;34m(\u001b[0m\u001b[0mscents\u001b[0m\u001b[0;34m,\u001b[0m \u001b[0mkey\u001b[0m\u001b[0;34m=\u001b[0m\u001b[0mscents\u001b[0m\u001b[0;34m.\u001b[0m\u001b[0mget\u001b[0m\u001b[0;34m)\u001b[0m\u001b[0;34m)\u001b[0m\u001b[0;34m\u001b[0m\u001b[0;34m\u001b[0m\u001b[0m\n",
      "\u001b[0;32m/opt/conda/lib/python3.9/site-packages/pandas/core/series.py\u001b[0m in \u001b[0;36mapply\u001b[0;34m(self, func, convert_dtype, args, **kwargs)\u001b[0m\n\u001b[1;32m   4355\u001b[0m         \u001b[0mdtype\u001b[0m\u001b[0;34m:\u001b[0m \u001b[0mfloat64\u001b[0m\u001b[0;34m\u001b[0m\u001b[0;34m\u001b[0m\u001b[0m\n\u001b[1;32m   4356\u001b[0m         \"\"\"\n\u001b[0;32m-> 4357\u001b[0;31m         \u001b[0;32mreturn\u001b[0m \u001b[0mSeriesApply\u001b[0m\u001b[0;34m(\u001b[0m\u001b[0mself\u001b[0m\u001b[0;34m,\u001b[0m \u001b[0mfunc\u001b[0m\u001b[0;34m,\u001b[0m \u001b[0mconvert_dtype\u001b[0m\u001b[0;34m,\u001b[0m \u001b[0margs\u001b[0m\u001b[0;34m,\u001b[0m \u001b[0mkwargs\u001b[0m\u001b[0;34m)\u001b[0m\u001b[0;34m.\u001b[0m\u001b[0mapply\u001b[0m\u001b[0;34m(\u001b[0m\u001b[0;34m)\u001b[0m\u001b[0;34m\u001b[0m\u001b[0;34m\u001b[0m\u001b[0m\n\u001b[0m\u001b[1;32m   4358\u001b[0m \u001b[0;34m\u001b[0m\u001b[0m\n\u001b[1;32m   4359\u001b[0m     def _reduce(\n",
      "\u001b[0;32m/opt/conda/lib/python3.9/site-packages/pandas/core/apply.py\u001b[0m in \u001b[0;36mapply\u001b[0;34m(self)\u001b[0m\n\u001b[1;32m   1041\u001b[0m             \u001b[0;32mreturn\u001b[0m \u001b[0mself\u001b[0m\u001b[0;34m.\u001b[0m\u001b[0mapply_str\u001b[0m\u001b[0;34m(\u001b[0m\u001b[0;34m)\u001b[0m\u001b[0;34m\u001b[0m\u001b[0;34m\u001b[0m\u001b[0m\n\u001b[1;32m   1042\u001b[0m \u001b[0;34m\u001b[0m\u001b[0m\n\u001b[0;32m-> 1043\u001b[0;31m         \u001b[0;32mreturn\u001b[0m \u001b[0mself\u001b[0m\u001b[0;34m.\u001b[0m\u001b[0mapply_standard\u001b[0m\u001b[0;34m(\u001b[0m\u001b[0;34m)\u001b[0m\u001b[0;34m\u001b[0m\u001b[0;34m\u001b[0m\u001b[0m\n\u001b[0m\u001b[1;32m   1044\u001b[0m \u001b[0;34m\u001b[0m\u001b[0m\n\u001b[1;32m   1045\u001b[0m     \u001b[0;32mdef\u001b[0m \u001b[0magg\u001b[0m\u001b[0;34m(\u001b[0m\u001b[0mself\u001b[0m\u001b[0;34m)\u001b[0m\u001b[0;34m:\u001b[0m\u001b[0;34m\u001b[0m\u001b[0;34m\u001b[0m\u001b[0m\n",
      "\u001b[0;32m/opt/conda/lib/python3.9/site-packages/pandas/core/apply.py\u001b[0m in \u001b[0;36mapply_standard\u001b[0;34m(self)\u001b[0m\n\u001b[1;32m   1096\u001b[0m                 \u001b[0;31m# List[Union[Callable[..., Any], str]]]]]\"; expected\u001b[0m\u001b[0;34m\u001b[0m\u001b[0;34m\u001b[0m\u001b[0m\n\u001b[1;32m   1097\u001b[0m                 \u001b[0;31m# \"Callable[[Any], Any]\"\u001b[0m\u001b[0;34m\u001b[0m\u001b[0;34m\u001b[0m\u001b[0m\n\u001b[0;32m-> 1098\u001b[0;31m                 mapped = lib.map_infer(\n\u001b[0m\u001b[1;32m   1099\u001b[0m                     \u001b[0mvalues\u001b[0m\u001b[0;34m,\u001b[0m\u001b[0;34m\u001b[0m\u001b[0;34m\u001b[0m\u001b[0m\n\u001b[1;32m   1100\u001b[0m                     \u001b[0mf\u001b[0m\u001b[0;34m,\u001b[0m  \u001b[0;31m# type: ignore[arg-type]\u001b[0m\u001b[0;34m\u001b[0m\u001b[0;34m\u001b[0m\u001b[0m\n",
      "\u001b[0;32m/opt/conda/lib/python3.9/site-packages/pandas/_libs/lib.pyx\u001b[0m in \u001b[0;36mpandas._libs.lib.map_infer\u001b[0;34m()\u001b[0m\n",
      "\u001b[0;32m/tmp/ipykernel_28953/1906636997.py\u001b[0m in \u001b[0;36m<lambda>\u001b[0;34m(emotions)\u001b[0m\n\u001b[0;32m----> 1\u001b[0;31m \u001b[0mdf_sentiments\u001b[0m\u001b[0;34m[\u001b[0m\u001b[0;34m'Highest_Emotion'\u001b[0m\u001b[0;34m]\u001b[0m \u001b[0;34m=\u001b[0m \u001b[0mdf_sentiments\u001b[0m\u001b[0;34m[\u001b[0m\u001b[0;34m'Emotions'\u001b[0m\u001b[0;34m]\u001b[0m\u001b[0;34m.\u001b[0m\u001b[0mapply\u001b[0m\u001b[0;34m(\u001b[0m\u001b[0;32mlambda\u001b[0m \u001b[0memotions\u001b[0m\u001b[0;34m:\u001b[0m \u001b[0mmax\u001b[0m\u001b[0;34m(\u001b[0m\u001b[0memotions\u001b[0m\u001b[0;34m,\u001b[0m \u001b[0mkey\u001b[0m\u001b[0;34m=\u001b[0m\u001b[0memotions\u001b[0m\u001b[0;34m.\u001b[0m\u001b[0mget\u001b[0m\u001b[0;34m)\u001b[0m\u001b[0;34m)\u001b[0m\u001b[0;34m\u001b[0m\u001b[0;34m\u001b[0m\u001b[0m\n\u001b[0m\u001b[1;32m      2\u001b[0m \u001b[0mdf_sentiments\u001b[0m\u001b[0;34m[\u001b[0m\u001b[0;34m'Bert_Scents'\u001b[0m\u001b[0;34m]\u001b[0m \u001b[0;34m=\u001b[0m \u001b[0mdf_sentiments\u001b[0m\u001b[0;34m[\u001b[0m\u001b[0;34m'Bert_Scents'\u001b[0m\u001b[0;34m]\u001b[0m\u001b[0;34m.\u001b[0m\u001b[0mapply\u001b[0m\u001b[0;34m(\u001b[0m\u001b[0;32mlambda\u001b[0m \u001b[0mscents\u001b[0m\u001b[0;34m:\u001b[0m \u001b[0mmax\u001b[0m\u001b[0;34m(\u001b[0m\u001b[0mscents\u001b[0m\u001b[0;34m,\u001b[0m \u001b[0mkey\u001b[0m\u001b[0;34m=\u001b[0m\u001b[0mscents\u001b[0m\u001b[0;34m.\u001b[0m\u001b[0mget\u001b[0m\u001b[0;34m)\u001b[0m\u001b[0;34m)\u001b[0m\u001b[0;34m\u001b[0m\u001b[0;34m\u001b[0m\u001b[0m\n",
      "\u001b[0;31mAttributeError\u001b[0m: 'str' object has no attribute 'get'"
     ]
    }
   ],
   "source": [
    "#!!!!!!SKIP IF DO NOT WANT TO RE-RUN ANALYSIS!!!!!!\n",
    "#df_sentiments['Highest_Emotion'] = df_sentiments['Emotions'].apply(lambda emotions: max(emotions, key=emotions.get))\n",
    "#df_sentiments['Bert_Scents'] = df_sentiments['Bert_Scents'].apply(lambda scents: max(scents, key=scents.get))"
   ]
  },
  {
   "cell_type": "code",
   "execution_count": 23,
   "id": "051488c5-5522-412e-ae96-b7edb070dcc1",
   "metadata": {},
   "outputs": [
    {
     "data": {
      "text/html": [
       "<div>\n",
       "<style scoped>\n",
       "    .dataframe tbody tr th:only-of-type {\n",
       "        vertical-align: middle;\n",
       "    }\n",
       "\n",
       "    .dataframe tbody tr th {\n",
       "        vertical-align: top;\n",
       "    }\n",
       "\n",
       "    .dataframe thead th {\n",
       "        text-align: right;\n",
       "    }\n",
       "</style>\n",
       "<table border=\"1\" class=\"dataframe\">\n",
       "  <thead>\n",
       "    <tr style=\"text-align: right;\">\n",
       "      <th></th>\n",
       "      <th>id</th>\n",
       "      <th>Emotions</th>\n",
       "      <th>Bert_Scents</th>\n",
       "      <th>VADER_Scents</th>\n",
       "    </tr>\n",
       "  </thead>\n",
       "  <tbody>\n",
       "    <tr>\n",
       "      <th>0</th>\n",
       "      <td>1263543063789604865</td>\n",
       "      <td>[[{'label': 'sadness', 'score': 0.009249932132...</td>\n",
       "      <td>[[{'label': 'NEG', 'score': 0.9852299094200134...</td>\n",
       "      <td>{'neg': 0.332, 'neu': 0.668, 'pos': 0.0, 'comp...</td>\n",
       "    </tr>\n",
       "    <tr>\n",
       "      <th>1</th>\n",
       "      <td>1264658166622666754</td>\n",
       "      <td>[[{'label': 'sadness', 'score': 0.133566543459...</td>\n",
       "      <td>[[{'label': 'NEG', 'score': 0.9851841926574707...</td>\n",
       "      <td>{'neg': 0.09, 'neu': 0.761, 'pos': 0.149, 'com...</td>\n",
       "    </tr>\n",
       "    <tr>\n",
       "      <th>2</th>\n",
       "      <td>1265017675740180480</td>\n",
       "      <td>[[{'label': 'sadness', 'score': 0.214517220854...</td>\n",
       "      <td>[[{'label': 'NEG', 'score': 0.9690086245536804...</td>\n",
       "      <td>{'neg': 0.231, 'neu': 0.769, 'pos': 0.0, 'comp...</td>\n",
       "    </tr>\n",
       "    <tr>\n",
       "      <th>3</th>\n",
       "      <td>1264637378603487235</td>\n",
       "      <td>[[{'label': 'sadness', 'score': 0.010946567170...</td>\n",
       "      <td>[[{'label': 'NEG', 'score': 0.5163222551345825...</td>\n",
       "      <td>{'neg': 0.0, 'neu': 1.0, 'pos': 0.0, 'compound...</td>\n",
       "    </tr>\n",
       "    <tr>\n",
       "      <th>4</th>\n",
       "      <td>1262521237273808896</td>\n",
       "      <td>[[{'label': 'sadness', 'score': 0.109045490622...</td>\n",
       "      <td>[[{'label': 'NEG', 'score': 0.0053077568300068...</td>\n",
       "      <td>{'neg': 0.0, 'neu': 1.0, 'pos': 0.0, 'compound...</td>\n",
       "    </tr>\n",
       "  </tbody>\n",
       "</table>\n",
       "</div>"
      ],
      "text/plain": [
       "                    id                                           Emotions  \\\n",
       "0  1263543063789604865  [[{'label': 'sadness', 'score': 0.009249932132...   \n",
       "1  1264658166622666754  [[{'label': 'sadness', 'score': 0.133566543459...   \n",
       "2  1265017675740180480  [[{'label': 'sadness', 'score': 0.214517220854...   \n",
       "3  1264637378603487235  [[{'label': 'sadness', 'score': 0.010946567170...   \n",
       "4  1262521237273808896  [[{'label': 'sadness', 'score': 0.109045490622...   \n",
       "\n",
       "                                         Bert_Scents  \\\n",
       "0  [[{'label': 'NEG', 'score': 0.9852299094200134...   \n",
       "1  [[{'label': 'NEG', 'score': 0.9851841926574707...   \n",
       "2  [[{'label': 'NEG', 'score': 0.9690086245536804...   \n",
       "3  [[{'label': 'NEG', 'score': 0.5163222551345825...   \n",
       "4  [[{'label': 'NEG', 'score': 0.0053077568300068...   \n",
       "\n",
       "                                        VADER_Scents  \n",
       "0  {'neg': 0.332, 'neu': 0.668, 'pos': 0.0, 'comp...  \n",
       "1  {'neg': 0.09, 'neu': 0.761, 'pos': 0.149, 'com...  \n",
       "2  {'neg': 0.231, 'neu': 0.769, 'pos': 0.0, 'comp...  \n",
       "3  {'neg': 0.0, 'neu': 1.0, 'pos': 0.0, 'compound...  \n",
       "4  {'neg': 0.0, 'neu': 1.0, 'pos': 0.0, 'compound...  "
      ]
     },
     "execution_count": 23,
     "metadata": {},
     "output_type": "execute_result"
    }
   ],
   "source": [
    "df_sentiments.head()"
   ]
  },
  {
   "cell_type": "code",
   "execution_count": 24,
   "id": "e0c81868-8e11-4d33-94ed-6481254c1dcd",
   "metadata": {},
   "outputs": [],
   "source": [
    "def Classify_Sentiment(score):\n",
    "    if score >= 0.2:\n",
    "        return 'pos'\n",
    "    elif score <= -0.2: \n",
    "        return 'neg'\n",
    "    else:\n",
    "        return 'neu'"
   ]
  },
  {
   "cell_type": "code",
   "execution_count": 25,
   "id": "5f913adf-fc2c-40fb-9ef7-a0c0111d1128",
   "metadata": {},
   "outputs": [
    {
     "name": "stderr",
     "output_type": "stream",
     "text": [
      "/tmp/ipykernel_28953/309123767.py:1: SettingWithCopyWarning: \n",
      "A value is trying to be set on a copy of a slice from a DataFrame.\n",
      "Try using .loc[row_indexer,col_indexer] = value instead\n",
      "\n",
      "See the caveats in the documentation: https://pandas.pydata.org/pandas-docs/stable/user_guide/indexing.html#returning-a-view-versus-a-copy\n",
      "  df_sentiments['VADER_Sents_Cat'] = df_sentiments['VADER_Scents'].apply(lambda x: Classify_Sentiment(x['compound']))\n"
     ]
    }
   ],
   "source": [
    "df_sentiments['VADER_Sents_Cat'] = df_sentiments['VADER_Scents'].apply(lambda x: Classify_Sentiment(x['compound']))"
   ]
  },
  {
   "cell_type": "code",
   "execution_count": 30,
   "id": "134cf15d-c473-408c-830d-2b3bec4c37d4",
   "metadata": {},
   "outputs": [
    {
     "data": {
      "text/plain": [
       "Index(['index', 'time', 'id', 'text', 'user', 'uid', 'mention_username',\n",
       "       'mention_id', 'mention_realname', 'url', 'expanded_url', 'source',\n",
       "       'in_reply_to_id', 'in_reply_to_uid', 'in_reply_to_username', 'user_loc',\n",
       "       'user_created_at', 'user_follower_count', 'user_favorite_count',\n",
       "       'user_friends_count', 'user_status_count', 'user_listed_count',\n",
       "       'user_description', 'user_geo_enabled', 'user_verified', 'lang', 'rtb',\n",
       "       'mentioncheck', 'replycheck', 'month', 'week', 'Emotions',\n",
       "       'Bert_Scents', 'VADER_Scents'],\n",
       "      dtype='object')"
      ]
     },
     "execution_count": 30,
     "metadata": {},
     "output_type": "execute_result"
    }
   ],
   "source": [
    "df.columns"
   ]
  },
  {
   "cell_type": "code",
   "execution_count": 28,
   "id": "4c0f3eb6-0cd1-4fa6-99f9-69483c05c5f0",
   "metadata": {},
   "outputs": [
    {
     "ename": "ValueError",
     "evalue": "Could not interpret input 'Highest_Emotion'",
     "output_type": "error",
     "traceback": [
      "\u001b[0;31m---------------------------------------------------------------------------\u001b[0m",
      "\u001b[0;31mValueError\u001b[0m                                Traceback (most recent call last)",
      "\u001b[0;32m/tmp/ipykernel_28953/1565004437.py\u001b[0m in \u001b[0;36m<module>\u001b[0;34m\u001b[0m\n\u001b[1;32m      4\u001b[0m \u001b[0mplt\u001b[0m\u001b[0;34m.\u001b[0m\u001b[0mtitle\u001b[0m\u001b[0;34m(\u001b[0m\u001b[0;34m'Bar Plot of Catagorical Emotions for Each Tweet'\u001b[0m\u001b[0;34m)\u001b[0m\u001b[0;34m\u001b[0m\u001b[0;34m\u001b[0m\u001b[0m\n\u001b[1;32m      5\u001b[0m \u001b[0mplt\u001b[0m\u001b[0;34m.\u001b[0m\u001b[0mxlabel\u001b[0m\u001b[0;34m(\u001b[0m\u001b[0;34m'Highest Probability Emotion'\u001b[0m\u001b[0;34m)\u001b[0m\u001b[0;34m\u001b[0m\u001b[0;34m\u001b[0m\u001b[0m\n\u001b[0;32m----> 6\u001b[0;31m \u001b[0msns\u001b[0m\u001b[0;34m.\u001b[0m\u001b[0mcountplot\u001b[0m\u001b[0;34m(\u001b[0m\u001b[0mdata\u001b[0m\u001b[0;34m=\u001b[0m\u001b[0mdf\u001b[0m\u001b[0;34m,\u001b[0m \u001b[0mx\u001b[0m\u001b[0;34m=\u001b[0m\u001b[0;34m'Highest_Emotion'\u001b[0m\u001b[0;34m,\u001b[0m\u001b[0mpalette\u001b[0m\u001b[0;34m=\u001b[0m\u001b[0;34m'mako'\u001b[0m\u001b[0;34m)\u001b[0m\u001b[0;34m\u001b[0m\u001b[0;34m\u001b[0m\u001b[0m\n\u001b[0m",
      "\u001b[0;32m/opt/conda/lib/python3.9/site-packages/seaborn/_decorators.py\u001b[0m in \u001b[0;36minner_f\u001b[0;34m(*args, **kwargs)\u001b[0m\n\u001b[1;32m     44\u001b[0m             )\n\u001b[1;32m     45\u001b[0m         \u001b[0mkwargs\u001b[0m\u001b[0;34m.\u001b[0m\u001b[0mupdate\u001b[0m\u001b[0;34m(\u001b[0m\u001b[0;34m{\u001b[0m\u001b[0mk\u001b[0m\u001b[0;34m:\u001b[0m \u001b[0marg\u001b[0m \u001b[0;32mfor\u001b[0m \u001b[0mk\u001b[0m\u001b[0;34m,\u001b[0m \u001b[0marg\u001b[0m \u001b[0;32min\u001b[0m \u001b[0mzip\u001b[0m\u001b[0;34m(\u001b[0m\u001b[0msig\u001b[0m\u001b[0;34m.\u001b[0m\u001b[0mparameters\u001b[0m\u001b[0;34m,\u001b[0m \u001b[0margs\u001b[0m\u001b[0;34m)\u001b[0m\u001b[0;34m}\u001b[0m\u001b[0;34m)\u001b[0m\u001b[0;34m\u001b[0m\u001b[0;34m\u001b[0m\u001b[0m\n\u001b[0;32m---> 46\u001b[0;31m         \u001b[0;32mreturn\u001b[0m \u001b[0mf\u001b[0m\u001b[0;34m(\u001b[0m\u001b[0;34m**\u001b[0m\u001b[0mkwargs\u001b[0m\u001b[0;34m)\u001b[0m\u001b[0;34m\u001b[0m\u001b[0;34m\u001b[0m\u001b[0m\n\u001b[0m\u001b[1;32m     47\u001b[0m     \u001b[0;32mreturn\u001b[0m \u001b[0minner_f\u001b[0m\u001b[0;34m\u001b[0m\u001b[0;34m\u001b[0m\u001b[0m\n\u001b[1;32m     48\u001b[0m \u001b[0;34m\u001b[0m\u001b[0m\n",
      "\u001b[0;32m/opt/conda/lib/python3.9/site-packages/seaborn/categorical.py\u001b[0m in \u001b[0;36mcountplot\u001b[0;34m(x, y, hue, data, order, hue_order, orient, color, palette, saturation, dodge, ax, **kwargs)\u001b[0m\n\u001b[1;32m   3596\u001b[0m         \u001b[0;32mraise\u001b[0m \u001b[0mValueError\u001b[0m\u001b[0;34m(\u001b[0m\u001b[0;34m\"Cannot pass values for both `x` and `y`\"\u001b[0m\u001b[0;34m)\u001b[0m\u001b[0;34m\u001b[0m\u001b[0;34m\u001b[0m\u001b[0m\n\u001b[1;32m   3597\u001b[0m \u001b[0;34m\u001b[0m\u001b[0m\n\u001b[0;32m-> 3598\u001b[0;31m     plotter = _CountPlotter(\n\u001b[0m\u001b[1;32m   3599\u001b[0m         \u001b[0mx\u001b[0m\u001b[0;34m,\u001b[0m \u001b[0my\u001b[0m\u001b[0;34m,\u001b[0m \u001b[0mhue\u001b[0m\u001b[0;34m,\u001b[0m \u001b[0mdata\u001b[0m\u001b[0;34m,\u001b[0m \u001b[0morder\u001b[0m\u001b[0;34m,\u001b[0m \u001b[0mhue_order\u001b[0m\u001b[0;34m,\u001b[0m\u001b[0;34m\u001b[0m\u001b[0;34m\u001b[0m\u001b[0m\n\u001b[1;32m   3600\u001b[0m         \u001b[0mestimator\u001b[0m\u001b[0;34m,\u001b[0m \u001b[0mci\u001b[0m\u001b[0;34m,\u001b[0m \u001b[0mn_boot\u001b[0m\u001b[0;34m,\u001b[0m \u001b[0munits\u001b[0m\u001b[0;34m,\u001b[0m \u001b[0mseed\u001b[0m\u001b[0;34m,\u001b[0m\u001b[0;34m\u001b[0m\u001b[0;34m\u001b[0m\u001b[0m\n",
      "\u001b[0;32m/opt/conda/lib/python3.9/site-packages/seaborn/categorical.py\u001b[0m in \u001b[0;36m__init__\u001b[0;34m(self, x, y, hue, data, order, hue_order, estimator, ci, n_boot, units, seed, orient, color, palette, saturation, errcolor, errwidth, capsize, dodge)\u001b[0m\n\u001b[1;32m   1582\u001b[0m                  errwidth, capsize, dodge):\n\u001b[1;32m   1583\u001b[0m         \u001b[0;34m\"\"\"Initialize the plotter.\"\"\"\u001b[0m\u001b[0;34m\u001b[0m\u001b[0;34m\u001b[0m\u001b[0m\n\u001b[0;32m-> 1584\u001b[0;31m         self.establish_variables(x, y, hue, data, orient,\n\u001b[0m\u001b[1;32m   1585\u001b[0m                                  order, hue_order, units)\n\u001b[1;32m   1586\u001b[0m         \u001b[0mself\u001b[0m\u001b[0;34m.\u001b[0m\u001b[0mestablish_colors\u001b[0m\u001b[0;34m(\u001b[0m\u001b[0mcolor\u001b[0m\u001b[0;34m,\u001b[0m \u001b[0mpalette\u001b[0m\u001b[0;34m,\u001b[0m \u001b[0msaturation\u001b[0m\u001b[0;34m)\u001b[0m\u001b[0;34m\u001b[0m\u001b[0;34m\u001b[0m\u001b[0m\n",
      "\u001b[0;32m/opt/conda/lib/python3.9/site-packages/seaborn/categorical.py\u001b[0m in \u001b[0;36mestablish_variables\u001b[0;34m(self, x, y, hue, data, orient, order, hue_order, units)\u001b[0m\n\u001b[1;32m    151\u001b[0m                 \u001b[0;32mif\u001b[0m \u001b[0misinstance\u001b[0m\u001b[0;34m(\u001b[0m\u001b[0mvar\u001b[0m\u001b[0;34m,\u001b[0m \u001b[0mstr\u001b[0m\u001b[0;34m)\u001b[0m\u001b[0;34m:\u001b[0m\u001b[0;34m\u001b[0m\u001b[0;34m\u001b[0m\u001b[0m\n\u001b[1;32m    152\u001b[0m                     \u001b[0merr\u001b[0m \u001b[0;34m=\u001b[0m \u001b[0;34m\"Could not interpret input '{}'\"\u001b[0m\u001b[0;34m.\u001b[0m\u001b[0mformat\u001b[0m\u001b[0;34m(\u001b[0m\u001b[0mvar\u001b[0m\u001b[0;34m)\u001b[0m\u001b[0;34m\u001b[0m\u001b[0;34m\u001b[0m\u001b[0m\n\u001b[0;32m--> 153\u001b[0;31m                     \u001b[0;32mraise\u001b[0m \u001b[0mValueError\u001b[0m\u001b[0;34m(\u001b[0m\u001b[0merr\u001b[0m\u001b[0;34m)\u001b[0m\u001b[0;34m\u001b[0m\u001b[0;34m\u001b[0m\u001b[0m\n\u001b[0m\u001b[1;32m    154\u001b[0m \u001b[0;34m\u001b[0m\u001b[0m\n\u001b[1;32m    155\u001b[0m             \u001b[0;31m# Figure out the plotting orientation\u001b[0m\u001b[0;34m\u001b[0m\u001b[0;34m\u001b[0m\u001b[0m\n",
      "\u001b[0;31mValueError\u001b[0m: Could not interpret input 'Highest_Emotion'"
     ]
    },
    {
     "data": {
      "image/png": "[encoded data removed]",
      "text/plain": [
       "<Figure size 864x576 with 1 Axes>"
      ]
     },
     "metadata": {
      "needs_background": "light"
     },
     "output_type": "display_data"
    }
   ],
   "source": [
    "# Now that I have categorical variables for each of these metics I will make some bar charts\n",
    "# 1) Emotions\n",
    "plt.figure(figsize=(12,8))\n",
    "plt.title('Bar Plot of Catagorical Emotions for Each Tweet')\n",
    "plt.xlabel('Highest Probability Emotion')\n",
    "sns.countplot(data=df, x='Highest_Emotion',palette='mako')"
   ]
  },
  {
   "cell_type": "code",
   "execution_count": null,
   "id": "c43ea5eb-bc1c-4a30-b945-ac064337f8fd",
   "metadata": {},
   "outputs": [],
   "source": [
    "# 2) Bert Sentiments\n",
    "plt.figure(figsize=(12,8))\n",
    "plt.title('Bar Plot of Catagorical Bert Sentiments for Each Tweet (Shortened)')\n",
    "sns.countplot(data=df_sentiments, y='Bert_Scents', order=['neu','pos','neg'],palette='mako')"
   ]
  },
  {
   "cell_type": "code",
   "execution_count": 31,
   "id": "cfd31e7f-ef8e-4785-ba1b-48737da6a79b",
   "metadata": {},
   "outputs": [
    {
     "data": {
      "text/plain": [
       "<AxesSubplot:title={'center':'Bar Plot of Catagorical VADER Sentiments for Each Tweet'}, xlabel='count', ylabel='VADER_Sents_Cat'>"
      ]
     },
     "execution_count": 31,
     "metadata": {},
     "output_type": "execute_result"
    },
    {
     "data": {
      "image/png": "[encoded data removed]",
      "text/plain": [
       "<Figure size 864x576 with 1 Axes>"
      ]
     },
     "metadata": {
      "needs_background": "light"
     },
     "output_type": "display_data"
    }
   ],
   "source": [
    "# 2) VADER Sentiments\n",
    "plt.figure(figsize=(12,8))\n",
    "plt.title('Bar Plot of Catagorical VADER Sentiments for Each Tweet')\n",
    "sns.countplot(data=df_sentiments, y='VADER_Sents_Cat', order=['neu','pos','neg'], palette='mako')"
   ]
  },
  {
   "cell_type": "code",
   "execution_count": 32,
   "id": "c7bee401-524b-4fd9-b087-c590be104398",
   "metadata": {},
   "outputs": [],
   "source": [
    "df = df.merge(df_sentiments, on='id')"
   ]
  },
  {
   "cell_type": "code",
   "execution_count": null,
   "id": "757db3b6-7998-4835-b792-b3179656586b",
   "metadata": {},
   "outputs": [],
   "source": []
  },
  {
   "cell_type": "code",
   "execution_count": 33,
   "id": "da25b970-c388-4488-bdcb-e948a92a2145",
   "metadata": {},
   "outputs": [],
   "source": [
    "#df.to_csv('/notebooks/evanc/KoReCOVID/resources/SampleWithEmotionsPol5.csv')"
   ]
  },
  {
   "cell_type": "code",
   "execution_count": 34,
   "id": "1fcd3061-1674-49a5-aae9-4023f0a48910",
   "metadata": {},
   "outputs": [
    {
     "ename": "NameError",
     "evalue": "name 'SentClassify' is not defined",
     "output_type": "error",
     "traceback": [
      "\u001b[0;31m---------------------------------------------------------------------------\u001b[0m",
      "\u001b[0;31mNameError\u001b[0m                                 Traceback (most recent call last)",
      "\u001b[0;32m/tmp/ipykernel_28953/3380534890.py\u001b[0m in \u001b[0;36m<module>\u001b[0;34m\u001b[0m\n\u001b[0;32m----> 1\u001b[0;31m \u001b[0mdf\u001b[0m\u001b[0;34m[\u001b[0m\u001b[0;34m'text'\u001b[0m\u001b[0;34m]\u001b[0m\u001b[0;34m.\u001b[0m\u001b[0mapply\u001b[0m\u001b[0;34m(\u001b[0m\u001b[0;32mlambda\u001b[0m \u001b[0mtext\u001b[0m\u001b[0;34m:\u001b[0m \u001b[0mSentClassify\u001b[0m\u001b[0;34m.\u001b[0m\u001b[0mtokenizer\u001b[0m\u001b[0;34m.\u001b[0m\u001b[0mtokenize\u001b[0m\u001b[0;34m(\u001b[0m\u001b[0mtext\u001b[0m\u001b[0;34m)\u001b[0m\u001b[0;34m)\u001b[0m\u001b[0;34m[\u001b[0m\u001b[0;36m1\u001b[0m\u001b[0;34m]\u001b[0m\u001b[0;34m\u001b[0m\u001b[0;34m\u001b[0m\u001b[0m\n\u001b[0m",
      "\u001b[0;32m/opt/conda/lib/python3.9/site-packages/pandas/core/series.py\u001b[0m in \u001b[0;36mapply\u001b[0;34m(self, func, convert_dtype, args, **kwargs)\u001b[0m\n\u001b[1;32m   4355\u001b[0m         \u001b[0mdtype\u001b[0m\u001b[0;34m:\u001b[0m \u001b[0mfloat64\u001b[0m\u001b[0;34m\u001b[0m\u001b[0;34m\u001b[0m\u001b[0m\n\u001b[1;32m   4356\u001b[0m         \"\"\"\n\u001b[0;32m-> 4357\u001b[0;31m         \u001b[0;32mreturn\u001b[0m \u001b[0mSeriesApply\u001b[0m\u001b[0;34m(\u001b[0m\u001b[0mself\u001b[0m\u001b[0;34m,\u001b[0m \u001b[0mfunc\u001b[0m\u001b[0;34m,\u001b[0m \u001b[0mconvert_dtype\u001b[0m\u001b[0;34m,\u001b[0m \u001b[0margs\u001b[0m\u001b[0;34m,\u001b[0m \u001b[0mkwargs\u001b[0m\u001b[0;34m)\u001b[0m\u001b[0;34m.\u001b[0m\u001b[0mapply\u001b[0m\u001b[0;34m(\u001b[0m\u001b[0;34m)\u001b[0m\u001b[0;34m\u001b[0m\u001b[0;34m\u001b[0m\u001b[0m\n\u001b[0m\u001b[1;32m   4358\u001b[0m \u001b[0;34m\u001b[0m\u001b[0m\n\u001b[1;32m   4359\u001b[0m     def _reduce(\n",
      "\u001b[0;32m/opt/conda/lib/python3.9/site-packages/pandas/core/apply.py\u001b[0m in \u001b[0;36mapply\u001b[0;34m(self)\u001b[0m\n\u001b[1;32m   1041\u001b[0m             \u001b[0;32mreturn\u001b[0m \u001b[0mself\u001b[0m\u001b[0;34m.\u001b[0m\u001b[0mapply_str\u001b[0m\u001b[0;34m(\u001b[0m\u001b[0;34m)\u001b[0m\u001b[0;34m\u001b[0m\u001b[0;34m\u001b[0m\u001b[0m\n\u001b[1;32m   1042\u001b[0m \u001b[0;34m\u001b[0m\u001b[0m\n\u001b[0;32m-> 1043\u001b[0;31m         \u001b[0;32mreturn\u001b[0m \u001b[0mself\u001b[0m\u001b[0;34m.\u001b[0m\u001b[0mapply_standard\u001b[0m\u001b[0;34m(\u001b[0m\u001b[0;34m)\u001b[0m\u001b[0;34m\u001b[0m\u001b[0;34m\u001b[0m\u001b[0m\n\u001b[0m\u001b[1;32m   1044\u001b[0m \u001b[0;34m\u001b[0m\u001b[0m\n\u001b[1;32m   1045\u001b[0m     \u001b[0;32mdef\u001b[0m \u001b[0magg\u001b[0m\u001b[0;34m(\u001b[0m\u001b[0mself\u001b[0m\u001b[0;34m)\u001b[0m\u001b[0;34m:\u001b[0m\u001b[0;34m\u001b[0m\u001b[0;34m\u001b[0m\u001b[0m\n",
      "\u001b[0;32m/opt/conda/lib/python3.9/site-packages/pandas/core/apply.py\u001b[0m in \u001b[0;36mapply_standard\u001b[0;34m(self)\u001b[0m\n\u001b[1;32m   1096\u001b[0m                 \u001b[0;31m# List[Union[Callable[..., Any], str]]]]]\"; expected\u001b[0m\u001b[0;34m\u001b[0m\u001b[0;34m\u001b[0m\u001b[0m\n\u001b[1;32m   1097\u001b[0m                 \u001b[0;31m# \"Callable[[Any], Any]\"\u001b[0m\u001b[0;34m\u001b[0m\u001b[0;34m\u001b[0m\u001b[0m\n\u001b[0;32m-> 1098\u001b[0;31m                 mapped = lib.map_infer(\n\u001b[0m\u001b[1;32m   1099\u001b[0m                     \u001b[0mvalues\u001b[0m\u001b[0;34m,\u001b[0m\u001b[0;34m\u001b[0m\u001b[0;34m\u001b[0m\u001b[0m\n\u001b[1;32m   1100\u001b[0m                     \u001b[0mf\u001b[0m\u001b[0;34m,\u001b[0m  \u001b[0;31m# type: ignore[arg-type]\u001b[0m\u001b[0;34m\u001b[0m\u001b[0;34m\u001b[0m\u001b[0m\n",
      "\u001b[0;32m/opt/conda/lib/python3.9/site-packages/pandas/_libs/lib.pyx\u001b[0m in \u001b[0;36mpandas._libs.lib.map_infer\u001b[0;34m()\u001b[0m\n",
      "\u001b[0;32m/tmp/ipykernel_28953/3380534890.py\u001b[0m in \u001b[0;36m<lambda>\u001b[0;34m(text)\u001b[0m\n\u001b[0;32m----> 1\u001b[0;31m \u001b[0mdf\u001b[0m\u001b[0;34m[\u001b[0m\u001b[0;34m'text'\u001b[0m\u001b[0;34m]\u001b[0m\u001b[0;34m.\u001b[0m\u001b[0mapply\u001b[0m\u001b[0;34m(\u001b[0m\u001b[0;32mlambda\u001b[0m \u001b[0mtext\u001b[0m\u001b[0;34m:\u001b[0m \u001b[0mSentClassify\u001b[0m\u001b[0;34m.\u001b[0m\u001b[0mtokenizer\u001b[0m\u001b[0;34m.\u001b[0m\u001b[0mtokenize\u001b[0m\u001b[0;34m(\u001b[0m\u001b[0mtext\u001b[0m\u001b[0;34m)\u001b[0m\u001b[0;34m)\u001b[0m\u001b[0;34m[\u001b[0m\u001b[0;36m1\u001b[0m\u001b[0;34m]\u001b[0m\u001b[0;34m\u001b[0m\u001b[0;34m\u001b[0m\u001b[0m\n\u001b[0m",
      "\u001b[0;31mNameError\u001b[0m: name 'SentClassify' is not defined"
     ]
    }
   ],
   "source": [
    "df['text'].apply(lambda text: SentClassify.tokenizer.tokenize(text))[1]"
   ]
  },
  {
   "cell_type": "code",
   "execution_count": null,
   "id": "f2dd5c03-0b7b-47d4-9700-1378f0e092f7",
   "metadata": {},
   "outputs": [],
   "source": [
    "print(SentClassify('I am so angry'))\n",
    "print(SentClassify('I am so angry!'))\n",
    "print(SentClassify('I am so angry😡'))"
   ]
  },
  {
   "cell_type": "code",
   "execution_count": null,
   "id": "b71edc59-8a9e-4cec-96ba-d01f5a1a121f",
   "metadata": {},
   "outputs": [],
   "source": [
    "print(sid.polarity_scores('I am so angry'))\n",
    "print(sid.polarity_scores('I am so angry!'))\n",
    "print(sid.polarity_scores('I am so angry😡'))"
   ]
  },
  {
   "cell_type": "code",
   "execution_count": null,
   "id": "e0cb20a3-b4ec-491e-9248-6ec432500db0",
   "metadata": {},
   "outputs": [],
   "source": [
    "df_sentiments['comp'] = df_sentiments.VADER_Scents.apply(lambda x : x['compound'])"
   ]
  },
  {
   "cell_type": "code",
   "execution_count": null,
   "id": "db7bacc1-b5d0-483a-bef9-c69aa47d3146",
   "metadata": {},
   "outputs": [],
   "source": [
    "sns.histplot(df_sentiments['comp'])"
   ]
  },
  {
   "cell_type": "code",
   "execution_count": null,
   "id": "c42719d8-e001-4d1a-bcfc-1eaae5a3d611",
   "metadata": {},
   "outputs": [],
   "source": [
    "df_sentiments['comp'].value_counts()"
   ]
  },
  {
   "cell_type": "code",
   "execution_count": null,
   "id": "2ae10747-5fb0-458e-a50f-d37eef9145ec",
   "metadata": {},
   "outputs": [],
   "source": [
    "df.merge(df_sentiments[df_sentiments['comp'] == 0], on='id')['text'][1]"
   ]
  },
  {
   "cell_type": "code",
   "execution_count": null,
   "id": "2635cffa-d9bb-4de4-aa2a-65dba989f101",
   "metadata": {},
   "outputs": [],
   "source": [
    "sid.polarity_scores('overblown in an attempt to grab power.')"
   ]
  },
  {
   "cell_type": "code",
   "execution_count": null,
   "id": "51e6a4ea-1ab4-4c95-90e4-313965ab5410",
   "metadata": {},
   "outputs": [],
   "source": []
  }
 ],
 "metadata": {
  "kernelspec": {
   "display_name": "Python 3 (ipykernel)",
   "language": "python",
   "name": "python3"
  },
  "language_info": {
   "codemirror_mode": {
    "name": "ipython",
    "version": 3
   },
   "file_extension": ".py",
   "mimetype": "text/x-python",
   "name": "python",
   "nbconvert_exporter": "python",
   "pygments_lexer": "ipython3",
   "version": "3.9.7"
  }
 },
 "nbformat": 4,
 "nbformat_minor": 5
}
